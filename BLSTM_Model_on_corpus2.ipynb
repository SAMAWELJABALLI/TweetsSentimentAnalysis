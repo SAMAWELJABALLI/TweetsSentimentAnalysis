{
  "nbformat": 4,
  "nbformat_minor": 0,
  "metadata": {
    "colab": {
      "name": "BLSTM_Model_on_corpus2.ipynb",
      "provenance": [],
      "collapsed_sections": [],
      "authorship_tag": "ABX9TyNXoLW3//CZQrUDd/s8VQll",
      "include_colab_link": true
    },
    "kernelspec": {
      "name": "python3",
      "display_name": "Python 3"
    },
    "language_info": {
      "name": "python"
    },
    "accelerator": "GPU"
  },
  "cells": [
    {
      "cell_type": "markdown",
      "metadata": {
        "id": "view-in-github",
        "colab_type": "text"
      },
      "source": [
        "<a href=\"https://colab.research.google.com/github/SAMAWELJABALLI/TweetsSentimentAnalysis/blob/main/BLSTM_Model_on_corpus2.ipynb\" target=\"_parent\"><img src=\"https://colab.research.google.com/assets/colab-badge.svg\" alt=\"Open In Colab\"/></a>"
      ]
    },
    {
      "cell_type": "code",
      "metadata": {
        "colab": {
          "base_uri": "https://localhost:8080/",
          "height": 467
        },
        "id": "MPj402Wbtw41",
        "outputId": "d714076d-3ebc-4471-f1ad-3bd31b8c5c59"
      },
      "source": [
        "# This Python 3 environment comes with many helpful analytics libraries installed\n",
        "# It is defined by the kaggle/python docker image: https://github.com/kaggle/docker-python\n",
        "# For example, here's several helpful packages to load in \n",
        "\n",
        "import numpy as np # linear algebra\n",
        "import pandas as pd # data processing, CSV file I/O (e.g. pd.read_csv)\n",
        "from sklearn.utils import resample\n",
        "    \n",
        "from sklearn.feature_extraction.text import CountVectorizer\n",
        "from keras.preprocessing.text import Tokenizer\n",
        "from keras.preprocessing.sequence import pad_sequences\n",
        "from keras.models import Sequential\n",
        "from keras.layers import Dense, Embedding, LSTM, SpatialDropout1D\n",
        "from sklearn.model_selection import train_test_split\n",
        "from keras.utils.np_utils import to_categorical\n",
        "import re\n",
        "from keras.callbacks import ModelCheckpoint\n",
        "import tensorflow as tf\n",
        "from keras.models import load_model\n",
        "\n",
        "from keras.preprocessing.text import Tokenizer\n",
        "from keras.preprocessing.sequence import pad_sequences\n",
        "from keras.layers import Dense , Input , LSTM , Embedding, Dropout , Activation, GRU, Flatten\n",
        "from keras.layers import Bidirectional, GlobalMaxPool1D\n",
        "from keras.models import Model, Sequential\n",
        "from keras.layers import Convolution1D\n",
        "from keras import initializers, regularizers, constraints, optimizers, layers\n",
        "# Input data files are available in the \"../input/\" directory.\n",
        "# For example, running this (by clicking run or pressing Shift+Enter) will list the files in the input directory\n",
        "# Load data and set labels from corpus 1 \n",
        "header_list = [ \"label\", \"text_clean\"]\n",
        "data = pd.read_csv('/content/TUNIZI-Dataset.txt',sep=';')\n",
        "# Display 20 random samples\n",
        "print(f'Shape of data is {data.shape}')\n",
        "data.sample(20)"
      ],
      "execution_count": 2,
      "outputs": [
        {
          "output_type": "error",
          "ename": "FileNotFoundError",
          "evalue": "ignored",
          "traceback": [
            "\u001b[0;31m---------------------------------------------------------------------------\u001b[0m",
            "\u001b[0;31mFileNotFoundError\u001b[0m                         Traceback (most recent call last)",
            "\u001b[0;32m<ipython-input-2-5a96eb11e72b>\u001b[0m in \u001b[0;36m<module>\u001b[0;34m()\u001b[0m\n\u001b[1;32m     30\u001b[0m \u001b[0;31m# Load data and set labels from corpus 1\u001b[0m\u001b[0;34m\u001b[0m\u001b[0;34m\u001b[0m\u001b[0;34m\u001b[0m\u001b[0m\n\u001b[1;32m     31\u001b[0m \u001b[0mheader_list\u001b[0m \u001b[0;34m=\u001b[0m \u001b[0;34m[\u001b[0m \u001b[0;34m\"label\"\u001b[0m\u001b[0;34m,\u001b[0m \u001b[0;34m\"text_clean\"\u001b[0m\u001b[0;34m]\u001b[0m\u001b[0;34m\u001b[0m\u001b[0;34m\u001b[0m\u001b[0m\n\u001b[0;32m---> 32\u001b[0;31m \u001b[0mdata\u001b[0m \u001b[0;34m=\u001b[0m \u001b[0mpd\u001b[0m\u001b[0;34m.\u001b[0m\u001b[0mread_csv\u001b[0m\u001b[0;34m(\u001b[0m\u001b[0;34m'/content/TUNIZI-Dataset.txt'\u001b[0m\u001b[0;34m,\u001b[0m\u001b[0msep\u001b[0m\u001b[0;34m=\u001b[0m\u001b[0;34m';'\u001b[0m\u001b[0;34m)\u001b[0m\u001b[0;34m\u001b[0m\u001b[0;34m\u001b[0m\u001b[0m\n\u001b[0m\u001b[1;32m     33\u001b[0m \u001b[0;31m# Display 20 random samples\u001b[0m\u001b[0;34m\u001b[0m\u001b[0;34m\u001b[0m\u001b[0;34m\u001b[0m\u001b[0m\n\u001b[1;32m     34\u001b[0m \u001b[0mprint\u001b[0m\u001b[0;34m(\u001b[0m\u001b[0;34mf'Shape of data is {data.shape}'\u001b[0m\u001b[0;34m)\u001b[0m\u001b[0;34m\u001b[0m\u001b[0;34m\u001b[0m\u001b[0m\n",
            "\u001b[0;32m/usr/local/lib/python3.7/dist-packages/pandas/io/parsers.py\u001b[0m in \u001b[0;36mread_csv\u001b[0;34m(filepath_or_buffer, sep, delimiter, header, names, index_col, usecols, squeeze, prefix, mangle_dupe_cols, dtype, engine, converters, true_values, false_values, skipinitialspace, skiprows, skipfooter, nrows, na_values, keep_default_na, na_filter, verbose, skip_blank_lines, parse_dates, infer_datetime_format, keep_date_col, date_parser, dayfirst, cache_dates, iterator, chunksize, compression, thousands, decimal, lineterminator, quotechar, quoting, doublequote, escapechar, comment, encoding, dialect, error_bad_lines, warn_bad_lines, delim_whitespace, low_memory, memory_map, float_precision)\u001b[0m\n\u001b[1;32m    686\u001b[0m     )\n\u001b[1;32m    687\u001b[0m \u001b[0;34m\u001b[0m\u001b[0m\n\u001b[0;32m--> 688\u001b[0;31m     \u001b[0;32mreturn\u001b[0m \u001b[0m_read\u001b[0m\u001b[0;34m(\u001b[0m\u001b[0mfilepath_or_buffer\u001b[0m\u001b[0;34m,\u001b[0m \u001b[0mkwds\u001b[0m\u001b[0;34m)\u001b[0m\u001b[0;34m\u001b[0m\u001b[0;34m\u001b[0m\u001b[0m\n\u001b[0m\u001b[1;32m    689\u001b[0m \u001b[0;34m\u001b[0m\u001b[0m\n\u001b[1;32m    690\u001b[0m \u001b[0;34m\u001b[0m\u001b[0m\n",
            "\u001b[0;32m/usr/local/lib/python3.7/dist-packages/pandas/io/parsers.py\u001b[0m in \u001b[0;36m_read\u001b[0;34m(filepath_or_buffer, kwds)\u001b[0m\n\u001b[1;32m    452\u001b[0m \u001b[0;34m\u001b[0m\u001b[0m\n\u001b[1;32m    453\u001b[0m     \u001b[0;31m# Create the parser.\u001b[0m\u001b[0;34m\u001b[0m\u001b[0;34m\u001b[0m\u001b[0;34m\u001b[0m\u001b[0m\n\u001b[0;32m--> 454\u001b[0;31m     \u001b[0mparser\u001b[0m \u001b[0;34m=\u001b[0m \u001b[0mTextFileReader\u001b[0m\u001b[0;34m(\u001b[0m\u001b[0mfp_or_buf\u001b[0m\u001b[0;34m,\u001b[0m \u001b[0;34m**\u001b[0m\u001b[0mkwds\u001b[0m\u001b[0;34m)\u001b[0m\u001b[0;34m\u001b[0m\u001b[0;34m\u001b[0m\u001b[0m\n\u001b[0m\u001b[1;32m    455\u001b[0m \u001b[0;34m\u001b[0m\u001b[0m\n\u001b[1;32m    456\u001b[0m     \u001b[0;32mif\u001b[0m \u001b[0mchunksize\u001b[0m \u001b[0;32mor\u001b[0m \u001b[0miterator\u001b[0m\u001b[0;34m:\u001b[0m\u001b[0;34m\u001b[0m\u001b[0;34m\u001b[0m\u001b[0m\n",
            "\u001b[0;32m/usr/local/lib/python3.7/dist-packages/pandas/io/parsers.py\u001b[0m in \u001b[0;36m__init__\u001b[0;34m(self, f, engine, **kwds)\u001b[0m\n\u001b[1;32m    946\u001b[0m             \u001b[0mself\u001b[0m\u001b[0;34m.\u001b[0m\u001b[0moptions\u001b[0m\u001b[0;34m[\u001b[0m\u001b[0;34m\"has_index_names\"\u001b[0m\u001b[0;34m]\u001b[0m \u001b[0;34m=\u001b[0m \u001b[0mkwds\u001b[0m\u001b[0;34m[\u001b[0m\u001b[0;34m\"has_index_names\"\u001b[0m\u001b[0;34m]\u001b[0m\u001b[0;34m\u001b[0m\u001b[0;34m\u001b[0m\u001b[0m\n\u001b[1;32m    947\u001b[0m \u001b[0;34m\u001b[0m\u001b[0m\n\u001b[0;32m--> 948\u001b[0;31m         \u001b[0mself\u001b[0m\u001b[0;34m.\u001b[0m\u001b[0m_make_engine\u001b[0m\u001b[0;34m(\u001b[0m\u001b[0mself\u001b[0m\u001b[0;34m.\u001b[0m\u001b[0mengine\u001b[0m\u001b[0;34m)\u001b[0m\u001b[0;34m\u001b[0m\u001b[0;34m\u001b[0m\u001b[0m\n\u001b[0m\u001b[1;32m    949\u001b[0m \u001b[0;34m\u001b[0m\u001b[0m\n\u001b[1;32m    950\u001b[0m     \u001b[0;32mdef\u001b[0m \u001b[0mclose\u001b[0m\u001b[0;34m(\u001b[0m\u001b[0mself\u001b[0m\u001b[0;34m)\u001b[0m\u001b[0;34m:\u001b[0m\u001b[0;34m\u001b[0m\u001b[0;34m\u001b[0m\u001b[0m\n",
            "\u001b[0;32m/usr/local/lib/python3.7/dist-packages/pandas/io/parsers.py\u001b[0m in \u001b[0;36m_make_engine\u001b[0;34m(self, engine)\u001b[0m\n\u001b[1;32m   1178\u001b[0m     \u001b[0;32mdef\u001b[0m \u001b[0m_make_engine\u001b[0m\u001b[0;34m(\u001b[0m\u001b[0mself\u001b[0m\u001b[0;34m,\u001b[0m \u001b[0mengine\u001b[0m\u001b[0;34m=\u001b[0m\u001b[0;34m\"c\"\u001b[0m\u001b[0;34m)\u001b[0m\u001b[0;34m:\u001b[0m\u001b[0;34m\u001b[0m\u001b[0;34m\u001b[0m\u001b[0m\n\u001b[1;32m   1179\u001b[0m         \u001b[0;32mif\u001b[0m \u001b[0mengine\u001b[0m \u001b[0;34m==\u001b[0m \u001b[0;34m\"c\"\u001b[0m\u001b[0;34m:\u001b[0m\u001b[0;34m\u001b[0m\u001b[0;34m\u001b[0m\u001b[0m\n\u001b[0;32m-> 1180\u001b[0;31m             \u001b[0mself\u001b[0m\u001b[0;34m.\u001b[0m\u001b[0m_engine\u001b[0m \u001b[0;34m=\u001b[0m \u001b[0mCParserWrapper\u001b[0m\u001b[0;34m(\u001b[0m\u001b[0mself\u001b[0m\u001b[0;34m.\u001b[0m\u001b[0mf\u001b[0m\u001b[0;34m,\u001b[0m \u001b[0;34m**\u001b[0m\u001b[0mself\u001b[0m\u001b[0;34m.\u001b[0m\u001b[0moptions\u001b[0m\u001b[0;34m)\u001b[0m\u001b[0;34m\u001b[0m\u001b[0;34m\u001b[0m\u001b[0m\n\u001b[0m\u001b[1;32m   1181\u001b[0m         \u001b[0;32melse\u001b[0m\u001b[0;34m:\u001b[0m\u001b[0;34m\u001b[0m\u001b[0;34m\u001b[0m\u001b[0m\n\u001b[1;32m   1182\u001b[0m             \u001b[0;32mif\u001b[0m \u001b[0mengine\u001b[0m \u001b[0;34m==\u001b[0m \u001b[0;34m\"python\"\u001b[0m\u001b[0;34m:\u001b[0m\u001b[0;34m\u001b[0m\u001b[0;34m\u001b[0m\u001b[0m\n",
            "\u001b[0;32m/usr/local/lib/python3.7/dist-packages/pandas/io/parsers.py\u001b[0m in \u001b[0;36m__init__\u001b[0;34m(self, src, **kwds)\u001b[0m\n\u001b[1;32m   2008\u001b[0m         \u001b[0mkwds\u001b[0m\u001b[0;34m[\u001b[0m\u001b[0;34m\"usecols\"\u001b[0m\u001b[0;34m]\u001b[0m \u001b[0;34m=\u001b[0m \u001b[0mself\u001b[0m\u001b[0;34m.\u001b[0m\u001b[0musecols\u001b[0m\u001b[0;34m\u001b[0m\u001b[0;34m\u001b[0m\u001b[0m\n\u001b[1;32m   2009\u001b[0m \u001b[0;34m\u001b[0m\u001b[0m\n\u001b[0;32m-> 2010\u001b[0;31m         \u001b[0mself\u001b[0m\u001b[0;34m.\u001b[0m\u001b[0m_reader\u001b[0m \u001b[0;34m=\u001b[0m \u001b[0mparsers\u001b[0m\u001b[0;34m.\u001b[0m\u001b[0mTextReader\u001b[0m\u001b[0;34m(\u001b[0m\u001b[0msrc\u001b[0m\u001b[0;34m,\u001b[0m \u001b[0;34m**\u001b[0m\u001b[0mkwds\u001b[0m\u001b[0;34m)\u001b[0m\u001b[0;34m\u001b[0m\u001b[0;34m\u001b[0m\u001b[0m\n\u001b[0m\u001b[1;32m   2011\u001b[0m         \u001b[0mself\u001b[0m\u001b[0;34m.\u001b[0m\u001b[0munnamed_cols\u001b[0m \u001b[0;34m=\u001b[0m \u001b[0mself\u001b[0m\u001b[0;34m.\u001b[0m\u001b[0m_reader\u001b[0m\u001b[0;34m.\u001b[0m\u001b[0munnamed_cols\u001b[0m\u001b[0;34m\u001b[0m\u001b[0;34m\u001b[0m\u001b[0m\n\u001b[1;32m   2012\u001b[0m \u001b[0;34m\u001b[0m\u001b[0m\n",
            "\u001b[0;32mpandas/_libs/parsers.pyx\u001b[0m in \u001b[0;36mpandas._libs.parsers.TextReader.__cinit__\u001b[0;34m()\u001b[0m\n",
            "\u001b[0;32mpandas/_libs/parsers.pyx\u001b[0m in \u001b[0;36mpandas._libs.parsers.TextReader._setup_parser_source\u001b[0;34m()\u001b[0m\n",
            "\u001b[0;31mFileNotFoundError\u001b[0m: [Errno 2] No such file or directory: '/content/TUNIZI-Dataset.txt'"
          ]
        }
      ]
    },
    {
      "cell_type": "markdown",
      "metadata": {
        "id": "OhhKuwygAQx_"
      },
      "source": [
        "# Duplicate Sentence\n",
        "\n",
        "Most webscrapped data contains duplicated sentence.This function could retrieve unique ones."
      ]
    },
    {
      "cell_type": "code",
      "metadata": {
        "id": "ljzIVBolASFa"
      },
      "source": [
        "def pick_unique_sentence(text):\n",
        "    line=re.findall(r'(?sm)(^[^\\r\\n]+$)(?!.*^\\1$)', text)\n",
        "    return line\n"
      ],
      "execution_count": 4,
      "outputs": []
    },
    {
      "cell_type": "code",
      "metadata": {
        "colab": {
          "base_uri": "https://localhost:8080/"
        },
        "id": "_-2XyLSJAWhF",
        "outputId": "da3cb029-2859-4a64-b2a5-af7176fcb1d7"
      },
      "source": [
        "sentence=\"ya wa7ch dima a3ml talla\\n I thank doctors\\nDoctors are working very hard in this pandemic situation\\nI thank doctors bravo lik y wa7ch \\nya wa7ch dima a3ml talla\\n  \"\n",
        "pick_unique_sentence(sentence)"
      ],
      "execution_count": 5,
      "outputs": [
        {
          "output_type": "execute_result",
          "data": {
            "text/plain": [
              "[' I thank doctors',\n",
              " 'Doctors are working very hard in this pandemic situation',\n",
              " 'I thank doctors bravo lik y wa7ch ',\n",
              " 'ya wa7ch dima a3ml talla',\n",
              " '  ']"
            ]
          },
          "metadata": {
            "tags": []
          },
          "execution_count": 5
        }
      ]
    },
    {
      "cell_type": "code",
      "metadata": {
        "colab": {
          "base_uri": "https://localhost:8080/",
          "height": 648
        },
        "id": "G25OwiiCAe82",
        "outputId": "eac7567d-2af9-4708-dce0-f2e9940fd0d5"
      },
      "source": [
        "data[\"text_clean\"].fillna(\"No content\", inplace = True)\n",
        "data['pick_unique']=data['text_clean'].apply(lambda x : pick_unique_sentence(x))\n",
        "data.sample(20)"
      ],
      "execution_count": 4,
      "outputs": [
        {
          "output_type": "execute_result",
          "data": {
            "text/html": [
              "<div>\n",
              "<style scoped>\n",
              "    .dataframe tbody tr th:only-of-type {\n",
              "        vertical-align: middle;\n",
              "    }\n",
              "\n",
              "    .dataframe tbody tr th {\n",
              "        vertical-align: top;\n",
              "    }\n",
              "\n",
              "    .dataframe thead th {\n",
              "        text-align: right;\n",
              "    }\n",
              "</style>\n",
              "<table border=\"1\" class=\"dataframe\">\n",
              "  <thead>\n",
              "    <tr style=\"text-align: right;\">\n",
              "      <th></th>\n",
              "      <th>label</th>\n",
              "      <th>text_clean</th>\n",
              "      <th>pick_unique</th>\n",
              "    </tr>\n",
              "  </thead>\n",
              "  <tbody>\n",
              "    <tr>\n",
              "      <th>562</th>\n",
              "      <td>1</td>\n",
              "      <td>thabel hhhh</td>\n",
              "      <td>[thabel hhhh]</td>\n",
              "    </tr>\n",
              "    <tr>\n",
              "      <th>442</th>\n",
              "      <td>1</td>\n",
              "      <td>hayla</td>\n",
              "      <td>[hayla]</td>\n",
              "    </tr>\n",
              "    <tr>\n",
              "      <th>580</th>\n",
              "      <td>1</td>\n",
              "      <td>yeki fama halka hdech</td>\n",
              "      <td>[yeki fama halka hdech]</td>\n",
              "    </tr>\n",
              "    <tr>\n",
              "      <th>1007</th>\n",
              "      <td>1</td>\n",
              "      <td>loooooooooooool are u f kidding me</td>\n",
              "      <td>[loooooooooooool are u f kidding me]</td>\n",
              "    </tr>\n",
              "    <tr>\n",
              "      <th>1293</th>\n",
              "      <td>1</td>\n",
              "      <td>famachkoun hhh deja tfol fi 8</td>\n",
              "      <td>[famachkoun hhh deja tfol fi 8]</td>\n",
              "    </tr>\n",
              "    <tr>\n",
              "      <th>1381</th>\n",
              "      <td>1</td>\n",
              "      <td>miss mima ranim nchlh ya rabi</td>\n",
              "      <td>[miss mima ranim nchlh ya rabi]</td>\n",
              "    </tr>\n",
              "    <tr>\n",
              "      <th>1502</th>\n",
              "      <td>-1</td>\n",
              "      <td>chnbki 11 yeares ago</td>\n",
              "      <td>[chnbki 11 yeares ago]</td>\n",
              "    </tr>\n",
              "    <tr>\n",
              "      <th>2804</th>\n",
              "      <td>-1</td>\n",
              "      <td>nik omek y miguelou lemesse5 w te7enet lfessed...</td>\n",
              "      <td>[nik omek y miguelou lemesse5 w te7enet lfesse...</td>\n",
              "    </tr>\n",
              "    <tr>\n",
              "      <th>2932</th>\n",
              "      <td>-1</td>\n",
              "      <td>w howa wach dakhlo w yzid yafda7 fiha</td>\n",
              "      <td>[w howa wach dakhlo w yzid yafda7 fiha]</td>\n",
              "    </tr>\n",
              "    <tr>\n",
              "      <th>2602</th>\n",
              "      <td>-1</td>\n",
              "      <td>tehchy fih 3asba ta7ger fi rjel ya3tek 3asba</td>\n",
              "      <td>[tehchy fih 3asba ta7ger fi rjel ya3tek 3asba]</td>\n",
              "    </tr>\n",
              "    <tr>\n",
              "      <th>32</th>\n",
              "      <td>1</td>\n",
              "      <td>wlh a7la mosalsel</td>\n",
              "      <td>[wlh a7la mosalsel]</td>\n",
              "    </tr>\n",
              "    <tr>\n",
              "      <th>648</th>\n",
              "      <td>1</td>\n",
              "      <td>waleh rajel</td>\n",
              "      <td>[waleh rajel]</td>\n",
              "    </tr>\n",
              "    <tr>\n",
              "      <th>141</th>\n",
              "      <td>1</td>\n",
              "      <td>nhesha sad9a fi kol chay</td>\n",
              "      <td>[nhesha sad9a fi kol chay]</td>\n",
              "    </tr>\n",
              "    <tr>\n",
              "      <th>813</th>\n",
              "      <td>1</td>\n",
              "      <td>othmani haw fi bali</td>\n",
              "      <td>[othmani haw fi bali]</td>\n",
              "    </tr>\n",
              "    <tr>\n",
              "      <th>1370</th>\n",
              "      <td>1</td>\n",
              "      <td>nchalah rabi yajma3ni bali nhabo wnghaniha fi ...</td>\n",
              "      <td>[nchalah rabi yajma3ni bali nhabo wnghaniha fi...</td>\n",
              "    </tr>\n",
              "    <tr>\n",
              "      <th>1072</th>\n",
              "      <td>1</td>\n",
              "      <td>3 blech welboutoula mafamech</td>\n",
              "      <td>[3 blech welboutoula mafamech]</td>\n",
              "    </tr>\n",
              "    <tr>\n",
              "      <th>1152</th>\n",
              "      <td>1</td>\n",
              "      <td>Nchala b tawfi9 &lt;3</td>\n",
              "      <td>[Nchala b tawfi9 &lt;3]</td>\n",
              "    </tr>\n",
              "    <tr>\n",
              "      <th>570</th>\n",
              "      <td>1</td>\n",
              "      <td>m en a7sen les setkoms fi tounis</td>\n",
              "      <td>[m en a7sen les setkoms fi tounis]</td>\n",
              "    </tr>\n",
              "    <tr>\n",
              "      <th>520</th>\n",
              "      <td>1</td>\n",
              "      <td>testahel prix nobel ya abdelahmid nbravoooo</td>\n",
              "      <td>[testahel prix nobel ya abdelahmid nbravoooo]</td>\n",
              "    </tr>\n",
              "    <tr>\n",
              "      <th>1881</th>\n",
              "      <td>-1</td>\n",
              "      <td>nanshek ostor rouhek avant tout wmadech t3arri...</td>\n",
              "      <td>[nanshek ostor rouhek avant tout wmadech t3arr...</td>\n",
              "    </tr>\n",
              "  </tbody>\n",
              "</table>\n",
              "</div>"
            ],
            "text/plain": [
              "      label  ...                                        pick_unique\n",
              "562       1  ...                                      [thabel hhhh]\n",
              "442       1  ...                                            [hayla]\n",
              "580       1  ...                            [yeki fama halka hdech]\n",
              "1007      1  ...               [loooooooooooool are u f kidding me]\n",
              "1293      1  ...                    [famachkoun hhh deja tfol fi 8]\n",
              "1381      1  ...                    [miss mima ranim nchlh ya rabi]\n",
              "1502     -1  ...                             [chnbki 11 yeares ago]\n",
              "2804     -1  ...  [nik omek y miguelou lemesse5 w te7enet lfesse...\n",
              "2932     -1  ...            [w howa wach dakhlo w yzid yafda7 fiha]\n",
              "2602     -1  ...     [tehchy fih 3asba ta7ger fi rjel ya3tek 3asba]\n",
              "32        1  ...                                [wlh a7la mosalsel]\n",
              "648       1  ...                                      [waleh rajel]\n",
              "141       1  ...                         [nhesha sad9a fi kol chay]\n",
              "813       1  ...                              [othmani haw fi bali]\n",
              "1370      1  ...  [nchalah rabi yajma3ni bali nhabo wnghaniha fi...\n",
              "1072      1  ...                     [3 blech welboutoula mafamech]\n",
              "1152      1  ...                               [Nchala b tawfi9 <3]\n",
              "570       1  ...                 [m en a7sen les setkoms fi tounis]\n",
              "520       1  ...      [testahel prix nobel ya abdelahmid nbravoooo]\n",
              "1881     -1  ...  [nanshek ostor rouhek avant tout wmadech t3arr...\n",
              "\n",
              "[20 rows x 3 columns]"
            ]
          },
          "metadata": {
            "tags": []
          },
          "execution_count": 4
        }
      ]
    },
    {
      "cell_type": "markdown",
      "metadata": {
        "id": "WgXxHrAYA90s"
      },
      "source": [
        "# remove repeated lettre"
      ]
    },
    {
      "cell_type": "code",
      "metadata": {
        "id": "33AaVmpVA-9k"
      },
      "source": [
        "def rep(text):\n",
        "    grp = text.group(0)\n",
        "    if len(grp) > 1:\n",
        "        return grp[0:1] # can change the value here on repetition\n",
        "def unique_char(rep,sentence):\n",
        "    convert = re.sub(r'(\\w)\\1+', rep, sentence) \n",
        "    return convert\n"
      ],
      "execution_count": 5,
      "outputs": []
    },
    {
      "cell_type": "code",
      "metadata": {
        "colab": {
          "base_uri": "https://localhost:8080/",
          "height": 35
        },
        "id": "XbbnYXuBBBuM",
        "outputId": "5b7d657c-5626-4327-9145-aceeb3219d8d"
      },
      "source": [
        "sentence=\"مااااسط مااااسط bravoooooooooooooo degaage\"\n",
        "unique_char(rep,sentence)"
      ],
      "execution_count": 6,
      "outputs": [
        {
          "output_type": "execute_result",
          "data": {
            "application/vnd.google.colaboratory.intrinsic+json": {
              "type": "string"
            },
            "text/plain": [
              "'ماسط ماسط bravo degage'"
            ]
          },
          "metadata": {
            "tags": []
          },
          "execution_count": 6
        }
      ]
    },
    {
      "cell_type": "code",
      "metadata": {
        "colab": {
          "base_uri": "https://localhost:8080/",
          "height": 648
        },
        "id": "6rMXuK94BFxX",
        "outputId": "9aa44919-5fc0-465b-e817-d9eae5fdb86c"
      },
      "source": [
        "data['pick_unique']=data['pick_unique'].apply(str)\n",
        "data['unique_char']=data['pick_unique'].apply(lambda x : unique_char(rep,x))\n",
        "data.head(20)"
      ],
      "execution_count": 7,
      "outputs": [
        {
          "output_type": "execute_result",
          "data": {
            "text/html": [
              "<div>\n",
              "<style scoped>\n",
              "    .dataframe tbody tr th:only-of-type {\n",
              "        vertical-align: middle;\n",
              "    }\n",
              "\n",
              "    .dataframe tbody tr th {\n",
              "        vertical-align: top;\n",
              "    }\n",
              "\n",
              "    .dataframe thead th {\n",
              "        text-align: right;\n",
              "    }\n",
              "</style>\n",
              "<table border=\"1\" class=\"dataframe\">\n",
              "  <thead>\n",
              "    <tr style=\"text-align: right;\">\n",
              "      <th></th>\n",
              "      <th>label</th>\n",
              "      <th>text_clean</th>\n",
              "      <th>pick_unique</th>\n",
              "      <th>unique_char</th>\n",
              "    </tr>\n",
              "  </thead>\n",
              "  <tbody>\n",
              "    <tr>\n",
              "      <th>0</th>\n",
              "      <td>1</td>\n",
              "      <td>ana fil ghorba w sout el athan ahla haja 3ijbi...</td>\n",
              "      <td>['ana fil ghorba w sout el athan ahla haja 3ij...</td>\n",
              "      <td>['ana fil ghorba w sout el athan ahla haja 3ij...</td>\n",
              "    </tr>\n",
              "    <tr>\n",
              "      <th>1</th>\n",
              "      <td>1</td>\n",
              "      <td>man eheb rasoule mohamed</td>\n",
              "      <td>['man eheb rasoule mohamed']</td>\n",
              "      <td>['man eheb rasoule mohamed']</td>\n",
              "    </tr>\n",
              "    <tr>\n",
              "      <th>2</th>\n",
              "      <td>1</td>\n",
              "      <td>rabi yerhmou sofiane cha3ri</td>\n",
              "      <td>['rabi yerhmou sofiane cha3ri']</td>\n",
              "      <td>['rabi yerhmou sofiane cha3ri']</td>\n",
              "    </tr>\n",
              "    <tr>\n",
              "      <th>3</th>\n",
              "      <td>1</td>\n",
              "      <td>rabi yarahmak ya sbou3i wou yarham kol om mita</td>\n",
              "      <td>['rabi yarahmak ya sbou3i wou yarham kol om mi...</td>\n",
              "      <td>['rabi yarahmak ya sbou3i wou yarham kol om mi...</td>\n",
              "    </tr>\n",
              "    <tr>\n",
              "      <th>4</th>\n",
              "      <td>1</td>\n",
              "      <td>merci beaucoup salime</td>\n",
              "      <td>['merci beaucoup salime']</td>\n",
              "      <td>['merci beaucoup salime']</td>\n",
              "    </tr>\n",
              "    <tr>\n",
              "      <th>5</th>\n",
              "      <td>1</td>\n",
              "      <td>tomson et banane</td>\n",
              "      <td>['tomson et banane']</td>\n",
              "      <td>['tomson et banane']</td>\n",
              "    </tr>\n",
              "    <tr>\n",
              "      <th>6</th>\n",
              "      <td>1</td>\n",
              "      <td>2020 winkom hhh</td>\n",
              "      <td>['2020 winkom hhh']</td>\n",
              "      <td>['2020 winkom h']</td>\n",
              "    </tr>\n",
              "    <tr>\n",
              "      <th>7</th>\n",
              "      <td>1</td>\n",
              "      <td>chkoun 9a3ed ytfrj fi e5r nhar ta3 2019</td>\n",
              "      <td>['chkoun 9a3ed ytfrj fi e5r nhar ta3 2019']</td>\n",
              "      <td>['chkoun 9a3ed ytfrj fi e5r nhar ta3 2019']</td>\n",
              "    </tr>\n",
              "    <tr>\n",
              "      <th>8</th>\n",
              "      <td>1</td>\n",
              "      <td>ahhhhhhhhhh alah yarhmou</td>\n",
              "      <td>['ahhhhhhhhhh alah yarhmou']</td>\n",
              "      <td>['ah alah yarhmou']</td>\n",
              "    </tr>\n",
              "    <tr>\n",
              "      <th>9</th>\n",
              "      <td>1</td>\n",
              "      <td>31 decembre 2019 n3amkom mabrouk nés lkoll</td>\n",
              "      <td>['31 decembre 2019 n3amkom mabrouk nés lkoll']</td>\n",
              "      <td>['31 decembre 2019 n3amkom mabrouk nés lkol']</td>\n",
              "    </tr>\n",
              "    <tr>\n",
              "      <th>10</th>\n",
              "      <td>1</td>\n",
              "      <td>belehi noumrou l7al9a</td>\n",
              "      <td>['belehi noumrou l7al9a']</td>\n",
              "      <td>['belehi noumrou l7al9a']</td>\n",
              "    </tr>\n",
              "    <tr>\n",
              "      <th>11</th>\n",
              "      <td>1</td>\n",
              "      <td>sa7a bitch hhhhhhhhhhhhhhhhh</td>\n",
              "      <td>['sa7a bitch hhhhhhhhhhhhhhhhh']</td>\n",
              "      <td>['sa7a bitch h']</td>\n",
              "    </tr>\n",
              "    <tr>\n",
              "      <th>12</th>\n",
              "      <td>1</td>\n",
              "      <td>lwataniya lyoum be like</td>\n",
              "      <td>['lwataniya lyoum be like']</td>\n",
              "      <td>['lwataniya lyoum be like']</td>\n",
              "    </tr>\n",
              "    <tr>\n",
              "      <th>13</th>\n",
              "      <td>1</td>\n",
              "      <td>chkoun jy mn ras 2020</td>\n",
              "      <td>['chkoun jy mn ras 2020']</td>\n",
              "      <td>['chkoun jy mn ras 2020']</td>\n",
              "    </tr>\n",
              "    <tr>\n",
              "      <th>14</th>\n",
              "      <td>1</td>\n",
              "      <td>2004 de choufli hal une bonne partie</td>\n",
              "      <td>['2004 de choufli hal une bonne partie']</td>\n",
              "      <td>['204 de choufli hal une bone partie']</td>\n",
              "    </tr>\n",
              "    <tr>\n",
              "      <th>15</th>\n",
              "      <td>1</td>\n",
              "      <td>chkoun bch yetfarej 3lih ghodwaa hhhhh</td>\n",
              "      <td>['chkoun bch yetfarej 3lih ghodwaa hhhhh']</td>\n",
              "      <td>['chkoun bch yetfarej 3lih ghodwa h']</td>\n",
              "    </tr>\n",
              "    <tr>\n",
              "      <th>16</th>\n",
              "      <td>1</td>\n",
              "      <td>2020 ya3ml lik hh</td>\n",
              "      <td>['2020 ya3ml lik hh']</td>\n",
              "      <td>['2020 ya3ml lik h']</td>\n",
              "    </tr>\n",
              "    <tr>\n",
              "      <th>17</th>\n",
              "      <td>1</td>\n",
              "      <td>qui aime choufli hal laik</td>\n",
              "      <td>['qui aime choufli hal laik']</td>\n",
              "      <td>['qui aime choufli hal laik']</td>\n",
              "    </tr>\n",
              "    <tr>\n",
              "      <th>18</th>\n",
              "      <td>1</td>\n",
              "      <td>qui love sbou3i allah yarhmou jem</td>\n",
              "      <td>['qui love sbou3i allah yarhmou jem']</td>\n",
              "      <td>['qui love sbou3i alah yarhmou jem']</td>\n",
              "    </tr>\n",
              "    <tr>\n",
              "      <th>19</th>\n",
              "      <td>1</td>\n",
              "      <td>mezelna mad8anech lil 2020</td>\n",
              "      <td>['mezelna mad8anech lil 2020']</td>\n",
              "      <td>['mezelna mad8anech lil 2020']</td>\n",
              "    </tr>\n",
              "  </tbody>\n",
              "</table>\n",
              "</div>"
            ],
            "text/plain": [
              "    label  ...                                        unique_char\n",
              "0       1  ...  ['ana fil ghorba w sout el athan ahla haja 3ij...\n",
              "1       1  ...                       ['man eheb rasoule mohamed']\n",
              "2       1  ...                    ['rabi yerhmou sofiane cha3ri']\n",
              "3       1  ...  ['rabi yarahmak ya sbou3i wou yarham kol om mi...\n",
              "4       1  ...                          ['merci beaucoup salime']\n",
              "5       1  ...                               ['tomson et banane']\n",
              "6       1  ...                                  ['2020 winkom h']\n",
              "7       1  ...        ['chkoun 9a3ed ytfrj fi e5r nhar ta3 2019']\n",
              "8       1  ...                                ['ah alah yarhmou']\n",
              "9       1  ...      ['31 decembre 2019 n3amkom mabrouk nés lkol']\n",
              "10      1  ...                          ['belehi noumrou l7al9a']\n",
              "11      1  ...                                   ['sa7a bitch h']\n",
              "12      1  ...                        ['lwataniya lyoum be like']\n",
              "13      1  ...                          ['chkoun jy mn ras 2020']\n",
              "14      1  ...             ['204 de choufli hal une bone partie']\n",
              "15      1  ...              ['chkoun bch yetfarej 3lih ghodwa h']\n",
              "16      1  ...                               ['2020 ya3ml lik h']\n",
              "17      1  ...                      ['qui aime choufli hal laik']\n",
              "18      1  ...               ['qui love sbou3i alah yarhmou jem']\n",
              "19      1  ...                     ['mezelna mad8anech lil 2020']\n",
              "\n",
              "[20 rows x 4 columns]"
            ]
          },
          "metadata": {
            "tags": []
          },
          "execution_count": 7
        }
      ]
    },
    {
      "cell_type": "markdown",
      "metadata": {
        "id": "eHsVCi2czkaU"
      },
      "source": [
        "# 1-grame features extracted from processed_text"
      ]
    },
    {
      "cell_type": "code",
      "metadata": {
        "id": "Atuijeqhubv8"
      },
      "source": [
        "def ngrams_top(corpus,ngram_range,n=None):\n",
        "    \"\"\"\n",
        "    List the top n words in a vocabulary according to occurrence in a text corpus.\n",
        "    \"\"\"\n",
        "    vec = CountVectorizer(ngram_range=ngram_range).fit(corpus.values.astype('U'))\n",
        "    bag_of_words = vec.transform((corpus).values.astype('U'))\n",
        "    sum_words = bag_of_words.sum(axis=0) \n",
        "    words_freq = [(word, sum_words[0, idx]) for word, idx in vec.vocabulary_.items()]\n",
        "    words_freq =sorted(words_freq, key = lambda x: x[1], reverse=True)\n",
        "    total_list=words_freq[:n]\n",
        "    df=pd.DataFrame(total_list,columns=['text','count'])\n",
        "    return df"
      ],
      "execution_count": 8,
      "outputs": []
    },
    {
      "cell_type": "code",
      "metadata": {
        "id": "nRS3Ff4TwT6J",
        "colab": {
          "base_uri": "https://localhost:8080/"
        },
        "outputId": "86649eaf-d0d9-486e-c28f-dca3c942ede8"
      },
      "source": [
        "une_gram =ngrams_top(data['unique_char'],(1,1),n=200)\n",
        "une_gram.values.tolist()\n"
      ],
      "execution_count": 9,
      "outputs": [
        {
          "output_type": "execute_result",
          "data": {
            "text/plain": [
              "[['ya', 389],\n",
              " ['fi', 310],\n",
              " ['bravo', 257],\n",
              " ['el', 195],\n",
              " ['rabi', 167],\n",
              " ['ken', 110],\n",
              " ['ma', 101],\n",
              " ['kol', 98],\n",
              " ['eli', 97],\n",
              " ['mala', 95],\n",
              " ['la', 93],\n",
              " ['3la', 88],\n",
              " ['il', 75],\n",
              " ['walah', 72],\n",
              " ['barcha', 71],\n",
              " ['de', 68],\n",
              " ['men', 68],\n",
              " ['fih', 68],\n",
              " ['ki', 68],\n",
              " ['tounes', 67],\n",
              " ['li', 62],\n",
              " ['ama', 62],\n",
              " ['ou', 61],\n",
              " ['les', 61],\n",
              " ['bech', 60],\n",
              " ['ena', 58],\n",
              " ['bara', 58],\n",
              " ['le', 56],\n",
              " ['alah', 55],\n",
              " ['wlh', 55],\n",
              " ['et', 54],\n",
              " ['mouch', 54],\n",
              " ['min', 52],\n",
              " ['fil', 51],\n",
              " ['ye', 49],\n",
              " ['3ala', 48],\n",
              " ['enti', 47],\n",
              " ['ti', 47],\n",
              " ['chkoun', 46],\n",
              " ['ala', 46],\n",
              " ['yeser', 44],\n",
              " ['mis', 44],\n",
              " ['3asba', 44],\n",
              " ['si', 42],\n",
              " ['basem', 42],\n",
              " ['omek', 42],\n",
              " ['fel', 41],\n",
              " ['clip', 41],\n",
              " ['est', 40],\n",
              " ['karim', 40],\n",
              " ['en', 39],\n",
              " ['3al', 39],\n",
              " ['haka', 39],\n",
              " ['mara', 38],\n",
              " ['inti', 37],\n",
              " ['top', 37],\n",
              " ['nes', 37],\n",
              " ['je', 37],\n",
              " ['ana', 36],\n",
              " ['kif', 36],\n",
              " ['kima', 36],\n",
              " ['wala', 36],\n",
              " ['tawa', 35],\n",
              " ['rajel', 35],\n",
              " ['nik', 35],\n",
              " ['haja', 34],\n",
              " ['tayara', 34],\n",
              " ['we', 34],\n",
              " ['ili', 33],\n",
              " ['3lik', 33],\n",
              " ['lkol', 32],\n",
              " ['mn', 32],\n",
              " ['hal', 32],\n",
              " ['5ir', 32],\n",
              " ['feha', 32],\n",
              " ['chay', 32],\n",
              " ['bel', 32],\n",
              " ['ben', 32],\n",
              " ['zebi', 32],\n",
              " ['bch', 31],\n",
              " ['7ata', 31],\n",
              " ['tounsi', 30],\n",
              " ['al', 30],\n",
              " ['hata', 29],\n",
              " ['mariem', 28],\n",
              " ['vraiment', 28],\n",
              " ['fiha', 28],\n",
              " ['10', 28],\n",
              " ['pas', 27],\n",
              " ['dima', 27],\n",
              " ['hiya', 27],\n",
              " ['brabi', 27],\n",
              " ['weld', 27],\n",
              " ['rak', 27],\n",
              " ['tunis', 26],\n",
              " ['howa', 26],\n",
              " ['ha', 26],\n",
              " ['fama', 26],\n",
              " ['fik', 26],\n",
              " ['zok', 26],\n",
              " ['taw', 25],\n",
              " ['ele', 25],\n",
              " ['tofla', 25],\n",
              " ['mta3', 25],\n",
              " ['7aja', 25],\n",
              " ['me', 24],\n",
              " ['omk', 24],\n",
              " ['lel', 23],\n",
              " ['kan', 23],\n",
              " ['wel', 23],\n",
              " ['ghneya', 23],\n",
              " ['lik', 22],\n",
              " ['mais', 22],\n",
              " ['m3alem', 22],\n",
              " ['mel', 22],\n",
              " ['win', 22],\n",
              " ['ali', 22],\n",
              " ['flous', 22],\n",
              " ['merci', 21],\n",
              " ['oui', 21],\n",
              " ['moch', 21],\n",
              " ['wela', 21],\n",
              " ['miboun', 21],\n",
              " ['3lih', 20],\n",
              " ['un', 20],\n",
              " ['ahsen', 20],\n",
              " ['raw3a', 20],\n",
              " ['m3a', 20],\n",
              " ['nchalah', 20],\n",
              " ['samir', 20],\n",
              " ['une', 19],\n",
              " ['pour', 19],\n",
              " ['bon', 19],\n",
              " ['ta', 19],\n",
              " ['tu', 19],\n",
              " ['adore', 18],\n",
              " ['hedha', 18],\n",
              " ['baya', 18],\n",
              " ['kifech', 18],\n",
              " ['trabelsi', 18],\n",
              " ['samara', 18],\n",
              " ['aime', 17],\n",
              " ['klem', 17],\n",
              " ['fahmi', 17],\n",
              " ['mch', 17],\n",
              " ['khir', 17],\n",
              " ['tahki', 17],\n",
              " ['maryem', 17],\n",
              " ['s7i7', 17],\n",
              " ['mã', 17],\n",
              " ['dã', 17],\n",
              " ['pf', 17],\n",
              " ['om', 16],\n",
              " ['zeda', 16],\n",
              " ['awel', 16],\n",
              " ['au', 16],\n",
              " ['mra', 16],\n",
              " ['hedhi', 16],\n",
              " ['yaser', 16],\n",
              " ['ce', 16],\n",
              " ['akther', 16],\n",
              " ['taraji', 16],\n",
              " ['lol', 16],\n",
              " ['rjel', 16],\n",
              " ['xa0', 16],\n",
              " ['9a7ba', 16],\n",
              " ['sbou3i', 15],\n",
              " ['nhar', 15],\n",
              " ['3likom', 15],\n",
              " ['fl', 15],\n",
              " ['amine', 15],\n",
              " ['ma7leha', 15],\n",
              " ['3leha', 15],\n",
              " ['meriem', 15],\n",
              " ['nawfel', 15],\n",
              " ['t9oul', 15],\n",
              " ['had', 15],\n",
              " ['kifek', 15],\n",
              " ['haw', 15],\n",
              " ['bien', 15],\n",
              " ['twensa', 15],\n",
              " ['ye5i', 15],\n",
              " ['wa', 15],\n",
              " ['a7na', 15],\n",
              " ['zabour', 15],\n",
              " ['3bed', 15],\n",
              " ['m3akom', 15],\n",
              " ['jabri', 15],\n",
              " ['saha', 14],\n",
              " ['ta3', 14],\n",
              " ['belehi', 14],\n",
              " ['mela', 14],\n",
              " ['mech', 14],\n",
              " ['que', 14],\n",
              " ['mezyena', 14],\n",
              " ['hia', 14],\n",
              " ['wehed', 14],\n",
              " ['cha3b', 14],\n",
              " ['zardi', 14],\n",
              " ['hadi', 14]]"
            ]
          },
          "metadata": {
            "tags": []
          },
          "execution_count": 9
        }
      ]
    },
    {
      "cell_type": "code",
      "metadata": {
        "colab": {
          "base_uri": "https://localhost:8080/"
        },
        "id": "br_A6mCWSSWO",
        "outputId": "0f3e0120-8f77-4bcd-9a47-dc12552a9500"
      },
      "source": [
        "noise1gram=set(['wiw','inti','inty','na','je','wé','ena','cete','رجلرجل','eni','ana','انت','ben','عن','al','mes','و','w','mel','wel','jour','come','هو','بعد','inti','الى','se','lkol','fama','bel','فيه','ele','فى','kima','haka','kan','nes','بينا','votre','par','ya','mr','une', 'cest','vous','ont','sont','nous','kif','علي','faire','dans','fel','ala','ana','taw','ye','mon','tout','bravobravo','col','مع','li','ça','de','ya','في','et','fi','el','je','من','les','pour','est','على','il','des','si','vous','en','que','cest','الي','kol','eli','un','يا','une','ما','bech','ou','ken','كل','men','كان','jai','باش','ama','mala','cette','هذا','انا','ان','avec','du','dima','ce','min','ili','ki','enti','fih','tawa','qui','au','ena','fil','suis','wa'])\n",
        "len(noise1gram)"
      ],
      "execution_count": 10,
      "outputs": [
        {
          "output_type": "execute_result",
          "data": {
            "text/plain": [
              "112"
            ]
          },
          "metadata": {
            "tags": []
          },
          "execution_count": 10
        }
      ]
    },
    {
      "cell_type": "markdown",
      "metadata": {
        "id": "zze0KCWlzyiF"
      },
      "source": [
        "# 2-grame features extracted from processed_text\n"
      ]
    },
    {
      "cell_type": "code",
      "metadata": {
        "id": "AEhnsMAaz8V8",
        "colab": {
          "base_uri": "https://localhost:8080/"
        },
        "outputId": "5a572747-27c1-4a78-b8e7-f91594acdf2a"
      },
      "source": [
        "deux_gram =ngrams_top(data['unique_char'],(2,2),n=100)\n",
        "deux_gram.values.tolist()\n"
      ],
      "execution_count": 11,
      "outputs": [
        {
          "output_type": "execute_result",
          "data": {
            "text/plain": [
              "[['fi tounes', 17],\n",
              " ['kol chay', 13],\n",
              " ['bravo bravo', 13],\n",
              " ['ya rabi', 13],\n",
              " ['baya zardi', 11],\n",
              " ['ya weld', 11],\n",
              " ['nik omek', 10],\n",
              " ['bara nik', 10],\n",
              " ['nes lkol', 9],\n",
              " ['de la', 9],\n",
              " ['ya m3alem', 9],\n",
              " ['fi tunis', 8],\n",
              " ['el kol', 8],\n",
              " ['nchalah rabi', 8],\n",
              " ['nour chiba', 8],\n",
              " ['3ich tounsi', 8],\n",
              " ['chapeau bas', 7],\n",
              " ['awel mara', 7],\n",
              " ['ya hasra', 7],\n",
              " ['ya 7asra', 7],\n",
              " ['franã ais', 7],\n",
              " ['3asba lik', 7],\n",
              " ['omk ya', 7],\n",
              " ['et merci', 6],\n",
              " ['bon courage', 6],\n",
              " ['jozef dh', 6],\n",
              " ['hend sabri', 6],\n",
              " ['ya zebi', 6],\n",
              " ['jalad yt', 6],\n",
              " ['ken jit', 6],\n",
              " ['ken jet', 6],\n",
              " ['zok omkom', 6],\n",
              " ['ya ta7an', 6],\n",
              " ['ya3tek 3asba', 6],\n",
              " ['mel mout', 6],\n",
              " ['dã jã', 6],\n",
              " ['jã xa0', 6],\n",
              " ['nik omok', 6],\n",
              " ['ya jabri', 6],\n",
              " ['ya sbou3i', 5],\n",
              " ['choufli hal', 5],\n",
              " ['ele est', 5],\n",
              " ['mariem dabegh', 5],\n",
              " ['que tu', 5],\n",
              " ['tayara barcha', 5],\n",
              " ['en boucle', 5],\n",
              " ['mouch normal', 5],\n",
              " ['ya3mel abonè', 5],\n",
              " ['abonè lel', 5],\n",
              " ['lel chaine', 5],\n",
              " ['chaine mta3y', 5],\n",
              " ['mta3y tarja3lou', 5],\n",
              " ['tarja3lou et', 5],\n",
              " ['kol chy', 5],\n",
              " ['rabi m3ak', 5],\n",
              " ['je suis', 5],\n",
              " ['ben ali', 5],\n",
              " ['rabi ya', 5],\n",
              " ['ya mnayek', 5],\n",
              " ['zok omek', 5],\n",
              " ['el mis', 5],\n",
              " ['ti bara', 5],\n",
              " ['yatek asba', 5],\n",
              " ['ye kleb', 5],\n",
              " ['ya miboun', 5],\n",
              " ['nik omk', 5],\n",
              " ['3asba fi', 5],\n",
              " ['alah yarhmou', 4],\n",
              " ['ya sboui', 4],\n",
              " ['est une', 4],\n",
              " ['bon continuation', 4],\n",
              " ['ya tounes', 4],\n",
              " ['fi kol', 4],\n",
              " ['el mra', 4],\n",
              " ['la tunisie', 4],\n",
              " ['vraiment bravo', 4],\n",
              " ['clip tayara', 4],\n",
              " ['bendir man', 4],\n",
              " ['tayara bravo', 4],\n",
              " ['fahmi riahi', 4],\n",
              " ['barcha bravo', 4],\n",
              " ['bone continuation', 4],\n",
              " ['kol youm', 4],\n",
              " ['yeser tayara', 4],\n",
              " ['netmana lik', 4],\n",
              " ['lik lmout', 4],\n",
              " ['je pense', 4],\n",
              " ['je aime', 4],\n",
              " ['bravo wlh', 4],\n",
              " ['au moins', 4],\n",
              " ['fi baya', 4],\n",
              " ['stand up', 4],\n",
              " ['fi rou7ha', 4],\n",
              " ['silmia silmia', 4],\n",
              " ['silmia khawa', 4],\n",
              " ['khawa khawa', 4],\n",
              " ['om maka', 4],\n",
              " ['ha ha', 4],\n",
              " ['et la', 4],\n",
              " ['si ali', 4]]"
            ]
          },
          "metadata": {
            "tags": []
          },
          "execution_count": 11
        }
      ]
    },
    {
      "cell_type": "markdown",
      "metadata": {
        "id": "X8D3VgdH0lKf"
      },
      "source": [
        "# 3-grame features extracted from processed_text\n"
      ]
    },
    {
      "cell_type": "code",
      "metadata": {
        "id": "ZfnMle0x0Upi",
        "colab": {
          "base_uri": "https://localhost:8080/"
        },
        "outputId": "e64a00f5-cd6d-4049-8bfb-ea37c95cb116"
      },
      "source": [
        "trois_gram =ngrams_top(data['unique_char'],(3,3),n=100)\n",
        "trois_gram.values.tolist()\n"
      ],
      "execution_count": 12,
      "outputs": [
        {
          "output_type": "execute_result",
          "data": {
            "text/plain": [
              "[['bravo bravo bravo', 6],\n",
              " ['dã jã xa0', 6],\n",
              " ['ya3mel abonè lel', 5],\n",
              " ['abonè lel chaine', 5],\n",
              " ['lel chaine mta3y', 5],\n",
              " ['chaine mta3y tarja3lou', 5],\n",
              " ['mta3y tarja3lou et', 5],\n",
              " ['tarja3lou et merci', 5],\n",
              " ['fi baya zardi', 4],\n",
              " ['silmia silmia khawa', 4],\n",
              " ['silmia khawa khawa', 4],\n",
              " ['bara nik omok', 4],\n",
              " ['ishak fot stars', 4],\n",
              " ['eli ya3mel abonè', 3],\n",
              " ['netmana lik lmout', 3],\n",
              " ['lik lmout ki', 3],\n",
              " ['si ali chouchen', 3],\n",
              " ['mis mima ranim', 3],\n",
              " ['amin ya rabi', 3],\n",
              " ['ti brabi yeziw', 3],\n",
              " ['stupid people famous', 3],\n",
              " ['chmeta fi baya', 3],\n",
              " ['fi 7a9 rabi', 3],\n",
              " ['5ayfa mel mout', 3],\n",
              " ['min rabi wela', 3],\n",
              " ['jalad yt bara', 3],\n",
              " ['bara nik omek', 3],\n",
              " ['ya weld el9a7ba', 3],\n",
              " ['omk ya weld', 3],\n",
              " ['moustewa monhat kharej', 3],\n",
              " ['monhat kharej an', 3],\n",
              " ['kharej an elmasrah', 3],\n",
              " ['an elmasrah eraki', 3],\n",
              " ['alah yarahmik ya', 2],\n",
              " ['yarahmik ya sboui', 2],\n",
              " ['alah yarhmek ya', 2],\n",
              " ['est une bele', 2],\n",
              " ['ele est pas', 2],\n",
              " ['fi kol chay', 2],\n",
              " ['que tu es', 2],\n",
              " ['tu es mon', 2],\n",
              " ['can stop listening', 2],\n",
              " ['un grand bravo', 2],\n",
              " ['la casa de', 2],\n",
              " ['casa de papel', 2],\n",
              " ['5edma tayara bravo', 2],\n",
              " ['khedma tayara barcha', 2],\n",
              " ['lmout ki temchi', 2],\n",
              " ['en tout cas', 2],\n",
              " ['pour les acteurs', 2],\n",
              " ['fi tunis nchalah', 2],\n",
              " ['el om eli', 2],\n",
              " ['awel mara te3jbni', 2],\n",
              " ['mara te3jbni haja', 2],\n",
              " ['haja fi tounes', 2],\n",
              " ['ely ya3mel abonè', 2],\n",
              " ['9adech fih mn', 2],\n",
              " ['hiya fel 79i9a', 2],\n",
              " ['feha tahki bl', 2],\n",
              " ['kol chay ama', 2],\n",
              " ['kol chay mfabrek', 2],\n",
              " ['3andha l7a9 mariem', 2],\n",
              " ['hot taswirtek khalini', 2],\n",
              " ['taswirtek khalini nchoufek', 2],\n",
              " ['om maka samahni', 2],\n",
              " ['maka samahni me', 2],\n",
              " ['ha ha ha', 2],\n",
              " ['ya ahla hend', 2],\n",
              " ['winers mch ultras', 2],\n",
              " ['bravo si imed', 2],\n",
              " ['de la tunisie', 2],\n",
              " ['basem ya m3alem', 2],\n",
              " ['3awedtha barcha marat', 2],\n",
              " ['je suis la', 2],\n",
              " ['ans fi london', 2],\n",
              " ['90 pour 10', 2],\n",
              " ['ya 7asra 3la', 2],\n",
              " ['ana nchi5 3lih', 2],\n",
              " ['nchi5 3lih bdho7ok', 2],\n",
              " ['3lih bdho7ok eheh', 2],\n",
              " ['nchalh rabi ychfih', 2],\n",
              " ['chnoa matloub mn', 2],\n",
              " ['matloub mn tounsy', 2],\n",
              " ['mn tounsy ena', 2],\n",
              " ['tounsy ena mara', 2],\n",
              " ['ena mara kalmtouni', 2],\n",
              " ['mara kalmtouni w7kito', 2],\n",
              " ['kalmtouni w7kito m3aya', 2],\n",
              " ['w7kito m3aya bch', 2],\n",
              " ['m3aya bch netlha', 2],\n",
              " ['bch netlha bmenta9ty', 2],\n",
              " ['a7na win si', 2],\n",
              " ['win si ala', 2],\n",
              " ['be5lef olfa chkoun', 2],\n",
              " ['olfa chkoun hadhoukom', 2],\n",
              " ['chkoun hadhoukom ou', 2],\n",
              " ['hadhoukom ou kife', 2],\n",
              " ['ou kife weslou', 2],\n",
              " ['kife weslou lel', 2],\n",
              " ['weslou lel 9ayma', 2]]"
            ]
          },
          "metadata": {
            "tags": []
          },
          "execution_count": 12
        }
      ]
    },
    {
      "cell_type": "markdown",
      "metadata": {
        "id": "ZXTFSUu80tBl"
      },
      "source": [
        "# 4-grame features extracted from processed_text\n"
      ]
    },
    {
      "cell_type": "code",
      "metadata": {
        "id": "uXMHwOWK0rnB",
        "colab": {
          "base_uri": "https://localhost:8080/"
        },
        "outputId": "0c8f47b2-1a2f-4c7f-b9b2-452d58b20041"
      },
      "source": [
        "quatre_gram =ngrams_top(data['unique_char'],(4,4),n=100)\n",
        "quatre_gram.values.tolist()\n"
      ],
      "execution_count": 13,
      "outputs": [
        {
          "output_type": "execute_result",
          "data": {
            "text/plain": [
              "[['ya3mel abonè lel chaine', 5],\n",
              " ['abonè lel chaine mta3y', 5],\n",
              " ['lel chaine mta3y tarja3lou', 5],\n",
              " ['chaine mta3y tarja3lou et', 5],\n",
              " ['mta3y tarja3lou et merci', 5],\n",
              " ['silmia silmia khawa khawa', 4],\n",
              " ['eli ya3mel abonè lel', 3],\n",
              " ['chmeta fi baya zardi', 3],\n",
              " ['moustewa monhat kharej an', 3],\n",
              " ['monhat kharej an elmasrah', 3],\n",
              " ['kharej an elmasrah eraki', 3],\n",
              " ['alah yarahmik ya sboui', 2],\n",
              " ['la casa de papel', 2],\n",
              " ['netmana lik lmout ki', 2],\n",
              " ['lik lmout ki temchi', 2],\n",
              " ['awel mara te3jbni haja', 2],\n",
              " ['ely ya3mel abonè lel', 2],\n",
              " ['hot taswirtek khalini nchoufek', 2],\n",
              " ['om maka samahni me', 2],\n",
              " ['ana nchi5 3lih bdho7ok', 2],\n",
              " ['nchi5 3lih bdho7ok eheh', 2],\n",
              " ['chnoa matloub mn tounsy', 2],\n",
              " ['matloub mn tounsy ena', 2],\n",
              " ['mn tounsy ena mara', 2],\n",
              " ['tounsy ena mara kalmtouni', 2],\n",
              " ['ena mara kalmtouni w7kito', 2],\n",
              " ['mara kalmtouni w7kito m3aya', 2],\n",
              " ['kalmtouni w7kito m3aya bch', 2],\n",
              " ['w7kito m3aya bch netlha', 2],\n",
              " ['m3aya bch netlha bmenta9ty', 2],\n",
              " ['a7na win si ala', 2],\n",
              " ['be5lef olfa chkoun hadhoukom', 2],\n",
              " ['olfa chkoun hadhoukom ou', 2],\n",
              " ['chkoun hadhoukom ou kife', 2],\n",
              " ['hadhoukom ou kife weslou', 2],\n",
              " ['ou kife weslou lel', 2],\n",
              " ['kife weslou lel 9ayma', 2],\n",
              " ['belahi 8ir 5touna intom', 2],\n",
              " ['8ir 5touna intom 7ni', 2],\n",
              " ['5touna intom 7ni lbs', 2],\n",
              " ['intom 7ni lbs yezi', 2],\n",
              " ['7ni lbs yezi bla', 2],\n",
              " ['lbs yezi bla rwaye9', 2],\n",
              " ['yezi bla rwaye9 bared', 2],\n",
              " ['bla rwaye9 bared galek', 2],\n",
              " ['rwaye9 bared galek wathi9a', 2],\n",
              " ['bared galek wathi9a 3omala', 2],\n",
              " ['galek wathi9a 3omala france', 2],\n",
              " ['basam megalo hatha mystahilch', 2],\n",
              " ['stop making stupid people', 2],\n",
              " ['making stupid people famous', 2],\n",
              " ['rou7ha normalement tensa 7aja', 2],\n",
              " ['normalement tensa 7aja esmha', 2],\n",
              " ['tensa 7aja esmha sketch', 2],\n",
              " ['9rib min rabi wela', 2],\n",
              " ['9alou si ali chouchen', 2],\n",
              " ['si ali chouchen si', 2],\n",
              " ['omok ye kleb ye', 2],\n",
              " ['one bara nik omok', 2],\n",
              " ['bara nik omok il', 2],\n",
              " ['nik omok il kahba', 2],\n",
              " ['omok il kahba ye', 2],\n",
              " ['y3tik 3asba ya taraji', 2],\n",
              " ['jalad yt bara nik', 2],\n",
              " ['yt bara nik omk', 2],\n",
              " ['bara nik omk 9a7ba', 2],\n",
              " ['nik omk 9a7ba ya', 2],\n",
              " ['rou7 nik omk ya', 2],\n",
              " ['ishak fot stars hatli', 2],\n",
              " ['fot stars hatli omk', 2],\n",
              " ['wlhi chaeb mounefk wlh', 2],\n",
              " ['chaeb mounefk wlh ahsen', 2],\n",
              " ['mounefk wlh ahsen wahed', 2],\n",
              " ['wlh ahsen wahed basem', 2],\n",
              " ['ahsen wahed basem hamrawi', 2],\n",
              " ['ti brabi yeziw za7', 2],\n",
              " ['brabi yeziw za7 t7ebou', 2],\n",
              " ['yeziw za7 t7ebou tkharjouha', 2],\n",
              " ['za7 t7ebou tkharjouha mojerma', 2],\n",
              " ['t7ebou tkharjouha mojerma besif', 2],\n",
              " ['tkharjouha mojerma besif ya5ouya', 2],\n",
              " ['mojerma besif ya5ouya hya', 2],\n",
              " ['besif ya5ouya hya tbi3etha', 2],\n",
              " ['ya5ouya hya tbi3etha 5ayba', 2],\n",
              " ['hya tbi3etha 5ayba jaltama', 2],\n",
              " ['tbi3etha 5ayba jaltama dharbetou', 2],\n",
              " ['5ayba jaltama dharbetou fi', 2],\n",
              " ['jaltama dharbetou fi rou7ha', 2],\n",
              " ['dharbetou fi rou7ha wel', 2],\n",
              " ['fi rou7ha wel ham', 2],\n",
              " ['rou7ha wel ham lkol', 2],\n",
              " ['wel ham lkol fuha', 2],\n",
              " ['ham lkol fuha ama', 2],\n",
              " ['lkol fuha ama maya3tikomch', 2],\n",
              " ['fuha ama maya3tikomch l7a9', 2],\n",
              " ['ama maya3tikomch l7a9 tetehmouha', 2],\n",
              " ['maya3tikomch l7a9 tetehmouha za7', 2],\n",
              " ['l7a9 tetehmouha za7 tebdew', 2],\n",
              " ['tetehmouha za7 tebdew 3ada', 2],\n",
              " ['za7 tebdew 3ada 3amlin', 2]]"
            ]
          },
          "metadata": {
            "tags": []
          },
          "execution_count": 13
        }
      ]
    },
    {
      "cell_type": "markdown",
      "metadata": {
        "id": "GF8VnJQVDf_7"
      },
      "source": [
        "# length of words\n",
        "No regex but added one liner to identify length of words in a sentence\n"
      ]
    },
    {
      "cell_type": "code",
      "metadata": {
        "colab": {
          "base_uri": "https://localhost:8080/",
          "height": 648
        },
        "id": "xsVgAYh3Dvtd",
        "outputId": "119a287d-4dff-4990-ac14-a57564de4dc7"
      },
      "source": [
        "data['text_length']=data['unique_char'].str.split().map(lambda x: len(x))\n",
        "data[['unique_char','text_length']].sample(20)"
      ],
      "execution_count": 14,
      "outputs": [
        {
          "output_type": "execute_result",
          "data": {
            "text/html": [
              "<div>\n",
              "<style scoped>\n",
              "    .dataframe tbody tr th:only-of-type {\n",
              "        vertical-align: middle;\n",
              "    }\n",
              "\n",
              "    .dataframe tbody tr th {\n",
              "        vertical-align: top;\n",
              "    }\n",
              "\n",
              "    .dataframe thead th {\n",
              "        text-align: right;\n",
              "    }\n",
              "</style>\n",
              "<table border=\"1\" class=\"dataframe\">\n",
              "  <thead>\n",
              "    <tr style=\"text-align: right;\">\n",
              "      <th></th>\n",
              "      <th>unique_char</th>\n",
              "      <th>text_length</th>\n",
              "    </tr>\n",
              "  </thead>\n",
              "  <tbody>\n",
              "    <tr>\n",
              "      <th>2598</th>\n",
              "      <td>['baredli galb kanat da3ara']</td>\n",
              "      <td>4</td>\n",
              "    </tr>\n",
              "    <tr>\n",
              "      <th>787</th>\n",
              "      <td>['had insan bayan chab3an man 9albou']</td>\n",
              "      <td>6</td>\n",
              "    </tr>\n",
              "    <tr>\n",
              "      <th>579</th>\n",
              "      <td>['hbal sa3ida']</td>\n",
              "      <td>2</td>\n",
              "    </tr>\n",
              "    <tr>\n",
              "      <th>2458</th>\n",
              "      <td>['trabelsi zok omek il 9a7ba enti wchi5 mte3k']</td>\n",
              "      <td>8</td>\n",
              "    </tr>\n",
              "    <tr>\n",
              "      <th>9</th>\n",
              "      <td>['31 decembre 2019 n3amkom mabrouk nés lkol']</td>\n",
              "      <td>7</td>\n",
              "    </tr>\n",
              "    <tr>\n",
              "      <th>480</th>\n",
              "      <td>['vayne wenti chkoun zeda']</td>\n",
              "      <td>4</td>\n",
              "    </tr>\n",
              "    <tr>\n",
              "      <th>1998</th>\n",
              "      <td>['hamdoulah 3ala n3met eslam e3bad dakhla fi 7...</td>\n",
              "      <td>15</td>\n",
              "    </tr>\n",
              "    <tr>\n",
              "      <th>2582</th>\n",
              "      <td>['housem 3asba lomek']</td>\n",
              "      <td>3</td>\n",
              "    </tr>\n",
              "    <tr>\n",
              "      <th>2058</th>\n",
              "      <td>['hadik maryem debagh tchebeh lerajel hata fi ...</td>\n",
              "      <td>70</td>\n",
              "    </tr>\n",
              "    <tr>\n",
              "      <th>1004</th>\n",
              "      <td>['wiw from america']</td>\n",
              "      <td>3</td>\n",
              "    </tr>\n",
              "    <tr>\n",
              "      <th>2326</th>\n",
              "      <td>['hsan wala chesmou ken we7ed e5er 3andou kara...</td>\n",
              "      <td>14</td>\n",
              "    </tr>\n",
              "    <tr>\n",
              "      <th>1138</th>\n",
              "      <td>['Brabi ouin mawjoudine']</td>\n",
              "      <td>3</td>\n",
              "    </tr>\n",
              "    <tr>\n",
              "      <th>1882</th>\n",
              "      <td>['chimda5el l style vestimentaire fely hiya ta...</td>\n",
              "      <td>8</td>\n",
              "    </tr>\n",
              "    <tr>\n",
              "      <th>2592</th>\n",
              "      <td>['manque de vocabulaire manque de respect drÃ´...</td>\n",
              "      <td>11</td>\n",
              "    </tr>\n",
              "    <tr>\n",
              "      <th>248</th>\n",
              "      <td>['yeser itire bech twali référence l4neya ena ...</td>\n",
              "      <td>13</td>\n",
              "    </tr>\n",
              "    <tr>\n",
              "      <th>603</th>\n",
              "      <td>['nhbkom']</td>\n",
              "      <td>1</td>\n",
              "    </tr>\n",
              "    <tr>\n",
              "      <th>1367</th>\n",
              "      <td>['nchalah nchofok sah manal']</td>\n",
              "      <td>4</td>\n",
              "    </tr>\n",
              "    <tr>\n",
              "      <th>992</th>\n",
              "      <td>['salmli 3la fahd l aradi']</td>\n",
              "      <td>5</td>\n",
              "    </tr>\n",
              "    <tr>\n",
              "      <th>1409</th>\n",
              "      <td>['we rana fel gasrin n7taflou ken felil bro']</td>\n",
              "      <td>8</td>\n",
              "    </tr>\n",
              "    <tr>\n",
              "      <th>1313</th>\n",
              "      <td>['bruh lkol menk h']</td>\n",
              "      <td>4</td>\n",
              "    </tr>\n",
              "  </tbody>\n",
              "</table>\n",
              "</div>"
            ],
            "text/plain": [
              "                                            unique_char  text_length\n",
              "2598                      ['baredli galb kanat da3ara']            4\n",
              "787              ['had insan bayan chab3an man 9albou']            6\n",
              "579                                     ['hbal sa3ida']            2\n",
              "2458    ['trabelsi zok omek il 9a7ba enti wchi5 mte3k']            8\n",
              "9         ['31 decembre 2019 n3amkom mabrouk nés lkol']            7\n",
              "480                         ['vayne wenti chkoun zeda']            4\n",
              "1998  ['hamdoulah 3ala n3met eslam e3bad dakhla fi 7...           15\n",
              "2582                             ['housem 3asba lomek']            3\n",
              "2058  ['hadik maryem debagh tchebeh lerajel hata fi ...           70\n",
              "1004                               ['wiw from america']            3\n",
              "2326  ['hsan wala chesmou ken we7ed e5er 3andou kara...           14\n",
              "1138                          ['Brabi ouin mawjoudine']            3\n",
              "1882  ['chimda5el l style vestimentaire fely hiya ta...            8\n",
              "2592  ['manque de vocabulaire manque de respect drÃ´...           11\n",
              "248   ['yeser itire bech twali référence l4neya ena ...           13\n",
              "603                                          ['nhbkom']            1\n",
              "1367                      ['nchalah nchofok sah manal']            4\n",
              "992                         ['salmli 3la fahd l aradi']            5\n",
              "1409      ['we rana fel gasrin n7taflou ken felil bro']            8\n",
              "1313                               ['bruh lkol menk h']            4"
            ]
          },
          "metadata": {
            "tags": []
          },
          "execution_count": 14
        }
      ]
    },
    {
      "cell_type": "markdown",
      "metadata": {
        "id": "0ZsTZMSKGBBC"
      },
      "source": [
        "number of words on cleaned corpus"
      ]
    },
    {
      "cell_type": "code",
      "metadata": {
        "colab": {
          "base_uri": "https://localhost:8080/"
        },
        "id": "1cylODFCEeuJ",
        "outputId": "8a98ce50-4c73-439b-f891-ffd958c40a7b"
      },
      "source": [
        "data['text_length'].sum()"
      ],
      "execution_count": 15,
      "outputs": [
        {
          "output_type": "execute_result",
          "data": {
            "text/plain": [
              "25902"
            ]
          },
          "metadata": {
            "tags": []
          },
          "execution_count": 15
        }
      ]
    },
    {
      "cell_type": "markdown",
      "metadata": {
        "id": "90YdEfnlD-fT"
      },
      "source": [
        "# Length of characters\n",
        "No regex but added one liner to identify length of words in a sentence\n",
        "\n"
      ]
    },
    {
      "cell_type": "code",
      "metadata": {
        "colab": {
          "base_uri": "https://localhost:8080/",
          "height": 138
        },
        "id": "MVrvwMrfDeXz",
        "outputId": "00257e76-ce7d-4567-998a-c2d6507b2b01"
      },
      "source": [
        "data['char_length']=data['unique_char'].str.len()\n",
        "data[['unique_char','char_length']].sample(3)"
      ],
      "execution_count": 20,
      "outputs": [
        {
          "output_type": "execute_result",
          "data": {
            "text/html": [
              "<div>\n",
              "<style scoped>\n",
              "    .dataframe tbody tr th:only-of-type {\n",
              "        vertical-align: middle;\n",
              "    }\n",
              "\n",
              "    .dataframe tbody tr th {\n",
              "        vertical-align: top;\n",
              "    }\n",
              "\n",
              "    .dataframe thead th {\n",
              "        text-align: right;\n",
              "    }\n",
              "</style>\n",
              "<table border=\"1\" class=\"dataframe\">\n",
              "  <thead>\n",
              "    <tr style=\"text-align: right;\">\n",
              "      <th></th>\n",
              "      <th>unique_char</th>\n",
              "      <th>char_length</th>\n",
              "    </tr>\n",
              "  </thead>\n",
              "  <tbody>\n",
              "    <tr>\n",
              "      <th>2638</th>\n",
              "      <td>[\"belikov son argument ne corespond pas a ce q...</td>\n",
              "      <td>181</td>\n",
              "    </tr>\n",
              "    <tr>\n",
              "      <th>2079</th>\n",
              "      <td>['cho aka el mis 3ad samahni fiha zeda heya la...</td>\n",
              "      <td>96</td>\n",
              "    </tr>\n",
              "    <tr>\n",
              "      <th>1257</th>\n",
              "      <td>['wini mgalou']</td>\n",
              "      <td>15</td>\n",
              "    </tr>\n",
              "  </tbody>\n",
              "</table>\n",
              "</div>"
            ],
            "text/plain": [
              "                                            unique_char  char_length\n",
              "2638  [\"belikov son argument ne corespond pas a ce q...          181\n",
              "2079  ['cho aka el mis 3ad samahni fiha zeda heya la...           96\n",
              "1257                                    ['wini mgalou']           15"
            ]
          },
          "metadata": {
            "tags": []
          },
          "execution_count": 20
        }
      ]
    },
    {
      "cell_type": "markdown",
      "metadata": {
        "id": "cUS5vV19GVB4"
      },
      "source": [
        "number of characters on cleaned corpus"
      ]
    },
    {
      "cell_type": "code",
      "metadata": {
        "colab": {
          "base_uri": "https://localhost:8080/"
        },
        "id": "S6meQe8iGGOy",
        "outputId": "146c27f7-61d9-4f5a-d63c-fc4d22ea2f77"
      },
      "source": [
        "data['char_length'].sum()"
      ],
      "execution_count": 21,
      "outputs": [
        {
          "output_type": "execute_result",
          "data": {
            "text/plain": [
              "157047"
            ]
          },
          "metadata": {
            "tags": []
          },
          "execution_count": 21
        }
      ]
    },
    {
      "cell_type": "code",
      "metadata": {
        "colab": {
          "base_uri": "https://localhost:8080/",
          "height": 407
        },
        "id": "ZSvxvYD3GejF",
        "outputId": "d823391b-a7d1-400a-ba01-f8460fdabe45"
      },
      "source": [
        "data"
      ],
      "execution_count": 23,
      "outputs": [
        {
          "output_type": "execute_result",
          "data": {
            "text/html": [
              "<div>\n",
              "<style scoped>\n",
              "    .dataframe tbody tr th:only-of-type {\n",
              "        vertical-align: middle;\n",
              "    }\n",
              "\n",
              "    .dataframe tbody tr th {\n",
              "        vertical-align: top;\n",
              "    }\n",
              "\n",
              "    .dataframe thead th {\n",
              "        text-align: right;\n",
              "    }\n",
              "</style>\n",
              "<table border=\"1\" class=\"dataframe\">\n",
              "  <thead>\n",
              "    <tr style=\"text-align: right;\">\n",
              "      <th></th>\n",
              "      <th>label</th>\n",
              "      <th>pick_unique</th>\n",
              "      <th>unique_char</th>\n",
              "      <th>text_cleaned</th>\n",
              "      <th>char_length</th>\n",
              "    </tr>\n",
              "  </thead>\n",
              "  <tbody>\n",
              "    <tr>\n",
              "      <th>0</th>\n",
              "      <td>1</td>\n",
              "      <td>['ana fil ghorba w sout el athan ahla haja 3ij...</td>\n",
              "      <td>['ana fil ghorba w sout el athan ahla haja 3ij...</td>\n",
              "      <td>['ana ghorba sout athan ahla haja 3ijbitni sah...</td>\n",
              "      <td>88</td>\n",
              "    </tr>\n",
              "    <tr>\n",
              "      <th>1</th>\n",
              "      <td>1</td>\n",
              "      <td>['man eheb rasoule mohamed']</td>\n",
              "      <td>['man eheb rasoule mohamed']</td>\n",
              "      <td>['man eheb rasoule mohamed']</td>\n",
              "      <td>28</td>\n",
              "    </tr>\n",
              "    <tr>\n",
              "      <th>2</th>\n",
              "      <td>1</td>\n",
              "      <td>['rabi yerhmou sofiane cha3ri']</td>\n",
              "      <td>['rabi yerhmou sofiane cha3ri']</td>\n",
              "      <td>['rabi yerhmou sofiane cha3ri']</td>\n",
              "      <td>31</td>\n",
              "    </tr>\n",
              "    <tr>\n",
              "      <th>3</th>\n",
              "      <td>1</td>\n",
              "      <td>['rabi yarahmak ya sbou3i wou yarham kol om mi...</td>\n",
              "      <td>['rabi yarahmak ya sbou3i wou yarham kol om mi...</td>\n",
              "      <td>['rabi yarahmak sbou3i wou yarham om mita']</td>\n",
              "      <td>50</td>\n",
              "    </tr>\n",
              "    <tr>\n",
              "      <th>4</th>\n",
              "      <td>1</td>\n",
              "      <td>['merci beaucoup salime']</td>\n",
              "      <td>['merci beaucoup salime']</td>\n",
              "      <td>['merci beaucoup salime']</td>\n",
              "      <td>25</td>\n",
              "    </tr>\n",
              "    <tr>\n",
              "      <th>...</th>\n",
              "      <td>...</td>\n",
              "      <td>...</td>\n",
              "      <td>...</td>\n",
              "      <td>...</td>\n",
              "      <td>...</td>\n",
              "    </tr>\n",
              "    <tr>\n",
              "      <th>2995</th>\n",
              "      <td>-1</td>\n",
              "      <td>['aasba lik o lih']</td>\n",
              "      <td>['asba lik o lih']</td>\n",
              "      <td>['asba lik o lih']</td>\n",
              "      <td>18</td>\n",
              "    </tr>\n",
              "    <tr>\n",
              "      <th>2996</th>\n",
              "      <td>-1</td>\n",
              "      <td>['billah ya sa7bi 3lech t9assem fina']</td>\n",
              "      <td>['bilah ya sa7bi 3lech t9asem fina']</td>\n",
              "      <td>['bilah sa7bi 3lech t9asem fina']</td>\n",
              "      <td>36</td>\n",
              "    </tr>\n",
              "    <tr>\n",
              "      <th>2997</th>\n",
              "      <td>-1</td>\n",
              "      <td>['aya belehi fech t5aref enti']</td>\n",
              "      <td>['aya belehi fech t5aref enti']</td>\n",
              "      <td>['aya belehi fech t5aref enti']</td>\n",
              "      <td>31</td>\n",
              "    </tr>\n",
              "    <tr>\n",
              "      <th>2998</th>\n",
              "      <td>-1</td>\n",
              "      <td>['mamset zok omkom']</td>\n",
              "      <td>['mamset zok omkom']</td>\n",
              "      <td>['mamset zok omkom']</td>\n",
              "      <td>20</td>\n",
              "    </tr>\n",
              "    <tr>\n",
              "      <th>2999</th>\n",
              "      <td>-1</td>\n",
              "      <td>['ti barra neyekkk']</td>\n",
              "      <td>['ti bara neyek']</td>\n",
              "      <td>['ti bara neyek']</td>\n",
              "      <td>17</td>\n",
              "    </tr>\n",
              "  </tbody>\n",
              "</table>\n",
              "<p>3000 rows × 5 columns</p>\n",
              "</div>"
            ],
            "text/plain": [
              "      label  ... char_length\n",
              "0         1  ...          88\n",
              "1         1  ...          28\n",
              "2         1  ...          31\n",
              "3         1  ...          50\n",
              "4         1  ...          25\n",
              "...     ...  ...         ...\n",
              "2995     -1  ...          18\n",
              "2996     -1  ...          36\n",
              "2997     -1  ...          31\n",
              "2998     -1  ...          20\n",
              "2999     -1  ...          17\n",
              "\n",
              "[3000 rows x 5 columns]"
            ]
          },
          "metadata": {
            "tags": []
          },
          "execution_count": 23
        }
      ]
    },
    {
      "cell_type": "code",
      "metadata": {
        "id": "jVR0bwKdJQYw"
      },
      "source": [
        "data.drop(['text_clean', 'text_length','char_length'], axis=1, inplace=True)"
      ],
      "execution_count": null,
      "outputs": []
    },
    {
      "cell_type": "code",
      "metadata": {
        "colab": {
          "base_uri": "https://localhost:8080/",
          "height": 198
        },
        "id": "HBOwBbJIIITI",
        "outputId": "04ba58cc-d875-4cfc-92a5-2a381e8ccda7"
      },
      "source": [
        "data['text_cleaned'] = data['unique_char'].apply(lambda s: \" \".join([word for word in s.split() if word not in noise1gram]))\n",
        "data.head(5)"
      ],
      "execution_count": 24,
      "outputs": [
        {
          "output_type": "execute_result",
          "data": {
            "text/html": [
              "<div>\n",
              "<style scoped>\n",
              "    .dataframe tbody tr th:only-of-type {\n",
              "        vertical-align: middle;\n",
              "    }\n",
              "\n",
              "    .dataframe tbody tr th {\n",
              "        vertical-align: top;\n",
              "    }\n",
              "\n",
              "    .dataframe thead th {\n",
              "        text-align: right;\n",
              "    }\n",
              "</style>\n",
              "<table border=\"1\" class=\"dataframe\">\n",
              "  <thead>\n",
              "    <tr style=\"text-align: right;\">\n",
              "      <th></th>\n",
              "      <th>label</th>\n",
              "      <th>pick_unique</th>\n",
              "      <th>unique_char</th>\n",
              "      <th>text_cleaned</th>\n",
              "      <th>char_length</th>\n",
              "    </tr>\n",
              "  </thead>\n",
              "  <tbody>\n",
              "    <tr>\n",
              "      <th>0</th>\n",
              "      <td>1</td>\n",
              "      <td>['ana fil ghorba w sout el athan ahla haja 3ij...</td>\n",
              "      <td>['ana fil ghorba w sout el athan ahla haja 3ij...</td>\n",
              "      <td>['ana ghorba sout athan ahla haja 3ijbitni sah...</td>\n",
              "      <td>88</td>\n",
              "    </tr>\n",
              "    <tr>\n",
              "      <th>1</th>\n",
              "      <td>1</td>\n",
              "      <td>['man eheb rasoule mohamed']</td>\n",
              "      <td>['man eheb rasoule mohamed']</td>\n",
              "      <td>['man eheb rasoule mohamed']</td>\n",
              "      <td>28</td>\n",
              "    </tr>\n",
              "    <tr>\n",
              "      <th>2</th>\n",
              "      <td>1</td>\n",
              "      <td>['rabi yerhmou sofiane cha3ri']</td>\n",
              "      <td>['rabi yerhmou sofiane cha3ri']</td>\n",
              "      <td>['rabi yerhmou sofiane cha3ri']</td>\n",
              "      <td>31</td>\n",
              "    </tr>\n",
              "    <tr>\n",
              "      <th>3</th>\n",
              "      <td>1</td>\n",
              "      <td>['rabi yarahmak ya sbou3i wou yarham kol om mi...</td>\n",
              "      <td>['rabi yarahmak ya sbou3i wou yarham kol om mi...</td>\n",
              "      <td>['rabi yarahmak sbou3i wou yarham om mita']</td>\n",
              "      <td>50</td>\n",
              "    </tr>\n",
              "    <tr>\n",
              "      <th>4</th>\n",
              "      <td>1</td>\n",
              "      <td>['merci beaucoup salime']</td>\n",
              "      <td>['merci beaucoup salime']</td>\n",
              "      <td>['merci beaucoup salime']</td>\n",
              "      <td>25</td>\n",
              "    </tr>\n",
              "  </tbody>\n",
              "</table>\n",
              "</div>"
            ],
            "text/plain": [
              "   label  ... char_length\n",
              "0      1  ...          88\n",
              "1      1  ...          28\n",
              "2      1  ...          31\n",
              "3      1  ...          50\n",
              "4      1  ...          25\n",
              "\n",
              "[5 rows x 5 columns]"
            ]
          },
          "metadata": {
            "tags": []
          },
          "execution_count": 24
        }
      ]
    },
    {
      "cell_type": "markdown",
      "metadata": {
        "id": "aEuKAkzRjeAV"
      },
      "source": [
        "# 2,3,4-grmaes after removing inutile words from 1-grmaes"
      ]
    },
    {
      "cell_type": "code",
      "metadata": {
        "id": "VSmFCUq1Xt8L"
      },
      "source": [
        "deux_gram =ngrams_top(data['text_cleaned'],(2,2),n=200)\n",
        "deux_gram.values.tolist()"
      ],
      "execution_count": null,
      "outputs": []
    },
    {
      "cell_type": "code",
      "metadata": {
        "id": "yI7GJ_Cljj9E"
      },
      "source": [
        "trois_gram =ngrams_top(data['text_cleaned'],(3,3),n=200)\n",
        "trois_gram.values.tolist()"
      ],
      "execution_count": null,
      "outputs": []
    },
    {
      "cell_type": "code",
      "metadata": {
        "id": "nvdF79rPmFcv"
      },
      "source": [
        "quatre_gram =ngrams_top(data['text_cleaned'],(4,4),n=200)\n",
        "quatre_gram.values.tolist()"
      ],
      "execution_count": null,
      "outputs": []
    },
    {
      "cell_type": "code",
      "metadata": {
        "id": "uhwLojXqnoRb"
      },
      "source": [
        "n_gram =ngrams_top(data['text_cleaned'],(8,8),n=200)\n",
        "n_gram.values.tolist()"
      ],
      "execution_count": null,
      "outputs": []
    },
    {
      "cell_type": "code",
      "metadata": {
        "colab": {
          "base_uri": "https://localhost:8080/"
        },
        "id": "rge8zudwoU1S",
        "outputId": "4b826408-23b9-4c47-aec0-9235d7ab0d45"
      },
      "source": [
        "data['text_length']=data['text_cleaned'].str.split().map(lambda x: len(x))\n",
        "data[['text_cleaned','text_length']].sample(20)\n",
        "data['text_length'].sum()"
      ],
      "execution_count": null,
      "outputs": [
        {
          "output_type": "execute_result",
          "data": {
            "text/plain": [
              "1320253"
            ]
          },
          "metadata": {
            "tags": []
          },
          "execution_count": 54
        }
      ]
    },
    {
      "cell_type": "code",
      "metadata": {
        "colab": {
          "base_uri": "https://localhost:8080/"
        },
        "id": "7k4VqxVbpiIT",
        "outputId": "7139c04f-b87a-42ce-dc1f-6d82f966a324"
      },
      "source": [
        "1583826-1320253"
      ],
      "execution_count": null,
      "outputs": [
        {
          "output_type": "execute_result",
          "data": {
            "text/plain": [
              "263573"
            ]
          },
          "metadata": {
            "tags": []
          },
          "execution_count": 55
        }
      ]
    },
    {
      "cell_type": "markdown",
      "metadata": {
        "id": "pJT5iYegpoAl"
      },
      "source": [
        "c'est deja pas mal de libérer 263573 mots"
      ]
    },
    {
      "cell_type": "code",
      "metadata": {
        "id": "EcWvXNxevdDT"
      },
      "source": [
        "def unifier(phrase):\n",
        "    # specific\n",
        "    phrase = re.sub(r\"trés\", \"tres\", phrase)\n",
        "    phrase = re.sub(r\"très\", \"tres\", phrase)\n",
        "    phrase = re.sub(r\"apli\",\"application\",phrase)\n",
        "    phrase = re.sub(r\"lapli\",\"application\",phrase)\n",
        "    phrase = re.sub(r\"l'aplication\",\"application\",phrase)\n",
        "    phrase = re.sub(r\"l'application\",\"application\",phrase)\n",
        "    phrase = re.sub(r\"aplication\",\"application\",phrase)\n",
        "    \n",
        "    return phrase\n",
        "\n",
        "data['text_cleaned']=data['text_cleaned'].apply(lambda s: unifier(s))"
      ],
      "execution_count": 25,
      "outputs": []
    },
    {
      "cell_type": "code",
      "metadata": {
        "colab": {
          "base_uri": "https://localhost:8080/",
          "height": 407
        },
        "id": "R_7t4s6vzIWq",
        "outputId": "ca28f5e3-074a-4ba1-ca55-7b1115009769"
      },
      "source": [
        "data"
      ],
      "execution_count": 26,
      "outputs": [
        {
          "output_type": "execute_result",
          "data": {
            "text/html": [
              "<div>\n",
              "<style scoped>\n",
              "    .dataframe tbody tr th:only-of-type {\n",
              "        vertical-align: middle;\n",
              "    }\n",
              "\n",
              "    .dataframe tbody tr th {\n",
              "        vertical-align: top;\n",
              "    }\n",
              "\n",
              "    .dataframe thead th {\n",
              "        text-align: right;\n",
              "    }\n",
              "</style>\n",
              "<table border=\"1\" class=\"dataframe\">\n",
              "  <thead>\n",
              "    <tr style=\"text-align: right;\">\n",
              "      <th></th>\n",
              "      <th>label</th>\n",
              "      <th>pick_unique</th>\n",
              "      <th>unique_char</th>\n",
              "      <th>text_cleaned</th>\n",
              "      <th>char_length</th>\n",
              "    </tr>\n",
              "  </thead>\n",
              "  <tbody>\n",
              "    <tr>\n",
              "      <th>0</th>\n",
              "      <td>1</td>\n",
              "      <td>['ana fil ghorba w sout el athan ahla haja 3ij...</td>\n",
              "      <td>['ana fil ghorba w sout el athan ahla haja 3ij...</td>\n",
              "      <td>['ana ghorba sout athan ahla haja 3ijbitni sah...</td>\n",
              "      <td>88</td>\n",
              "    </tr>\n",
              "    <tr>\n",
              "      <th>1</th>\n",
              "      <td>1</td>\n",
              "      <td>['man eheb rasoule mohamed']</td>\n",
              "      <td>['man eheb rasoule mohamed']</td>\n",
              "      <td>['man eheb rasoule mohamed']</td>\n",
              "      <td>28</td>\n",
              "    </tr>\n",
              "    <tr>\n",
              "      <th>2</th>\n",
              "      <td>1</td>\n",
              "      <td>['rabi yerhmou sofiane cha3ri']</td>\n",
              "      <td>['rabi yerhmou sofiane cha3ri']</td>\n",
              "      <td>['rabi yerhmou sofiane cha3ri']</td>\n",
              "      <td>31</td>\n",
              "    </tr>\n",
              "    <tr>\n",
              "      <th>3</th>\n",
              "      <td>1</td>\n",
              "      <td>['rabi yarahmak ya sbou3i wou yarham kol om mi...</td>\n",
              "      <td>['rabi yarahmak ya sbou3i wou yarham kol om mi...</td>\n",
              "      <td>['rabi yarahmak sbou3i wou yarham om mita']</td>\n",
              "      <td>50</td>\n",
              "    </tr>\n",
              "    <tr>\n",
              "      <th>4</th>\n",
              "      <td>1</td>\n",
              "      <td>['merci beaucoup salime']</td>\n",
              "      <td>['merci beaucoup salime']</td>\n",
              "      <td>['merci beaucoup salime']</td>\n",
              "      <td>25</td>\n",
              "    </tr>\n",
              "    <tr>\n",
              "      <th>...</th>\n",
              "      <td>...</td>\n",
              "      <td>...</td>\n",
              "      <td>...</td>\n",
              "      <td>...</td>\n",
              "      <td>...</td>\n",
              "    </tr>\n",
              "    <tr>\n",
              "      <th>2995</th>\n",
              "      <td>-1</td>\n",
              "      <td>['aasba lik o lih']</td>\n",
              "      <td>['asba lik o lih']</td>\n",
              "      <td>['asba lik o lih']</td>\n",
              "      <td>18</td>\n",
              "    </tr>\n",
              "    <tr>\n",
              "      <th>2996</th>\n",
              "      <td>-1</td>\n",
              "      <td>['billah ya sa7bi 3lech t9assem fina']</td>\n",
              "      <td>['bilah ya sa7bi 3lech t9asem fina']</td>\n",
              "      <td>['bilah sa7bi 3lech t9asem fina']</td>\n",
              "      <td>36</td>\n",
              "    </tr>\n",
              "    <tr>\n",
              "      <th>2997</th>\n",
              "      <td>-1</td>\n",
              "      <td>['aya belehi fech t5aref enti']</td>\n",
              "      <td>['aya belehi fech t5aref enti']</td>\n",
              "      <td>['aya belehi fech t5aref enti']</td>\n",
              "      <td>31</td>\n",
              "    </tr>\n",
              "    <tr>\n",
              "      <th>2998</th>\n",
              "      <td>-1</td>\n",
              "      <td>['mamset zok omkom']</td>\n",
              "      <td>['mamset zok omkom']</td>\n",
              "      <td>['mamset zok omkom']</td>\n",
              "      <td>20</td>\n",
              "    </tr>\n",
              "    <tr>\n",
              "      <th>2999</th>\n",
              "      <td>-1</td>\n",
              "      <td>['ti barra neyekkk']</td>\n",
              "      <td>['ti bara neyek']</td>\n",
              "      <td>['ti bara neyek']</td>\n",
              "      <td>17</td>\n",
              "    </tr>\n",
              "  </tbody>\n",
              "</table>\n",
              "<p>3000 rows × 5 columns</p>\n",
              "</div>"
            ],
            "text/plain": [
              "      label  ... char_length\n",
              "0         1  ...          88\n",
              "1         1  ...          28\n",
              "2         1  ...          31\n",
              "3         1  ...          50\n",
              "4         1  ...          25\n",
              "...     ...  ...         ...\n",
              "2995     -1  ...          18\n",
              "2996     -1  ...          36\n",
              "2997     -1  ...          31\n",
              "2998     -1  ...          20\n",
              "2999     -1  ...          17\n",
              "\n",
              "[3000 rows x 5 columns]"
            ]
          },
          "metadata": {
            "tags": []
          },
          "execution_count": 26
        }
      ]
    },
    {
      "cell_type": "code",
      "metadata": {
        "id": "loU6bULDzPm8"
      },
      "source": [
        "data.drop(['pick_unique', 'unique_char','char_length'], axis=1, inplace=True)\n"
      ],
      "execution_count": 28,
      "outputs": []
    },
    {
      "cell_type": "code",
      "metadata": {
        "colab": {
          "base_uri": "https://localhost:8080/",
          "height": 198
        },
        "id": "Kl2DT8aNzb_V",
        "outputId": "52b7b271-62fc-4a66-a1cb-cb38d8831c09"
      },
      "source": [
        "data.head()"
      ],
      "execution_count": 31,
      "outputs": [
        {
          "output_type": "execute_result",
          "data": {
            "text/html": [
              "<div>\n",
              "<style scoped>\n",
              "    .dataframe tbody tr th:only-of-type {\n",
              "        vertical-align: middle;\n",
              "    }\n",
              "\n",
              "    .dataframe tbody tr th {\n",
              "        vertical-align: top;\n",
              "    }\n",
              "\n",
              "    .dataframe thead th {\n",
              "        text-align: right;\n",
              "    }\n",
              "</style>\n",
              "<table border=\"1\" class=\"dataframe\">\n",
              "  <thead>\n",
              "    <tr style=\"text-align: right;\">\n",
              "      <th></th>\n",
              "      <th>label</th>\n",
              "      <th>text_cleaned</th>\n",
              "    </tr>\n",
              "  </thead>\n",
              "  <tbody>\n",
              "    <tr>\n",
              "      <th>0</th>\n",
              "      <td>1</td>\n",
              "      <td>['ana ghorba sout athan ahla haja 3ijbitni sah...</td>\n",
              "    </tr>\n",
              "    <tr>\n",
              "      <th>1</th>\n",
              "      <td>1</td>\n",
              "      <td>['man eheb rasoule mohamed']</td>\n",
              "    </tr>\n",
              "    <tr>\n",
              "      <th>2</th>\n",
              "      <td>1</td>\n",
              "      <td>['rabi yerhmou sofiane cha3ri']</td>\n",
              "    </tr>\n",
              "    <tr>\n",
              "      <th>3</th>\n",
              "      <td>1</td>\n",
              "      <td>['rabi yarahmak sbou3i wou yarham om mita']</td>\n",
              "    </tr>\n",
              "    <tr>\n",
              "      <th>4</th>\n",
              "      <td>1</td>\n",
              "      <td>['merci beaucoup salime']</td>\n",
              "    </tr>\n",
              "  </tbody>\n",
              "</table>\n",
              "</div>"
            ],
            "text/plain": [
              "   label                                       text_cleaned\n",
              "0      1  ['ana ghorba sout athan ahla haja 3ijbitni sah...\n",
              "1      1                       ['man eheb rasoule mohamed']\n",
              "2      1                    ['rabi yerhmou sofiane cha3ri']\n",
              "3      1        ['rabi yarahmak sbou3i wou yarham om mita']\n",
              "4      1                          ['merci beaucoup salime']"
            ]
          },
          "metadata": {
            "tags": []
          },
          "execution_count": 31
        }
      ]
    },
    {
      "cell_type": "code",
      "metadata": {
        "colab": {
          "base_uri": "https://localhost:8080/",
          "height": 198
        },
        "id": "qokdqoN_zr8r",
        "outputId": "0a9accce-b864-489b-e03f-b094bb5e365d"
      },
      "source": [
        "#save our clean dataframe into csv file\n",
        "#data.to_csv ('cleaned_data.csv')\n",
        "data.rename(index=str, columns={'text_cleaned':'text_clean'},inplace=True)\n",
        "#save our clean dataframe into csv file\n",
        "data.head()"
      ],
      "execution_count": 32,
      "outputs": [
        {
          "output_type": "execute_result",
          "data": {
            "text/html": [
              "<div>\n",
              "<style scoped>\n",
              "    .dataframe tbody tr th:only-of-type {\n",
              "        vertical-align: middle;\n",
              "    }\n",
              "\n",
              "    .dataframe tbody tr th {\n",
              "        vertical-align: top;\n",
              "    }\n",
              "\n",
              "    .dataframe thead th {\n",
              "        text-align: right;\n",
              "    }\n",
              "</style>\n",
              "<table border=\"1\" class=\"dataframe\">\n",
              "  <thead>\n",
              "    <tr style=\"text-align: right;\">\n",
              "      <th></th>\n",
              "      <th>label</th>\n",
              "      <th>text_clean</th>\n",
              "    </tr>\n",
              "  </thead>\n",
              "  <tbody>\n",
              "    <tr>\n",
              "      <th>0</th>\n",
              "      <td>1</td>\n",
              "      <td>['ana ghorba sout athan ahla haja 3ijbitni sah...</td>\n",
              "    </tr>\n",
              "    <tr>\n",
              "      <th>1</th>\n",
              "      <td>1</td>\n",
              "      <td>['man eheb rasoule mohamed']</td>\n",
              "    </tr>\n",
              "    <tr>\n",
              "      <th>2</th>\n",
              "      <td>1</td>\n",
              "      <td>['rabi yerhmou sofiane cha3ri']</td>\n",
              "    </tr>\n",
              "    <tr>\n",
              "      <th>3</th>\n",
              "      <td>1</td>\n",
              "      <td>['rabi yarahmak sbou3i wou yarham om mita']</td>\n",
              "    </tr>\n",
              "    <tr>\n",
              "      <th>4</th>\n",
              "      <td>1</td>\n",
              "      <td>['merci beaucoup salime']</td>\n",
              "    </tr>\n",
              "  </tbody>\n",
              "</table>\n",
              "</div>"
            ],
            "text/plain": [
              "   label                                         text_clean\n",
              "0      1  ['ana ghorba sout athan ahla haja 3ijbitni sah...\n",
              "1      1                       ['man eheb rasoule mohamed']\n",
              "2      1                    ['rabi yerhmou sofiane cha3ri']\n",
              "3      1        ['rabi yarahmak sbou3i wou yarham om mita']\n",
              "4      1                          ['merci beaucoup salime']"
            ]
          },
          "metadata": {
            "tags": []
          },
          "execution_count": 32
        }
      ]
    },
    {
      "cell_type": "code",
      "metadata": {
        "id": "bUuNi5cp6uAv"
      },
      "source": [
        "data.to_csv('cleaned_data_tunizi.csv',index=False)"
      ],
      "execution_count": null,
      "outputs": []
    },
    {
      "cell_type": "code",
      "metadata": {
        "colab": {
          "base_uri": "https://localhost:8080/",
          "height": 198
        },
        "id": "snCVc_GH7AV2",
        "outputId": "9e4c0740-c096-41c6-af9e-b426a0ebffcd"
      },
      "source": [
        "data = pd.read_csv('/content/cleaned_data_tunizi.csv')\n",
        "data.head()"
      ],
      "execution_count": 103,
      "outputs": [
        {
          "output_type": "execute_result",
          "data": {
            "text/html": [
              "<div>\n",
              "<style scoped>\n",
              "    .dataframe tbody tr th:only-of-type {\n",
              "        vertical-align: middle;\n",
              "    }\n",
              "\n",
              "    .dataframe tbody tr th {\n",
              "        vertical-align: top;\n",
              "    }\n",
              "\n",
              "    .dataframe thead th {\n",
              "        text-align: right;\n",
              "    }\n",
              "</style>\n",
              "<table border=\"1\" class=\"dataframe\">\n",
              "  <thead>\n",
              "    <tr style=\"text-align: right;\">\n",
              "      <th></th>\n",
              "      <th>label</th>\n",
              "      <th>text_clean</th>\n",
              "    </tr>\n",
              "  </thead>\n",
              "  <tbody>\n",
              "    <tr>\n",
              "      <th>0</th>\n",
              "      <td>1</td>\n",
              "      <td>['ana ghorba sout athan ahla haja 3ijbitni sah...</td>\n",
              "    </tr>\n",
              "    <tr>\n",
              "      <th>1</th>\n",
              "      <td>1</td>\n",
              "      <td>['man eheb rasoule mohamed']</td>\n",
              "    </tr>\n",
              "    <tr>\n",
              "      <th>2</th>\n",
              "      <td>1</td>\n",
              "      <td>['rabi yerhmou sofiane cha3ri']</td>\n",
              "    </tr>\n",
              "    <tr>\n",
              "      <th>3</th>\n",
              "      <td>1</td>\n",
              "      <td>['rabi yarahmak sbou3i wou yarham om mita']</td>\n",
              "    </tr>\n",
              "    <tr>\n",
              "      <th>4</th>\n",
              "      <td>1</td>\n",
              "      <td>['merci beaucoup salime']</td>\n",
              "    </tr>\n",
              "  </tbody>\n",
              "</table>\n",
              "</div>"
            ],
            "text/plain": [
              "   label                                         text_clean\n",
              "0      1  ['ana ghorba sout athan ahla haja 3ijbitni sah...\n",
              "1      1                       ['man eheb rasoule mohamed']\n",
              "2      1                    ['rabi yerhmou sofiane cha3ri']\n",
              "3      1        ['rabi yarahmak sbou3i wou yarham om mita']\n",
              "4      1                          ['merci beaucoup salime']"
            ]
          },
          "metadata": {
            "tags": []
          },
          "execution_count": 103
        }
      ]
    },
    {
      "cell_type": "code",
      "metadata": {
        "id": "zKP6BhXNedk8"
      },
      "source": [
        "data['label'] = data['label'].replace([-1], 0)\n"
      ],
      "execution_count": 104,
      "outputs": []
    },
    {
      "cell_type": "code",
      "metadata": {
        "colab": {
          "base_uri": "https://localhost:8080/"
        },
        "id": "YCOfFYsd-fuj",
        "outputId": "5aea667a-b00a-4d62-ad1d-fc2cd70e0cce"
      },
      "source": [
        "data['label'].value_counts()"
      ],
      "execution_count": 105,
      "outputs": [
        {
          "output_type": "execute_result",
          "data": {
            "text/plain": [
              "1    1500\n",
              "0    1500\n",
              "Name: label, dtype: int64"
            ]
          },
          "metadata": {
            "tags": []
          },
          "execution_count": 105
        }
      ]
    },
    {
      "cell_type": "code",
      "metadata": {
        "colab": {
          "base_uri": "https://localhost:8080/"
        },
        "id": "fVOu3dOEHLPc",
        "outputId": "a7534940-9633-4d47-f2ae-272dd7d5898f"
      },
      "source": [
        "def get_max_length():\n",
        "    review_length = []\n",
        "    for review in data['text_clean']:\n",
        "        review_length.append(len(review))\n",
        "\n",
        "    return int(np.ceil(np.mean(review_length)))\n",
        "\n",
        "\n",
        "max_length = get_max_length()\n",
        "print('Maximum review length: ', max_length)"
      ],
      "execution_count": 106,
      "outputs": [
        {
          "output_type": "stream",
          "text": [
            "Maximum review length:  49\n"
          ],
          "name": "stdout"
        }
      ]
    },
    {
      "cell_type": "code",
      "metadata": {
        "colab": {
          "base_uri": "https://localhost:8080/"
        },
        "id": "Zoqzh3iyHN0e",
        "outputId": "b197d277-182a-4057-ff33-4f931ff359d3"
      },
      "source": [
        "labels = np.array(data['label'])\n",
        "y = []\n",
        "for i in range(len(labels)):\n",
        "    if labels[i] == 0:\n",
        "        y.append(0)\n",
        "    if labels[i] == 1:\n",
        "        y.append(1)\n",
        "\n",
        "y = np.array(y)\n",
        "labels = tf.keras.utils.to_categorical(y, 2, dtype=\"int\")\n",
        "X_train, X_test, Y_train, Y_test = train_test_split(data['text_clean'], labels, test_size = 0.2, random_state = 42)\n",
        "\n",
        "print(X_train.shape,Y_train.shape)\n",
        "print(X_test.shape,Y_test.shape)"
      ],
      "execution_count": 107,
      "outputs": [
        {
          "output_type": "stream",
          "text": [
            "(2400,) (2400, 2)\n",
            "(600,) (600, 2)\n"
          ],
          "name": "stdout"
        }
      ]
    },
    {
      "cell_type": "code",
      "metadata": {
        "colab": {
          "base_uri": "https://localhost:8080/"
        },
        "id": "eMc5047JHQt2",
        "outputId": "41786795-3067-4dd4-f980-f1524eb1ca60"
      },
      "source": [
        "# ENCODE REVIEW\n",
        "token = Tokenizer(lower=False)    # no need lower, because already lowered the data in load_data()\n",
        "token.fit_on_texts(X_train)\n",
        "X_train = token.texts_to_sequences(X_train)\n",
        "X_test = token.texts_to_sequences(X_test)\n",
        "\n",
        "max_length = get_max_length()\n",
        "\n",
        "X_train = pad_sequences(X_train, maxlen=max_length, padding='post', truncating='post')\n",
        "X_test = pad_sequences(X_test, maxlen=max_length, padding='post', truncating='post')\n",
        "\n",
        "total_words = len(token.word_index) + 1   # add 1 because of 0 padding\n",
        "\n",
        "print('Encoded X Train\\n', X_train, '\\n')\n",
        "print('Encoded X Test\\n', X_test, '\\n')\n",
        "print('Maximum review length: ', max_length)\n",
        "print('total words:', total_words)"
      ],
      "execution_count": 108,
      "outputs": [
        {
          "output_type": "stream",
          "text": [
            "Encoded X Train\n",
            " [[  296  2211  2212 ...     0     0     0]\n",
            " [ 2214  2215  2216 ...     0     0     0]\n",
            " [ 1101  2217     0 ...     0     0     0]\n",
            " ...\n",
            " [  889 10214   263 ...     0     0     0]\n",
            " [   12 10227 10228 ...     0     0     0]\n",
            " [10229 10230 10231 ...     0     0     0]] \n",
            "\n",
            "Encoded X Test\n",
            " [[ 709 7169 1288 ...    0    0    0]\n",
            " [2984  851   33 ...    0    0    0]\n",
            " [1234   45    0 ...    0    0    0]\n",
            " ...\n",
            " [  58    0    0 ...    0    0    0]\n",
            " [   5  426    0 ...    0    0    0]\n",
            " [   0    0    0 ...    0    0    0]] \n",
            "\n",
            "Maximum review length:  49\n",
            "total words: 10233\n"
          ],
          "name": "stdout"
        }
      ]
    },
    {
      "cell_type": "code",
      "metadata": {
        "colab": {
          "base_uri": "https://localhost:8080/"
        },
        "id": "L7hfAqc3HTvd",
        "outputId": "1b7f8643-8352-4ea0-a329-08a00e5e5d81"
      },
      "source": [
        "# blstm bestmodel\n",
        "import tensorflow as tf\n",
        "keras = tf.keras  \n",
        "embed_dim = 148\n",
        "lstm_out = 50\n",
        "EPOCHS = 4\n",
        "checkpoint_filepath = 'model_BLSTM.hdf5'\n",
        "BATCH_SIZE =128\n",
        "max_features = total_words\n",
        "\n",
        "model = Sequential()\n",
        "#model.add(Dropout(0.2))\n",
        "model.add(Embedding(max_features, embed_dim,input_length = max_length))\n",
        "model.add(layers.Bidirectional(layers.LSTM(lstm_out,activation='tanh',recurrent_dropout=0.1,dropout=0.3)))\n",
        "#model.add(LSTM(lstm_out,dropout=0.2,recurrent_dropout=0.2, return_sequences=False))\n",
        "model.add(Dense(30))\n",
        "model.add(Dropout(0.2))\n",
        "model.add(Dense(15))\n",
        "model.add(Dropout(0.1))\n",
        "model.add(Dense(2,activation='sigmoid'))\n",
        "model.compile(loss = 'BinaryCrossentropy', optimizer='adam',metrics = ['accuracy'])\n",
        "print(model.summary())\n",
        "checkpoint = ModelCheckpoint(filepath=checkpoint_filepath, monitor='val_accuracy', verbose=1,save_best_only=True, mode='max', period=1,save_weights_only=True,)\n",
        "history = model.fit(X_train, Y_train, epochs=EPOCHS, validation_data=(X_test, Y_test),callbacks=[checkpoint],batch_size = BATCH_SIZE)\n",
        "np.save('my_history_BLSTM.npy',history.history)\n",
        "model.save(checkpoint_filepath)"
      ],
      "execution_count": 194,
      "outputs": [
        {
          "output_type": "stream",
          "text": [
            "WARNING:tensorflow:Layer lstm_45 will not use cuDNN kernels since it doesn't meet the criteria. It will use a generic GPU kernel as fallback when running on GPU.\n",
            "Model: \"sequential_45\"\n",
            "_________________________________________________________________\n",
            "Layer (type)                 Output Shape              Param #   \n",
            "=================================================================\n",
            "embedding_45 (Embedding)     (None, 49, 148)           1514484   \n",
            "_________________________________________________________________\n",
            "lstm_45 (LSTM)               (None, 50)                39800     \n",
            "_________________________________________________________________\n",
            "dense_135 (Dense)            (None, 30)                1530      \n",
            "_________________________________________________________________\n",
            "dropout_81 (Dropout)         (None, 30)                0         \n",
            "_________________________________________________________________\n",
            "dense_136 (Dense)            (None, 15)                465       \n",
            "_________________________________________________________________\n",
            "dropout_82 (Dropout)         (None, 15)                0         \n",
            "_________________________________________________________________\n",
            "dense_137 (Dense)            (None, 2)                 32        \n",
            "=================================================================\n",
            "Total params: 1,556,311\n",
            "Trainable params: 1,556,311\n",
            "Non-trainable params: 0\n",
            "_________________________________________________________________\n",
            "None\n",
            "WARNING:tensorflow:`period` argument is deprecated. Please use `save_freq` to specify the frequency in number of batches seen.\n",
            "Epoch 1/4\n",
            "19/19 [==============================] - 12s 375ms/step - loss: 0.6942 - accuracy: 0.4770 - val_loss: 0.6944 - val_accuracy: 0.4783\n",
            "\n",
            "Epoch 00001: val_accuracy improved from -inf to 0.47833, saving model to model_BLSTM.hdf5\n",
            "Epoch 2/4\n",
            "19/19 [==============================] - 6s 321ms/step - loss: 0.6936 - accuracy: 0.5064 - val_loss: 0.6932 - val_accuracy: 0.4783\n",
            "\n",
            "Epoch 00002: val_accuracy did not improve from 0.47833\n",
            "Epoch 3/4\n",
            "19/19 [==============================] - 6s 314ms/step - loss: 0.6929 - accuracy: 0.5166 - val_loss: 0.6932 - val_accuracy: 0.5317\n",
            "\n",
            "Epoch 00003: val_accuracy improved from 0.47833 to 0.53167, saving model to model_BLSTM.hdf5\n",
            "Epoch 4/4\n",
            "19/19 [==============================] - 6s 327ms/step - loss: 0.6930 - accuracy: 0.5141 - val_loss: 0.6933 - val_accuracy: 0.4783\n",
            "\n",
            "Epoch 00004: val_accuracy did not improve from 0.53167\n"
          ],
          "name": "stdout"
        }
      ]
    },
    {
      "cell_type": "code",
      "metadata": {
        "colab": {
          "base_uri": "https://localhost:8080/"
        },
        "id": "Kt3PiRbWToho",
        "outputId": "8178906f-8ba7-426a-f213-d8e98afd01a0"
      },
      "source": [
        "# Evaluate the model1\n",
        "loss, acc = model.evaluate(X_test, Y_test, verbose=1)\n",
        "print(\"Untrained model, accuracy: {:5.2f}%\".format(100 * acc))"
      ],
      "execution_count": 190,
      "outputs": [
        {
          "output_type": "stream",
          "text": [
            "19/19 [==============================] - 0s 22ms/step - loss: 0.9599 - accuracy: 0.7350\n",
            "Untrained model, accuracy: 73.50%\n"
          ],
          "name": "stdout"
        }
      ]
    },
    {
      "cell_type": "code",
      "metadata": {
        "colab": {
          "base_uri": "https://localhost:8080/"
        },
        "id": "sJd2rT4OMXzs",
        "outputId": "94959943-2d83-4673-bda7-ff122487a06a"
      },
      "source": [
        "model_ = load_model('/content/BLSTM_corpus2.hdf5')\n",
        "history=np.load('/content/my_history_BLSTM_corpus2.npy',allow_pickle='TRUE').item()\n"
      ],
      "execution_count": 165,
      "outputs": [
        {
          "output_type": "stream",
          "text": [
            "WARNING:tensorflow:Layer lstm_93 will not use cuDNN kernels since it doesn't meet the criteria. It will use a generic GPU kernel as fallback when running on GPU.\n",
            "WARNING:tensorflow:Layer lstm_93 will not use cuDNN kernels since it doesn't meet the criteria. It will use a generic GPU kernel as fallback when running on GPU.\n",
            "WARNING:tensorflow:Layer lstm_93 will not use cuDNN kernels since it doesn't meet the criteria. It will use a generic GPU kernel as fallback when running on GPU.\n"
          ],
          "name": "stdout"
        }
      ]
    },
    {
      "cell_type": "code",
      "metadata": {
        "colab": {
          "base_uri": "https://localhost:8080/"
        },
        "id": "RQr8X__YQNiZ",
        "outputId": "27248d56-3984-4636-f1b1-2a9d768a6ec1"
      },
      "source": [
        "model_.summary()"
      ],
      "execution_count": 166,
      "outputs": [
        {
          "output_type": "stream",
          "text": [
            "Model: \"sequential_93\"\n",
            "_________________________________________________________________\n",
            "Layer (type)                 Output Shape              Param #   \n",
            "=================================================================\n",
            "embedding_93 (Embedding)     (None, 49, 148)           1514484   \n",
            "_________________________________________________________________\n",
            "bidirectional_93 (Bidirectio (None, 100)               79600     \n",
            "_________________________________________________________________\n",
            "dense_251 (Dense)            (None, 30)                3030      \n",
            "_________________________________________________________________\n",
            "dropout_158 (Dropout)        (None, 30)                0         \n",
            "_________________________________________________________________\n",
            "dense_252 (Dense)            (None, 15)                465       \n",
            "_________________________________________________________________\n",
            "dropout_159 (Dropout)        (None, 15)                0         \n",
            "_________________________________________________________________\n",
            "dense_253 (Dense)            (None, 2)                 32        \n",
            "=================================================================\n",
            "Total params: 1,597,611\n",
            "Trainable params: 1,597,611\n",
            "Non-trainable params: 0\n",
            "_________________________________________________________________\n"
          ],
          "name": "stdout"
        }
      ]
    },
    {
      "cell_type": "code",
      "metadata": {
        "colab": {
          "base_uri": "https://localhost:8080/",
          "height": 865
        },
        "id": "Y2VZ6jBuRP9a",
        "outputId": "d8523ae4-2a44-489e-ed53-7b51aca63ae5"
      },
      "source": [
        "from keras.utils.vis_utils import plot_model\n",
        "dot_img_file = 'model_1.png'\n",
        "plot_model(model_, to_file= dot_img_file, show_shapes=True, show_layer_names=True)"
      ],
      "execution_count": 167,
      "outputs": [
        {
          "output_type": "execute_result",
          "data": {
            "image/png": "[encoded data removed]",
            "text/plain": [
              "<IPython.core.display.Image object>"
            ]
          },
          "metadata": {
            "tags": []
          },
          "execution_count": 167
        }
      ]
    },
    {
      "cell_type": "code",
      "metadata": {
        "colab": {
          "base_uri": "https://localhost:8080/"
        },
        "id": "4Iv7Hm4nIFDR",
        "outputId": "403b31d3-cc12-4eb6-a699-7af0138c5d95"
      },
      "source": [
        "# Evaluate the model1\n",
        "loss, acc = model_.evaluate(X_test, Y_test, verbose=1)\n",
        "print(\"Untrained model, accuracy: {:5.2f}%\".format(100 * acc))"
      ],
      "execution_count": 168,
      "outputs": [
        {
          "output_type": "stream",
          "text": [
            "19/19 [==============================] - 3s 42ms/step - loss: 0.6911 - accuracy: 0.7517\n",
            "Untrained model, accuracy: 75.17%\n"
          ],
          "name": "stdout"
        }
      ]
    },
    {
      "cell_type": "code",
      "metadata": {
        "colab": {
          "base_uri": "https://localhost:8080/"
        },
        "id": "jku0TbtsOsdY",
        "outputId": "f5f705ee-f5d8-4da6-edc3-b93bca2f584f"
      },
      "source": [
        "#test validation\n",
        "from sklearn.metrics import confusion_matrix,classification_report\n",
        "\n",
        "\n",
        "Y_pred = model_.predict_classes(X_test,batch_size = 32)\n",
        "df_test = pd.DataFrame({'true': Y_test.tolist(), 'pred':Y_pred})\n",
        "df_test['true'] = df_test['true'].apply(lambda x: np.argmax(x))\n",
        "print(\"confusion matrix\",confusion_matrix(df_test.true, df_test.pred))\n",
        "print(classification_report(df_test.true, df_test.pred))"
      ],
      "execution_count": 117,
      "outputs": [
        {
          "output_type": "stream",
          "text": [
            "/usr/local/lib/python3.7/dist-packages/keras/engine/sequential.py:450: UserWarning: `model.predict_classes()` is deprecated and will be removed after 2021-01-01. Please use instead:* `np.argmax(model.predict(x), axis=-1)`,   if your model does multi-class classification   (e.g. if it uses a `softmax` last-layer activation).* `(model.predict(x) > 0.5).astype(\"int32\")`,   if your model does binary classification   (e.g. if it uses a `sigmoid` last-layer activation).\n",
            "  warnings.warn('`model.predict_classes()` is deprecated and '\n"
          ],
          "name": "stderr"
        },
        {
          "output_type": "stream",
          "text": [
            "confusion matrix [[190  97]\n",
            " [ 52 261]]\n",
            "              precision    recall  f1-score   support\n",
            "\n",
            "           0       0.79      0.66      0.72       287\n",
            "           1       0.73      0.83      0.78       313\n",
            "\n",
            "    accuracy                           0.75       600\n",
            "   macro avg       0.76      0.75      0.75       600\n",
            "weighted avg       0.76      0.75      0.75       600\n",
            "\n"
          ],
          "name": "stdout"
        }
      ]
    },
    {
      "cell_type": "code",
      "metadata": {
        "colab": {
          "base_uri": "https://localhost:8080/",
          "height": 876
        },
        "id": "7xRP0CEFOsxw",
        "outputId": "f1f9d114-67cf-4d0a-b1de-a1d2a0371b0c"
      },
      "source": [
        "history=np.load('/content/my_history_BLSTM_corpus2.npy',allow_pickle='TRUE').item()\n",
        "#This builds a graph with the available metrics of the history for all datasets of the history\n",
        "from matplotlib import pyplot as plt\n",
        "plt.plot(history['accuracy'])\n",
        "plt.plot(history['val_accuracy'])\n",
        "plt.title('model accuracy')\n",
        "plt.ylabel('accuracy')\n",
        "plt.xlabel('epoch')\n",
        "plt.legend(['train', 'val'], loc='upper left')\n",
        "plt.show()\n",
        "plt.plot(history['loss'])\n",
        "plt.plot(history['val_loss'])\n",
        "plt.title('model loss')\n",
        "plt.ylabel('loss')\n",
        "plt.xlabel('epoch')\n",
        "plt.legend(['train', 'val'], loc='upper left')\n",
        "plt.show()\n",
        "pd.DataFrame(history).plot(figsize=(8,5))\n",
        "plt.show()"
      ],
      "execution_count": 195,
      "outputs": [
        {
          "output_type": "display_data",
          "data": {
            "image/png": "[encoded data removed]",
            "text/plain": [
              "<Figure size 432x288 with 1 Axes>"
            ]
          },
          "metadata": {
            "tags": [],
            "needs_background": "light"
          }
        },
        {
          "output_type": "display_data",
          "data": {
            "image/png": "[encoded data removed]",
            "text/plain": [
              "<Figure size 432x288 with 1 Axes>"
            ]
          },
          "metadata": {
            "tags": [],
            "needs_background": "light"
          }
        },
        {
          "output_type": "display_data",
          "data": {
            "image/png": "[encoded data removed]",
            "text/plain": [
              "<Figure size 576x360 with 1 Axes>"
            ]
          },
          "metadata": {
            "tags": [],
            "needs_background": "light"
          }
        }
      ]
    },
    {
      "cell_type": "code",
      "metadata": {
        "colab": {
          "base_uri": "https://localhost:8080/"
        },
        "id": "bSDxMEz3bumN",
        "outputId": "783177e4-87c9-4a70-808e-958ffedf5738"
      },
      "source": [
        "##predict sentiments from BLSTM model (best model accuracy)\n",
        "\n",
        "#text = ['bravo arbeya enti b alef rajel w zied el meki désolé sonbel a8a ragas el fehri eli ken chochou trabelseya ezouz mahomchi rjel w laba tjib laba w tjib esid da3as w etiiiiiiiit tjib etiiiiiiit w']\n",
        "text = ['araftha aka tebda fel 5ra lrasek w t9olhom le le jawi behy']\n",
        "\n",
        "def pred(text):\n",
        "  #vectorizing the tweet by the pre-fitted tokenizer instance\n",
        "  twt = token.texts_to_sequences(text)\n",
        "  #padding the tweet to have exactly the same shape as `embedding_2` input\n",
        "  twt = pad_sequences(twt, maxlen=max_length, dtype='int32', value=0)\n",
        "  print(text)\n",
        "  print(twt)\n",
        "  sentiment = model_.predict(twt)[0]\n",
        "  if ((sentiment[0])>0.5):\n",
        "    print(\"positive\")\n",
        "  elif ((sentiment[0])<=0.5):\n",
        "    print(\"negative\")\n",
        "\n",
        "pred(text)    "
      ],
      "execution_count": 198,
      "outputs": [
        {
          "output_type": "stream",
          "text": [
            "['araftha aka tebda fel 5ra lrasek w t9olhom le le jawi behy']\n",
            "[[   0    0    0    0    0    0    0    0    0    0    0    0    0    0\n",
            "     0    0    0    0    0    0    0    0    0    0    0    0    0    0\n",
            "     0    0    0    0    0    0    0    0    0    0    0    0  354 4247\n",
            "  4248 4249 4250   14   14 1592  736]]\n",
            "negative\n"
          ],
          "name": "stdout"
        }
      ]
    }
  ]
}