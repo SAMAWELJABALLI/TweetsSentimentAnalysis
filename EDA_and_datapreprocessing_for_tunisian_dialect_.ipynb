{
  "nbformat": 4,
  "nbformat_minor": 0,
  "metadata": {
    "colab": {
      "name": "EDA_and_datapreprocessing_for_tunisian_dialect .ipynb",
      "provenance": [],
      "collapsed_sections": [],
      "toc_visible": true,
      "authorship_tag": "ABX9TyM6FJP71wK6Koxk5vOwt1Wr",
      "include_colab_link": true
    },
    "kernelspec": {
      "name": "python3",
      "display_name": "Python 3"
    },
    "language_info": {
      "name": "python"
    }
  },
  "cells": [
    {
      "cell_type": "markdown",
      "metadata": {
        "id": "view-in-github",
        "colab_type": "text"
      },
      "source": [
        "<a href=\"https://colab.research.google.com/github/SAMAWELJABALLI/TweetsSentimentAnalysis/blob/main/EDA_and_datapreprocessing_for_tunisian_dialect_.ipynb\" target=\"_parent\"><img src=\"https://colab.research.google.com/assets/colab-badge.svg\" alt=\"Open In Colab\"/></a>"
      ]
    },
    {
      "cell_type": "markdown",
      "metadata": {
        "id": "3XfZBVjm4nyW"
      },
      "source": [
        "1. About Dataset\n",
        "\n",
        "**Data Source2: https://www.kaggle.com/naim99/tunisian-texts**\n",
        "\n",
        "* Number of reviews: 206,117\n",
        "* Timespan: Aout 2020 - janvier 2021\n",
        "* Number of Attributes/Columns in data: 3\n",
        "\n",
        "**Tunisian-corpus-NLP-tasks باللهجة متاعنا**\n",
        "\n",
        "2. Objective:\n",
        "\n",
        "**Given a review, determine whether the review is positive or negative.**\n",
        "\n",
        "* How to determine if a review is positive or negative?\n",
        "\n",
        "We could use Score/Rating. A rating of 1 can be cosnidered as a positive review. A rating of -1  can be considered as negative one. A review of rating 0 is considered nuetral and such reviews are ignored from our analysis. This is an approximate and proxy way of determining the polarity (positivity/negativity) of a review.\n"
      ]
    },
    {
      "cell_type": "markdown",
      "metadata": {
        "id": "OakzfqQF5Cxt"
      },
      "source": [
        "#[1] Reading data"
      ]
    },
    {
      "cell_type": "code",
      "metadata": {
        "id": "cdZ-dVoP44OV"
      },
      "source": [
        "%matplotlib inline\n",
        "import warnings\n",
        "warnings.filterwarnings(\"ignore\")\n",
        "\n",
        "\n",
        "import sqlite3\n",
        "import pandas as pd\n",
        "import numpy as np\n",
        "import nltk\n",
        "import string\n",
        "import matplotlib.pyplot as plt\n",
        "import seaborn as sns\n",
        "from sklearn.feature_extraction.text import TfidfTransformer\n",
        "from sklearn.feature_extraction.text import TfidfVectorizer\n",
        "from collections import Counter\n",
        "from wordcloud import WordCloud\n",
        "\n",
        "from sklearn.feature_extraction.text import CountVectorizer\n",
        "from sklearn.metrics import confusion_matrix\n",
        "from sklearn import metrics\n",
        "from sklearn.metrics import roc_curve, auc\n",
        "from nltk.stem.porter import PorterStemmer\n",
        "\n",
        "from bs4 import BeautifulSoup\n",
        "import re\n",
        "import string\n",
        "from nltk.corpus import stopwords\n",
        "from nltk.stem import PorterStemmer\n",
        "from nltk.stem.wordnet import WordNetLemmatizer\n",
        "\n",
        "from gensim.models import Word2Vec\n",
        "from gensim.models import KeyedVectors\n",
        "import pickle\n",
        "import seaborn as sns\n",
        "from tqdm import tqdm\n",
        "import os"
      ],
      "execution_count": 1,
      "outputs": []
    },
    {
      "cell_type": "markdown",
      "metadata": {
        "id": "3ajX5O_l92CK"
      },
      "source": [
        "**Set up GPU for training**\n",
        "\n",
        "Google Colab offers free GPUs and TPUs. Since we'll be training a large neural network it's best to utilize these features.\n",
        "\n",
        "A GPU can be added by going to the menu and selecting:\n",
        "\n",
        "Runtime -> Change runtime type -> Hardware accelerator: GPU\n",
        "\n",
        "Then we need to run the following cell to specify the GPU as the device."
      ]
    },
    {
      "cell_type": "code",
      "metadata": {
        "colab": {
          "base_uri": "https://localhost:8080/"
        },
        "id": "UmAjW_1M97pp",
        "outputId": "edbe861c-6254-4093-9549-4e41a0c0fb6a"
      },
      "source": [
        "import torch\n",
        "\n",
        "if torch.cuda.is_available():       \n",
        "    device = torch.device(\"cuda\")\n",
        "    print(f'There are {torch.cuda.device_count()} GPU(s) available.')\n",
        "    print('Device name:', torch.cuda.get_device_name(0))\n",
        "\n",
        "else:\n",
        "    print('No GPU available, using the CPU instead.')\n",
        "    device = torch.device(\"cpu\")"
      ],
      "execution_count": 2,
      "outputs": [
        {
          "output_type": "stream",
          "text": [
            "No GPU available, using the CPU instead.\n"
          ],
          "name": "stdout"
        }
      ]
    },
    {
      "cell_type": "code",
      "metadata": {
        "colab": {
          "base_uri": "https://localhost:8080/",
          "height": 694
        },
        "id": "R1Pt1hRM5a1J",
        "outputId": "a27dcf3c-12f4-4e29-f86d-5145a9d4ae82"
      },
      "source": [
        "# Load data and set labels from corpus 1 \n",
        "data = pd.read_csv('/content/dialect tunisian corpus for sentiment Analysis with 3 classes.txt', lineterminator='\\n')\n",
        "print(f'Shape of data is {data.shape}')\n",
        "# Display 20 random samples\n",
        "data.sample(20)"
      ],
      "execution_count": 3,
      "outputs": [
        {
          "output_type": "stream",
          "text": [
            "Shape of data is (206117, 3)\n"
          ],
          "name": "stdout"
        },
        {
          "output_type": "execute_result",
          "data": {
            "text/html": [
              "<div>\n",
              "<style scoped>\n",
              "    .dataframe tbody tr th:only-of-type {\n",
              "        vertical-align: middle;\n",
              "    }\n",
              "\n",
              "    .dataframe tbody tr th {\n",
              "        vertical-align: top;\n",
              "    }\n",
              "\n",
              "    .dataframe thead th {\n",
              "        text-align: right;\n",
              "    }\n",
              "</style>\n",
              "<table border=\"1\" class=\"dataframe\">\n",
              "  <thead>\n",
              "    <tr style=\"text-align: right;\">\n",
              "      <th></th>\n",
              "      <th>ID</th>\n",
              "      <th>text</th>\n",
              "      <th>label</th>\n",
              "    </tr>\n",
              "  </thead>\n",
              "  <tbody>\n",
              "    <tr>\n",
              "      <th>169829</th>\n",
              "      <td>33712</td>\n",
              "      <td>nna3din zebbii lwaah lpuub</td>\n",
              "      <td>0</td>\n",
              "    </tr>\n",
              "    <tr>\n",
              "      <th>162883</th>\n",
              "      <td>26766</td>\n",
              "      <td>allah yara7mou w yar7amna a7na vive ca</td>\n",
              "      <td>1</td>\n",
              "    </tr>\n",
              "    <tr>\n",
              "      <th>38891</th>\n",
              "      <td>38891</td>\n",
              "      <td>kalab w frou5  tfoooooooooooooooooooooo</td>\n",
              "      <td>0</td>\n",
              "    </tr>\n",
              "    <tr>\n",
              "      <th>52625</th>\n",
              "      <td>2734</td>\n",
              "      <td>Toujours le même protblème une erreur est surv...</td>\n",
              "      <td>0</td>\n",
              "    </tr>\n",
              "    <tr>\n",
              "      <th>105845</th>\n",
              "      <td>55954</td>\n",
              "      <td>جوميا متعة التسوق</td>\n",
              "      <td>1</td>\n",
              "    </tr>\n",
              "    <tr>\n",
              "      <th>77198</th>\n",
              "      <td>27307</td>\n",
              "      <td>Je narrive pas à installer</td>\n",
              "      <td>2</td>\n",
              "    </tr>\n",
              "    <tr>\n",
              "      <th>61581</th>\n",
              "      <td>11690</td>\n",
              "      <td>A7la twensa w a7la mo7sen</td>\n",
              "      <td>1</td>\n",
              "    </tr>\n",
              "    <tr>\n",
              "      <th>8835</th>\n",
              "      <td>8835</td>\n",
              "      <td>&lt;3</td>\n",
              "      <td>1</td>\n",
              "    </tr>\n",
              "    <tr>\n",
              "      <th>169766</th>\n",
              "      <td>33649</td>\n",
              "      <td>au moins howa sre9 men dowal okra w jabha ltou...</td>\n",
              "      <td>0</td>\n",
              "    </tr>\n",
              "    <tr>\n",
              "      <th>20492</th>\n",
              "      <td>20492</td>\n",
              "      <td>\"أكثر المناطق المتضررة بفيروس كورونا في تونس</td>\n",
              "      <td>1</td>\n",
              "    </tr>\n",
              "    <tr>\n",
              "      <th>167004</th>\n",
              "      <td>30887</td>\n",
              "      <td>a7la ftor fa9o biya</td>\n",
              "      <td>1</td>\n",
              "    </tr>\n",
              "    <tr>\n",
              "      <th>138377</th>\n",
              "      <td>2260</td>\n",
              "      <td>﻿dima m3aha wm3ak ala fin ala mort</td>\n",
              "      <td>1</td>\n",
              "    </tr>\n",
              "    <tr>\n",
              "      <th>170112</th>\n",
              "      <td>33995</td>\n",
              "      <td>siham kalat krib mca moch sahah fi ca ya lolad...</td>\n",
              "      <td>0</td>\n",
              "    </tr>\n",
              "    <tr>\n",
              "      <th>42824</th>\n",
              "      <td>42824</td>\n",
              "      <td>maset yesser mayjich monachet</td>\n",
              "      <td>0</td>\n",
              "    </tr>\n",
              "    <tr>\n",
              "      <th>160935</th>\n",
              "      <td>24818</td>\n",
              "      <td>ma7laha ghada maatouk</td>\n",
              "      <td>1</td>\n",
              "    </tr>\n",
              "    <tr>\n",
              "      <th>57857</th>\n",
              "      <td>7966</td>\n",
              "      <td>Tres utile , surtt la livraison</td>\n",
              "      <td>1</td>\n",
              "    </tr>\n",
              "    <tr>\n",
              "      <th>92372</th>\n",
              "      <td>42481</td>\n",
              "      <td>موقع الكتروني رائع شكرا جزيلا لكم</td>\n",
              "      <td>1</td>\n",
              "    </tr>\n",
              "    <tr>\n",
              "      <th>3128</th>\n",
              "      <td>3128</td>\n",
              "      <td>Tayara</td>\n",
              "      <td>1</td>\n",
              "    </tr>\n",
              "    <tr>\n",
              "      <th>11073</th>\n",
              "      <td>11073</td>\n",
              "      <td>حماك الله ورعاك والله المستعان</td>\n",
              "      <td>1</td>\n",
              "    </tr>\n",
              "    <tr>\n",
              "      <th>50891</th>\n",
              "      <td>1000</td>\n",
              "      <td>Cest ok rien a ajouter</td>\n",
              "      <td>1</td>\n",
              "    </tr>\n",
              "  </tbody>\n",
              "</table>\n",
              "</div>"
            ],
            "text/plain": [
              "           ID                                               text  label\n",
              "169829  33712                         nna3din zebbii lwaah lpuub      0\n",
              "162883  26766             allah yara7mou w yar7amna a7na vive ca      1\n",
              "38891   38891            kalab w frou5  tfoooooooooooooooooooooo      0\n",
              "52625    2734  Toujours le même protblème une erreur est surv...      0\n",
              "105845  55954                                  جوميا متعة التسوق      1\n",
              "77198   27307                         Je narrive pas à installer      2\n",
              "61581   11690                         A7la twensa w a7la mo7sen       1\n",
              "8835     8835                                                 <3      1\n",
              "169766  33649  au moins howa sre9 men dowal okra w jabha ltou...      0\n",
              "20492   20492       \"أكثر المناطق المتضررة بفيروس كورونا في تونس      1\n",
              "167004  30887                                a7la ftor fa9o biya      1\n",
              "138377   2260                 ﻿dima m3aha wm3ak ala fin ala mort      1\n",
              "170112  33995  siham kalat krib mca moch sahah fi ca ya lolad...      0\n",
              "42824   42824                      maset yesser mayjich monachet      0\n",
              "160935  24818                              ma7laha ghada maatouk      1\n",
              "57857    7966                    Tres utile , surtt la livraison      1\n",
              "92372   42481                  موقع الكتروني رائع شكرا جزيلا لكم      1\n",
              "3128     3128                                             Tayara      1\n",
              "11073   11073                     حماك الله ورعاك والله المستعان      1\n",
              "50891    1000                             Cest ok rien a ajouter      1"
            ]
          },
          "metadata": {
            "tags": []
          },
          "execution_count": 3
        }
      ]
    },
    {
      "cell_type": "code",
      "metadata": {
        "colab": {
          "base_uri": "https://localhost:8080/"
        },
        "id": "trLcLiy8AKpo",
        "outputId": "7560e0b7-e62f-4b7f-d0cb-b71185f1cb4b"
      },
      "source": [
        "data['label'].value_counts()"
      ],
      "execution_count": 4,
      "outputs": [
        {
          "output_type": "execute_result",
          "data": {
            "text/plain": [
              "1    136821\n",
              "0     62276\n",
              "2      7020\n",
              "Name: label, dtype: int64"
            ]
          },
          "metadata": {
            "tags": []
          },
          "execution_count": 4
        }
      ]
    },
    {
      "cell_type": "code",
      "metadata": {
        "colab": {
          "base_uri": "https://localhost:8080/",
          "height": 351
        },
        "id": "mnJGbQdlIELX",
        "outputId": "cb561ed5-27b9-43a7-ae64-c0250ac2e1e9"
      },
      "source": [
        "#Initial target distribuation \n",
        "target = data['label']\n",
        "sns.set_style('whitegrid')\n",
        "plt.figure(figsize=(3,5))\n",
        "sns.countplot(target)"
      ],
      "execution_count": 5,
      "outputs": [
        {
          "output_type": "execute_result",
          "data": {
            "text/plain": [
              "<matplotlib.axes._subplots.AxesSubplot at 0x7f17aabbccd0>"
            ]
          },
          "metadata": {
            "tags": []
          },
          "execution_count": 5
        },
        {
          "output_type": "display_data",
          "data": {
            "image/png": "[encoded data removed]",
            "text/plain": [
              "<Figure size 216x360 with 1 Axes>"
            ]
          },
          "metadata": {
            "tags": []
          }
        }
      ]
    },
    {
      "cell_type": "markdown",
      "metadata": {
        "id": "5hW5U6iM80T6"
      },
      "source": [
        "#[2] Exploratory data Analysis EDA\n",
        "#**2.1 Data cleaning**\n",
        "\n",
        "First we will check for missing values"
      ]
    },
    {
      "cell_type": "code",
      "metadata": {
        "id": "NkB8vTyh6THq",
        "colab": {
          "base_uri": "https://localhost:8080/"
        },
        "outputId": "43c294bb-c9b9-493f-e6f9-94846bea30bd"
      },
      "source": [
        "data.info()"
      ],
      "execution_count": 6,
      "outputs": [
        {
          "output_type": "stream",
          "text": [
            "<class 'pandas.core.frame.DataFrame'>\n",
            "RangeIndex: 206117 entries, 0 to 206116\n",
            "Data columns (total 3 columns):\n",
            " #   Column  Non-Null Count   Dtype \n",
            "---  ------  --------------   ----- \n",
            " 0   ID      206117 non-null  int64 \n",
            " 1   text    204452 non-null  object\n",
            " 2   label   206117 non-null  int64 \n",
            "dtypes: int64(2), object(1)\n",
            "memory usage: 4.7+ MB\n"
          ],
          "name": "stdout"
        }
      ]
    },
    {
      "cell_type": "markdown",
      "metadata": {
        "id": "af1qpCnE9uHs"
      },
      "source": [
        "We can see that we don't have any null values.\n",
        "\n",
        "**Now we will check for duplicate entries**"
      ]
    },
    {
      "cell_type": "code",
      "metadata": {
        "colab": {
          "base_uri": "https://localhost:8080/"
        },
        "id": "xzRyemPeHSZt",
        "outputId": "ce67ec7b-41ca-44c9-a8b0-40db9caf8e02"
      },
      "source": [
        "print(data[\"text\"].shape[0])\n",
        "print(len(set(data['text'])))\n"
      ],
      "execution_count": 7,
      "outputs": [
        {
          "output_type": "stream",
          "text": [
            "206117\n",
            "166449\n"
          ],
          "name": "stdout"
        }
      ]
    },
    {
      "cell_type": "markdown",
      "metadata": {
        "id": "Wso_Hjf4HdVh"
      },
      "source": [
        "With a hard mathemitical computing we can know that there is 206117-166449=39668 tweets which are duplicated :D"
      ]
    },
    {
      "cell_type": "code",
      "metadata": {
        "colab": {
          "base_uri": "https://localhost:8080/"
        },
        "id": "cB79exB8-VB0",
        "outputId": "a8524a70-824c-4c1c-94bd-f5db2c2e54c4"
      },
      "source": [
        "#Delet duplicated texts\n",
        "df = data.drop_duplicates(subset=['text'],keep='first',inplace=False)\n",
        "df.shape\n",
        "#Checking to see how much % of data still remains\n",
        "print(f'Remaining data is {((df.shape[0]*1.0)/(data.shape[0]*1.0))*100}')"
      ],
      "execution_count": 8,
      "outputs": [
        {
          "output_type": "stream",
          "text": [
            "Remaining data is 80.75461994886399\n"
          ],
          "name": "stdout"
        }
      ]
    },
    {
      "cell_type": "markdown",
      "metadata": {
        "id": "lzDCtMgq_led"
      },
      "source": [
        "#**2.2 Analysis on Score (Target Variable)**\n",
        "\n",
        "Now we will create our target variable from review stars. Before that we will filter only those reviews with rating 1 (positive) and less than 0(negative)"
      ]
    },
    {
      "cell_type": "code",
      "metadata": {
        "colab": {
          "base_uri": "https://localhost:8080/",
          "height": 351
        },
        "id": "B4Ww185PBwzE",
        "outputId": "cd528f35-c862-4269-ac75-9b6948a4c325"
      },
      "source": [
        "#Target distrubution after deleting duplicated texts \n",
        "target = df['label']\n",
        "sns.set_style('whitegrid')\n",
        "plt.figure(figsize=(3,5))\n",
        "sns.countplot(target)"
      ],
      "execution_count": 9,
      "outputs": [
        {
          "output_type": "execute_result",
          "data": {
            "text/plain": [
              "<matplotlib.axes._subplots.AxesSubplot at 0x7f17aabc6190>"
            ]
          },
          "metadata": {
            "tags": []
          },
          "execution_count": 9
        },
        {
          "output_type": "display_data",
          "data": {
            "image/png": "[encoded data removed]",
            "text/plain": [
              "<Figure size 216x360 with 1 Axes>"
            ]
          },
          "metadata": {
            "tags": []
          }
        }
      ]
    },
    {
      "cell_type": "code",
      "metadata": {
        "colab": {
          "base_uri": "https://localhost:8080/"
        },
        "id": "VDUdlwG3-H9i",
        "outputId": "f82f42cf-23db-4daf-af88-2bc522112517"
      },
      "source": [
        "df = data[data['label'] != 2]\n",
        "df.shape \n",
        "#Checking to see how much % of data still remains\n",
        "print(f'Remaining data is {((df.shape[0]*1.0)/(data.shape[0]*1.0))*100}')"
      ],
      "execution_count": 10,
      "outputs": [
        {
          "output_type": "stream",
          "text": [
            "Remaining data is 96.59416739036567\n"
          ],
          "name": "stdout"
        }
      ]
    },
    {
      "cell_type": "markdown",
      "metadata": {
        "id": "QcxFar4IBFjk"
      },
      "source": [
        "Let's check target distrubution\n",
        "\n",
        "Check for Class Imbalance"
      ]
    },
    {
      "cell_type": "code",
      "metadata": {
        "colab": {
          "base_uri": "https://localhost:8080/"
        },
        "id": "hki7tWUVAyyN",
        "outputId": "0b26d499-bd8f-42e7-e31c-9bb437b29613"
      },
      "source": [
        "df['label'].value_counts()"
      ],
      "execution_count": 11,
      "outputs": [
        {
          "output_type": "execute_result",
          "data": {
            "text/plain": [
              "1    136821\n",
              "0     62276\n",
              "Name: label, dtype: int64"
            ]
          },
          "metadata": {
            "tags": []
          },
          "execution_count": 11
        }
      ]
    },
    {
      "cell_type": "markdown",
      "metadata": {
        "id": "NBN7nGTrBgKO"
      },
      "source": [
        "We have 136821 positive message and 62276 negative message"
      ]
    },
    {
      "cell_type": "code",
      "metadata": {
        "colab": {
          "base_uri": "https://localhost:8080/",
          "height": 351
        },
        "id": "cLvGeq9oBRTZ",
        "outputId": "b37882ca-b9ba-4a10-e967-6fb8cfd6e3aa"
      },
      "source": [
        "target = df['label']\n",
        "sns.set_style('whitegrid')\n",
        "plt.figure(figsize=(3,5))\n",
        "sns.countplot(target)"
      ],
      "execution_count": 12,
      "outputs": [
        {
          "output_type": "execute_result",
          "data": {
            "text/plain": [
              "<matplotlib.axes._subplots.AxesSubplot at 0x7f17584ede10>"
            ]
          },
          "metadata": {
            "tags": []
          },
          "execution_count": 12
        },
        {
          "output_type": "display_data",
          "data": {
            "image/png": "[encoded data removed]",
            "text/plain": [
              "<Figure size 216x360 with 1 Axes>"
            ]
          },
          "metadata": {
            "tags": []
          }
        }
      ]
    },
    {
      "cell_type": "markdown",
      "metadata": {
        "id": "Rokld796B4Gh"
      },
      "source": [
        "**Observation**: It is clear that we have an imbalenced dataset for classification. So We cannot choose accuracy as a metric. So here we will go with AUC(Area under ROC curve)\n",
        "\n",
        ">* Why accuracy not for imbalanced datasets?\n",
        "\n",
        "Consider a scenario like this where we have imbalenced dataset. For example consider case of credit card fraud detection with 98% percentage of points as non-fraud(1) and rest 2% points as fraud(1). In such cases even if we predict all the points as non-fraud also we will get 98% accuracy. But actually it is not the case. So we can't use accuracy as a metric.\n",
        "\n",
        ">* What is AUC ROC?\n",
        "\n",
        "AUC is the area under ROC curve.It tells how much model is capable of distinguishing between classes. Higher the AUC, better the model is at predicting 0s as 0s and 1s as 1s. The ROC curve is plotted with TPR against the FPR where TPR is on y-axis and FPR is on the x-axis."
      ]
    },
    {
      "cell_type": "code",
      "metadata": {
        "colab": {
          "base_uri": "https://localhost:8080/",
          "height": 112
        },
        "id": "HyY6FKMwJkAK",
        "outputId": "a64d7484-75dd-495b-aab1-20b2f45c6d89"
      },
      "source": [
        "df.describe().T"
      ],
      "execution_count": 13,
      "outputs": [
        {
          "output_type": "execute_result",
          "data": {
            "text/html": [
              "<div>\n",
              "<style scoped>\n",
              "    .dataframe tbody tr th:only-of-type {\n",
              "        vertical-align: middle;\n",
              "    }\n",
              "\n",
              "    .dataframe tbody tr th {\n",
              "        vertical-align: top;\n",
              "    }\n",
              "\n",
              "    .dataframe thead th {\n",
              "        text-align: right;\n",
              "    }\n",
              "</style>\n",
              "<table border=\"1\" class=\"dataframe\">\n",
              "  <thead>\n",
              "    <tr style=\"text-align: right;\">\n",
              "      <th></th>\n",
              "      <th>count</th>\n",
              "      <th>mean</th>\n",
              "      <th>std</th>\n",
              "      <th>min</th>\n",
              "      <th>25%</th>\n",
              "      <th>50%</th>\n",
              "      <th>75%</th>\n",
              "      <th>max</th>\n",
              "    </tr>\n",
              "  </thead>\n",
              "  <tbody>\n",
              "    <tr>\n",
              "      <th>ID</th>\n",
              "      <td>199097.0</td>\n",
              "      <td>28095.528406</td>\n",
              "      <td>18104.177292</td>\n",
              "      <td>0.0</td>\n",
              "      <td>12786.0</td>\n",
              "      <td>25582.0</td>\n",
              "      <td>42395.0</td>\n",
              "      <td>69999.0</td>\n",
              "    </tr>\n",
              "    <tr>\n",
              "      <th>label</th>\n",
              "      <td>199097.0</td>\n",
              "      <td>0.687208</td>\n",
              "      <td>0.463632</td>\n",
              "      <td>0.0</td>\n",
              "      <td>0.0</td>\n",
              "      <td>1.0</td>\n",
              "      <td>1.0</td>\n",
              "      <td>1.0</td>\n",
              "    </tr>\n",
              "  </tbody>\n",
              "</table>\n",
              "</div>"
            ],
            "text/plain": [
              "          count          mean           std  ...      50%      75%      max\n",
              "ID     199097.0  28095.528406  18104.177292  ...  25582.0  42395.0  69999.0\n",
              "label  199097.0      0.687208      0.463632  ...      1.0      1.0      1.0\n",
              "\n",
              "[2 rows x 8 columns]"
            ]
          },
          "metadata": {
            "tags": []
          },
          "execution_count": 13
        }
      ]
    },
    {
      "cell_type": "code",
      "metadata": {
        "colab": {
          "base_uri": "https://localhost:8080/",
          "height": 175
        },
        "id": "A0PEQDa3JppR",
        "outputId": "76e832f9-a7d7-4502-aa83-c659a08c5298"
      },
      "source": [
        "df.groupby('label').describe()"
      ],
      "execution_count": 14,
      "outputs": [
        {
          "output_type": "execute_result",
          "data": {
            "text/html": [
              "<div>\n",
              "<style scoped>\n",
              "    .dataframe tbody tr th:only-of-type {\n",
              "        vertical-align: middle;\n",
              "    }\n",
              "\n",
              "    .dataframe tbody tr th {\n",
              "        vertical-align: top;\n",
              "    }\n",
              "\n",
              "    .dataframe thead tr th {\n",
              "        text-align: left;\n",
              "    }\n",
              "\n",
              "    .dataframe thead tr:last-of-type th {\n",
              "        text-align: right;\n",
              "    }\n",
              "</style>\n",
              "<table border=\"1\" class=\"dataframe\">\n",
              "  <thead>\n",
              "    <tr>\n",
              "      <th></th>\n",
              "      <th colspan=\"8\" halign=\"left\">ID</th>\n",
              "    </tr>\n",
              "    <tr>\n",
              "      <th></th>\n",
              "      <th>count</th>\n",
              "      <th>mean</th>\n",
              "      <th>std</th>\n",
              "      <th>min</th>\n",
              "      <th>25%</th>\n",
              "      <th>50%</th>\n",
              "      <th>75%</th>\n",
              "      <th>max</th>\n",
              "    </tr>\n",
              "    <tr>\n",
              "      <th>label</th>\n",
              "      <th></th>\n",
              "      <th></th>\n",
              "      <th></th>\n",
              "      <th></th>\n",
              "      <th></th>\n",
              "      <th></th>\n",
              "      <th></th>\n",
              "      <th></th>\n",
              "    </tr>\n",
              "  </thead>\n",
              "  <tbody>\n",
              "    <tr>\n",
              "      <th>0</th>\n",
              "      <td>62276.0</td>\n",
              "      <td>34712.06688</td>\n",
              "      <td>17293.326290</td>\n",
              "      <td>2.0</td>\n",
              "      <td>22533.75</td>\n",
              "      <td>37913.5</td>\n",
              "      <td>47127.0</td>\n",
              "      <td>69998.0</td>\n",
              "    </tr>\n",
              "    <tr>\n",
              "      <th>1</th>\n",
              "      <td>136821.0</td>\n",
              "      <td>25083.91798</td>\n",
              "      <td>17658.743888</td>\n",
              "      <td>0.0</td>\n",
              "      <td>10700.00</td>\n",
              "      <td>21379.0</td>\n",
              "      <td>36188.0</td>\n",
              "      <td>69999.0</td>\n",
              "    </tr>\n",
              "  </tbody>\n",
              "</table>\n",
              "</div>"
            ],
            "text/plain": [
              "             ID                             ...                           \n",
              "          count         mean           std  ...      50%      75%      max\n",
              "label                                       ...                           \n",
              "0       62276.0  34712.06688  17293.326290  ...  37913.5  47127.0  69998.0\n",
              "1      136821.0  25083.91798  17658.743888  ...  21379.0  36188.0  69999.0\n",
              "\n",
              "[2 rows x 8 columns]"
            ]
          },
          "metadata": {
            "tags": []
          },
          "execution_count": 14
        }
      ]
    },
    {
      "cell_type": "markdown",
      "metadata": {
        "id": "YhDoNRCBJwDr"
      },
      "source": [
        "As we continue our analysis we want to start thinking about the features we are going to be using. This goes along with the general idea of feature engineering. The better your domain knowledge on the data, the better your ability to engineer more features from it. Feature engineering is a very large part of negativetive detection in general."
      ]
    },
    {
      "cell_type": "code",
      "metadata": {
        "colab": {
          "base_uri": "https://localhost:8080/",
          "height": 206
        },
        "id": "Op0ss26RJzYr",
        "outputId": "ae4aba82-baa3-483f-8a37-c14a052bfc98"
      },
      "source": [
        "df['text'] =df['text'].astype(str)\n",
        "df['message_len'] = df.text.apply(len)\n",
        "df.head()"
      ],
      "execution_count": 15,
      "outputs": [
        {
          "output_type": "execute_result",
          "data": {
            "text/html": [
              "<div>\n",
              "<style scoped>\n",
              "    .dataframe tbody tr th:only-of-type {\n",
              "        vertical-align: middle;\n",
              "    }\n",
              "\n",
              "    .dataframe tbody tr th {\n",
              "        vertical-align: top;\n",
              "    }\n",
              "\n",
              "    .dataframe thead th {\n",
              "        text-align: right;\n",
              "    }\n",
              "</style>\n",
              "<table border=\"1\" class=\"dataframe\">\n",
              "  <thead>\n",
              "    <tr style=\"text-align: right;\">\n",
              "      <th></th>\n",
              "      <th>ID</th>\n",
              "      <th>text</th>\n",
              "      <th>label</th>\n",
              "      <th>message_len</th>\n",
              "    </tr>\n",
              "  </thead>\n",
              "  <tbody>\n",
              "    <tr>\n",
              "      <th>0</th>\n",
              "      <td>0</td>\n",
              "      <td>yar777em weldin weldikk bravooooo</td>\n",
              "      <td>1</td>\n",
              "      <td>33</td>\n",
              "    </tr>\n",
              "    <tr>\n",
              "      <th>1</th>\n",
              "      <td>1</td>\n",
              "      <td>Bravo amine...j'aime</td>\n",
              "      <td>1</td>\n",
              "      <td>20</td>\n",
              "    </tr>\n",
              "    <tr>\n",
              "      <th>2</th>\n",
              "      <td>2</td>\n",
              "      <td>صراحة bravo أحمد الرحموني .</td>\n",
              "      <td>1</td>\n",
              "      <td>27</td>\n",
              "    </tr>\n",
              "    <tr>\n",
              "      <th>3</th>\n",
              "      <td>3</td>\n",
              "      <td>Souut w ziiin lee wlh bch tda5llouna f 7iiit</td>\n",
              "      <td>1</td>\n",
              "      <td>44</td>\n",
              "    </tr>\n",
              "    <tr>\n",
              "      <th>4</th>\n",
              "      <td>4</td>\n",
              "      <td>ANAA N7bha</td>\n",
              "      <td>1</td>\n",
              "      <td>10</td>\n",
              "    </tr>\n",
              "  </tbody>\n",
              "</table>\n",
              "</div>"
            ],
            "text/plain": [
              "   ID                                          text  label  message_len\n",
              "0   0             yar777em weldin weldikk bravooooo      1           33\n",
              "1   1                          Bravo amine...j'aime      1           20\n",
              "2   2                   صراحة bravo أحمد الرحموني .      1           27\n",
              "3   3  Souut w ziiin lee wlh bch tda5llouna f 7iiit      1           44\n",
              "4   4                                    ANAA N7bha      1           10"
            ]
          },
          "metadata": {
            "tags": []
          },
          "execution_count": 15
        }
      ]
    },
    {
      "cell_type": "code",
      "metadata": {
        "colab": {
          "base_uri": "https://localhost:8080/",
          "height": 514
        },
        "id": "xMXT5o_jKX3r",
        "outputId": "2331cfd5-dbec-4791-abf7-fe33609f81f2"
      },
      "source": [
        "plt.figure(figsize=(12, 8))\n",
        "\n",
        "df[df.label==1].message_len.plot(bins=35, kind='hist', color='blue', \n",
        "                                       label='positive messages', alpha=0.6)\n",
        "df[df.label==0].message_len.plot(kind='hist', color='red', \n",
        "                                       label='negative messages', alpha=0.6)\n",
        "plt.legend()\n",
        "plt.xlabel(\"Message Length\")"
      ],
      "execution_count": 16,
      "outputs": [
        {
          "output_type": "execute_result",
          "data": {
            "text/plain": [
              "Text(0.5, 0, 'Message Length')"
            ]
          },
          "metadata": {
            "tags": []
          },
          "execution_count": 16
        },
        {
          "output_type": "display_data",
          "data": {
            "image/png": "[encoded data removed]",
            "text/plain": [
              "<Figure size 864x576 with 1 Axes>"
            ]
          },
          "metadata": {
            "tags": []
          }
        }
      ]
    },
    {
      "cell_type": "markdown",
      "metadata": {
        "id": "1qLGmUyWKogu"
      },
      "source": [
        "**Very interesting! Through just basic EDA we've been able to discover a trend that negatives messages tend to have more characters. :D**"
      ]
    },
    {
      "cell_type": "code",
      "metadata": {
        "colab": {
          "base_uri": "https://localhost:8080/",
          "height": 441
        },
        "id": "vgwzZrTKLN2Z",
        "outputId": "77a0c737-b1bf-41fb-e3d0-deee46e82648"
      },
      "source": [
        "#creating subplots to see distribution of length of tweet\n",
        "sns.set_style(\"darkgrid\");\n",
        "f, (ax1, ax2) = plt.subplots(figsize=(12,6),nrows=1, ncols=2,tight_layout=True);\n",
        "sns.distplot(df[df['label']==1][\"message_len\"],bins=30,ax=ax1);\n",
        "sns.distplot(df[df['label']==0][\"message_len\"],bins=30,ax=ax2);\n",
        "ax1.set_title('\\n Distribution of length of tweet labelled positive \\n');\n",
        "ax2.set_title('\\n Distribution of length of tweet labelled Negative \\n');\n",
        "ax1.set_ylabel('Frequency');"
      ],
      "execution_count": 17,
      "outputs": [
        {
          "output_type": "display_data",
          "data": {
            "image/png": "[encoded data removed]",
            "text/plain": [
              "<Figure size 864x432 with 2 Axes>"
            ]
          },
          "metadata": {
            "tags": []
          }
        }
      ]
    },
    {
      "cell_type": "code",
      "metadata": {
        "colab": {
          "base_uri": "https://localhost:8080/",
          "height": 300
        },
        "id": "nbzSC3MPLj5U",
        "outputId": "823a7c49-0f60-4659-f283-d48b5f1278b2"
      },
      "source": [
        "df[df.label==1].describe()"
      ],
      "execution_count": 18,
      "outputs": [
        {
          "output_type": "execute_result",
          "data": {
            "text/html": [
              "<div>\n",
              "<style scoped>\n",
              "    .dataframe tbody tr th:only-of-type {\n",
              "        vertical-align: middle;\n",
              "    }\n",
              "\n",
              "    .dataframe tbody tr th {\n",
              "        vertical-align: top;\n",
              "    }\n",
              "\n",
              "    .dataframe thead th {\n",
              "        text-align: right;\n",
              "    }\n",
              "</style>\n",
              "<table border=\"1\" class=\"dataframe\">\n",
              "  <thead>\n",
              "    <tr style=\"text-align: right;\">\n",
              "      <th></th>\n",
              "      <th>ID</th>\n",
              "      <th>label</th>\n",
              "      <th>message_len</th>\n",
              "    </tr>\n",
              "  </thead>\n",
              "  <tbody>\n",
              "    <tr>\n",
              "      <th>count</th>\n",
              "      <td>136821.000000</td>\n",
              "      <td>136821.0</td>\n",
              "      <td>136821.000000</td>\n",
              "    </tr>\n",
              "    <tr>\n",
              "      <th>mean</th>\n",
              "      <td>25083.917980</td>\n",
              "      <td>1.0</td>\n",
              "      <td>41.743183</td>\n",
              "    </tr>\n",
              "    <tr>\n",
              "      <th>std</th>\n",
              "      <td>17658.743888</td>\n",
              "      <td>0.0</td>\n",
              "      <td>53.562693</td>\n",
              "    </tr>\n",
              "    <tr>\n",
              "      <th>min</th>\n",
              "      <td>0.000000</td>\n",
              "      <td>1.0</td>\n",
              "      <td>1.000000</td>\n",
              "    </tr>\n",
              "    <tr>\n",
              "      <th>25%</th>\n",
              "      <td>10700.000000</td>\n",
              "      <td>1.0</td>\n",
              "      <td>15.000000</td>\n",
              "    </tr>\n",
              "    <tr>\n",
              "      <th>50%</th>\n",
              "      <td>21379.000000</td>\n",
              "      <td>1.0</td>\n",
              "      <td>26.000000</td>\n",
              "    </tr>\n",
              "    <tr>\n",
              "      <th>75%</th>\n",
              "      <td>36188.000000</td>\n",
              "      <td>1.0</td>\n",
              "      <td>48.000000</td>\n",
              "    </tr>\n",
              "    <tr>\n",
              "      <th>max</th>\n",
              "      <td>69999.000000</td>\n",
              "      <td>1.0</td>\n",
              "      <td>2714.000000</td>\n",
              "    </tr>\n",
              "  </tbody>\n",
              "</table>\n",
              "</div>"
            ],
            "text/plain": [
              "                  ID     label    message_len\n",
              "count  136821.000000  136821.0  136821.000000\n",
              "mean    25083.917980       1.0      41.743183\n",
              "std     17658.743888       0.0      53.562693\n",
              "min         0.000000       1.0       1.000000\n",
              "25%     10700.000000       1.0      15.000000\n",
              "50%     21379.000000       1.0      26.000000\n",
              "75%     36188.000000       1.0      48.000000\n",
              "max     69999.000000       1.0    2714.000000"
            ]
          },
          "metadata": {
            "tags": []
          },
          "execution_count": 18
        }
      ]
    },
    {
      "cell_type": "code",
      "metadata": {
        "colab": {
          "base_uri": "https://localhost:8080/",
          "height": 300
        },
        "id": "uwr8smFdLp9z",
        "outputId": "17819aeb-f727-4e01-e449-16bba9fd70bd"
      },
      "source": [
        "df[df.label==0].describe()"
      ],
      "execution_count": 19,
      "outputs": [
        {
          "output_type": "execute_result",
          "data": {
            "text/html": [
              "<div>\n",
              "<style scoped>\n",
              "    .dataframe tbody tr th:only-of-type {\n",
              "        vertical-align: middle;\n",
              "    }\n",
              "\n",
              "    .dataframe tbody tr th {\n",
              "        vertical-align: top;\n",
              "    }\n",
              "\n",
              "    .dataframe thead th {\n",
              "        text-align: right;\n",
              "    }\n",
              "</style>\n",
              "<table border=\"1\" class=\"dataframe\">\n",
              "  <thead>\n",
              "    <tr style=\"text-align: right;\">\n",
              "      <th></th>\n",
              "      <th>ID</th>\n",
              "      <th>label</th>\n",
              "      <th>message_len</th>\n",
              "    </tr>\n",
              "  </thead>\n",
              "  <tbody>\n",
              "    <tr>\n",
              "      <th>count</th>\n",
              "      <td>62276.00000</td>\n",
              "      <td>62276.0</td>\n",
              "      <td>62276.000000</td>\n",
              "    </tr>\n",
              "    <tr>\n",
              "      <th>mean</th>\n",
              "      <td>34712.06688</td>\n",
              "      <td>0.0</td>\n",
              "      <td>72.899287</td>\n",
              "    </tr>\n",
              "    <tr>\n",
              "      <th>std</th>\n",
              "      <td>17293.32629</td>\n",
              "      <td>0.0</td>\n",
              "      <td>103.891915</td>\n",
              "    </tr>\n",
              "    <tr>\n",
              "      <th>min</th>\n",
              "      <td>2.00000</td>\n",
              "      <td>0.0</td>\n",
              "      <td>1.000000</td>\n",
              "    </tr>\n",
              "    <tr>\n",
              "      <th>25%</th>\n",
              "      <td>22533.75000</td>\n",
              "      <td>0.0</td>\n",
              "      <td>22.000000</td>\n",
              "    </tr>\n",
              "    <tr>\n",
              "      <th>50%</th>\n",
              "      <td>37913.50000</td>\n",
              "      <td>0.0</td>\n",
              "      <td>43.000000</td>\n",
              "    </tr>\n",
              "    <tr>\n",
              "      <th>75%</th>\n",
              "      <td>47127.00000</td>\n",
              "      <td>0.0</td>\n",
              "      <td>87.000000</td>\n",
              "    </tr>\n",
              "    <tr>\n",
              "      <th>max</th>\n",
              "      <td>69998.00000</td>\n",
              "      <td>0.0</td>\n",
              "      <td>9700.000000</td>\n",
              "    </tr>\n",
              "  </tbody>\n",
              "</table>\n",
              "</div>"
            ],
            "text/plain": [
              "                ID    label   message_len\n",
              "count  62276.00000  62276.0  62276.000000\n",
              "mean   34712.06688      0.0     72.899287\n",
              "std    17293.32629      0.0    103.891915\n",
              "min        2.00000      0.0      1.000000\n",
              "25%    22533.75000      0.0     22.000000\n",
              "50%    37913.50000      0.0     43.000000\n",
              "75%    47127.00000      0.0     87.000000\n",
              "max    69998.00000      0.0   9700.000000"
            ]
          },
          "metadata": {
            "tags": []
          },
          "execution_count": 19
        }
      ]
    },
    {
      "cell_type": "code",
      "metadata": {
        "colab": {
          "base_uri": "https://localhost:8080/",
          "height": 123
        },
        "id": "S-OyWNOhLt2u",
        "outputId": "1c441637-d66a-4859-d95b-256165c96ca3"
      },
      "source": [
        "#Woah! 2714 characters, let's use masking to find this message //// the longest positive tweet\n",
        "#data[data.message_len == 1002].texts.tolist()\n",
        "df[df.message_len == 2714].text.iloc[0]"
      ],
      "execution_count": 20,
      "outputs": [
        {
          "output_type": "execute_result",
          "data": {
            "application/vnd.google.colaboratory.intrinsic+json": {
              "type": "string"
            },
            "text/plain": [
              "'bravo bravobravo bravobravo bravobravo bravobravo bravobravo bravobravo bravobravo bravobravo bravobravo bravobravo bravobravo bravobravo bravobravo bravobravo bravobravo bravobravo bravobravo bravobravo bravobravo bravobravo bravobravo bravobravo bravobravo bravobravo bravobravo bravobravo bravobravo bravobravo bravobravo bravobravo bravobravo bravobravo bravobravo bravobravo bravobravo bravobravo bravobravo bravobravo bravobravo bravobravo bravobravo bravobravo bravobravo bravobravo bravobravo bravobravo bravobravo bravobravo bravobravo bravobravo bravobravo bravobravo bravobravo bravobravo bravobravo bravobravo bravobravo bravobravo bravobravo bravobravo bravobravo bravobravo bravobravo bravobravo bravobravo bravobravo bravobravo bravobravo bravobravo bravobravo bravobravo bravobravo bravobravo bravobravo bravobravo bravobravo bravobravo bravobravo bravobravo bravobravo bravobravo bravobravo bravobravo bravobravo bravobravo bravobravo bravobravo bravobravo bravobravo bravobravo bravobravo bravobravo bravobravo bravobravo bravobravo bravobravo bravobravo bravobravo bravobravo bravobravo bravobravo bravobravo bravobravo bravobravo bravobravo bravobravo bravobravo bravobravo bravobravo bravobravo bravobravo bravobravo bravobravo bravobravo bravobravo bravobravo bravobravo bravobravo bravobravo bravobravo bravobravo bravobravo bravobravo bravobravo bravobravo bravobravo bravobravo bravobravo bravobravo bravobravo bravobravo bravobravo bravobravo bravobravo bravobravo bravobravobravo bravobravo bravobravo bravobravo bravobravo bravobravo bravobravo bravobravo bravobravo bravobravo bravobravo bravobravo bravobravo bravobravo bravobravo bravobravo bravobravo bravobravo bravobravobravo bravobravo bravobravo bravobravo bravobravo bravobravo bravobravo bravobravo bravobravo bravobravo bravobravo bravobravo bravobravo bravobravo bravobravo bravobravo bravobravo bravobravo bravobravobravo bravobravo bravobravo bravobravo bravobravo bravobravo bravobravo bravobravo bravobravo bravobravo bravobravo bravobravo bravobravo bravobravo bravobravo bravobravo bravobravo bravobravo bravobravobravo bravobravo bravobravo bravobravo bravobravo bravobravo bravobravo bravobravo bravobravo bravobravo bravobravo bravobravo bravobravo bravobravo bravobravo bravobravo bravobravo bravobravo bravobravobravo bravobravo bravobravo bravobravo bravobravo bravobravo bravobravo bravobravo bravobravo bravobravo bravobravo bravobravo bravobravo bravobravo bravobravo bravobravo bravobravo bravobravo bravobravobravo bravobravo bravobravo bravobravo bravobravo bravobravo bravobravo bravobravo bravobravo bravobravo bravobravo bravobravo bravobravo bravobravo bravobravo bravobravo bravobravo bravobravo bravo'"
            ]
          },
          "metadata": {
            "tags": []
          },
          "execution_count": 20
        }
      ]
    },
    {
      "cell_type": "code",
      "metadata": {
        "colab": {
          "base_uri": "https://localhost:8080/",
          "height": 123
        },
        "id": "fpwt0BR0MDCh",
        "outputId": "d2122abb-4025-4807-df95-349cdfb33e65"
      },
      "source": [
        "# the same, 9700 characters, let's use masking to find this message //// the longest negative tweet\n",
        "df[df.message_len == 9700].text.iloc[0]"
      ],
      "execution_count": 21,
      "outputs": [
        {
          "output_type": "execute_result",
          "data": {
            "application/vnd.google.colaboratory.intrinsic+json": {
              "type": "string"
            },
            "text/plain": [
              "'paroles wadha3 fih tetsdam khayf tetrdm moush ena li n9oull 7a9 w kima ghiri netrdem ncharef tashkila w 7wom ebda3at bl kam drapeauwat nhez w ken lzaz khalana fl ham sara7 nahki tala3 habt dima khaydh 100 mn khotta fy rassi 3al 3waj 9albi faydh tayr wnty baydh mabroumk lena mayroll 3aysh fawdha ki baghded w moshkoltk tetsama 3andi 7al 7keytk 7wal shaba3 menniken 7alat mshni nawi n3ish rajl kifk b kamsha jamet lokza fy colon jamed w m3a rohk mat hanish l far9 bini w bink li 3andk maye3jbnish f9ir w n7eb n3ish yal 3abd esami3 baba moush bousbi3 w mshna besh net7asbou jmi3 ma3shnash bl talmi3 w makontsh stable matshoufnish passable w la kifhom nos5a jeutable taba3fih tansa5 w 9abl m3awnk fl sif domainy ro9ya shar3eya wnty tsarbi fl zfif king wmsh bl kif nkhali fi amjad w kank 3la rasi yarfa3 shika moush 3bad abyedh w naswer w nseb loudhen etarsha manishi zabour w n7awl mankounsh mnayk barsha dima raba7 barsha w 3ati 100 mn dars w takhra 3la rou7k kan tshouf zebi mkarz maksh ki booba bash tasna3 dimension 9otlk 7ama ghrab shkara w 7oka exonération mtrenin 3al les courants shoufni f rassi sh3andi non 3andk tube fl conscient 3andi tube fl subconscient manesh rs w 3eshna b 9darna m3a nes beli asina w 3anina dima n7arbou labes nik latra7 mta3 l kes 7atinekom fi akyes la7wem tshaja33fina w takrhouna maw labes barou foutou zebi khanekhdm aala rohi landakhl fik zebi weli kifk moush tomou7i kima dima blanz lou7i twati tnik rokba mazelt nomkhot khashmi ltawa kima drogba 7agar ki zlatan weld bled moush alman kberna b ne9mt fa9r wl hamdoullah moush ji3an 3asherna makhesrna daym rabi ya jaban wnty li t9al9el w tnasnes radhi b rotbt etta7an kan t7eb feya tseb wala tseb feya t7eb fi kol l 7alat bara walah ya3tik zeb wadha7 w mantslab ba3th l la9ab w matshoufnish 7zin kan ki manal9a win nsob mellet 7ab mn rapi testa3ml w ki nbattl mouzika 9olli enty shneya sh ta3mlmaksh kima l ma3ml temrj feya 3ib la abyedh la ak7el entouma la9sha khra fl slip t3alm 3ish taksir shouka m3aya ma yemshish shbikom kila7nesh bl jassan wl tashwish bl dazen wl ba9shish fi bled azgher mn 9arya ghodwa tetsdam ki tfi9 brou7k bi3a w sharya fi 3arka m3a nafsk 9oul l zebi sh mdakhelny klemn ma9oltoush 3lash 3lik sh t9awelni fih tahki 3al t7in wl wedhnik ghats fih matwalish bl rap rajl mata3refsh ey shbih stage l bourdgana bort w 3la rask bana nas trapi tiir wnty t3ayt 7ata ena mat7elsh mokhk b bhama maksh mta3 3arka nseb f barsha mnaykin fy no9tet t7in moshtarka raba7 barka w shaded l equilibre ki t9abl abou 3eyadh ghodwa t9abl justin bieber la formation la libre mardhk ma ndawilk wa9t yjik stagk taw tefhm li fih nahkilk fl saloum hez slipk moushna fard darja n manfarkessh dh har bash nhez bih darja ija ras w shouf l forja 3lash l klem 3lik 9ad ma tsebny tasghar lin ma3adsh nshouf fik fayt l ma9boul la9i l rbayet 7ouloul shayf li beyt ma9toul beki 3al meyt masboul 7aki meli 3eshtou toul moush kifk tla3t t9oul froukh tkames w tfatn b tbi3tou mahoush mas2iul b tbi3tou mahoush mkhalt deniytou bl ghalt nekna l shara3 ma tkhayelna kif etta7ana ma 9alet 9a3ed rou7ou jalt yada3i ma3refty yla9t fl klem w yefty lin ezzour ywali zlalet nes li ta3bouniml bera7 rabi yehdahom na3ref na7i rou7iw ma7ashtish sh na3ref dahom kan 3ali 7abou ydhorouni nektelhom waldehom fibelhomshi beli l la9ta keeka moush ena 7ashih m3ahom part ii manesh ndhonou ti tla3tou mat hanou kan jitta3rf l dhlam ya mnayk rak khoft menou ma93dana nestanou 3inikom li tashbah w mana3refsh n9ata3 mn kleb 3arbi tanba7 y7ebou zebi f9ir besh fy wejhi y9oulou rajl y7ebou zebi f9ir besh fi 9feya y9oulou moushni rajl w la fehom rajl wejh w 9fa 3ash y9is kan majesh yrapi sada9ni raw yekhdm boulis wa9t li tdhaya3 a3ref li sahebtk market rkeybkom berket ta7shelkom fl supermarket mazelna 3ayshin b barket nes li kabrouna meli 5la9na rjel besh 7womna yzabrouna tekhdb 3la nes raw ghrab yseb feya9adrk moush mn 9adri slougi moush lazmou sadreya fy rassi 200 9adheya 7esdouni f shitani w ma9aloush tbarkallah 3laya 7oumtk y7ebou feya wnty erkhis sakr akl baffle 3adi njik ml brise m3adi 3lik l analyse maksh mta3 7arb rab7k fl torbeya w fy 9elt l torbya 3andi 9ana3aty w ma n3azemsh 3al shma3 n7asb fik 3al neya ki tjini f mendef tma3 9awa3edna tetba3 meli kona rbaat nkhayr jacjy chan 3la brucelee fy kaseet nkhayr l farziit 3la l hedi 7abouba enty tkharj fy tzaryit lena mawadhi3 rbouba bahdhek n3adi fi 3ou9ouba wl ta7ana yakrhouna b n9ob khrahom7abou m3a rjel ydawnouna jaw besh yabahrouna l9aw rwe7hom monbahrin jew besh yajahrouna yekhi raj3ou ma3meyin 7abou ya7grouna 3ashou m3ana ma7gourin7abou ya7srouna ta7anet l shayatin 3aysht b shi3ark ki 7ayatk ki 7ayeti ama maksh deri li aghlatk moush ki ghlati yab9a e bihari s3ib 9adou 9ad ma2seti w ma2seti fy akher 7al9a fy jort tafah nwaret ki twati ma3shtsh faj3ati li kifk ma yafja3nish rojla s3iba 3lik w mas helha ta7an t3ish na3ref m3a shkoun n3ishw 9adri moush ki kelmtk t3ish f rasi lahdha tnik shalbou9 f west 7elmtk 79i9tk ki termtk b tbi3tk khawef fy lo3bt l khayal tla3t a3ma moush shawaf t7eb terba7 bl aktef w ena na3ref ken nerba7 fik ennani wnty tanba7 jil tayr bikom w jil 7ayr fikom wenja jit ml jil li 7ashih li dayr bikom shtayr lakom w a3tini entiba3k wahd ml 0 njib l 39 mte3k madem moush ji3an a3ref rani manashba3sh makfarsh soulayman klem shwatn manasma3sh mata3resh stage l 3in mata3resh stage ena3sh stage l bakyablesh dmou3 khalatny manetfja3sh nemshi ma narja3sh 3adhmaf zit l ghorba nali rap maadsh ini kan fama f kharja nasa9li ghayr 9abl lel ta7tim dima mlaghem 7a9li nahbt fy 3a9li nezrb w natla3 nezrb fy 3a9li paiii mjewb sou2aleti li fi sallet mouhmaletou n improvizi lin mokhi yelsa9 fy skulletou khser 7yetou yseb sh besh na3mellou r5is l 9ima faragh ma yetraba beli tdhellou mastanitsh j aime na3ref shneya khalit watit b azber klem l rou7i lena tmazit sh mhaz zebi lel 7ajam lahi nnafdh fy ta5tit lahi nshaya7 fy a9lem w 3la nes ma 3assit tafra7 wahd kifi ma7leh fl rap w f denya wnty matshabahesh l rapk la tshabah lel denya lem d3ak adhika l denya t7eb tben la3eb niitek fy 3inik w msh mzeya 3lik nestaj3eb ma3andish carriere basem fik 3andy parcoure moush kifk ma nafra7 kan ki nsebk fy titre zabour mgata3 l tombour w mta3b eli raskou w nik 100 mn om li mbales fl disco tahkili 3al rojla ta7shelk faha retart w kan 3andk mnha bzeyed anfa3 rou7k walla l dar bara rabi shwaya sghar khir meli 3lik net9adha n3ishou 3adha 3adha w li kifk 3amloulna l 3ar ta7an fl nes yta7n w miboun fl nes ywabn kefr fl nes ykafr w jaben fl nes yjaben w mba3d 3rk med l war9a fy classeurk hez kamoustk b3id khatr na3ref déclancheurk ya3tik dé 3la couleurk w matnajmsh tfoutny 7ashih l barsha f wehed ki tal9any mfages shoutni t3ishou 3ara9il w ltawa mal9aw 3youbna faraghlou thneya khir may3afs zboubna nes khayfa w nes mjoubna mena3 mn bouushousha li khobza m3ah te9sm yemshi fibelou 3andk kousha 9abl 100 mn kartousha w raba7hom b nafkha li ttir l naf7a nab9a ghrab ytiir moush n3ousha kifk kl 3alousha tal3ank ki hboutk nejblk mabin 3inik sbab l 7aba li f dhaboutk be9i man7ebsh nshoutk nostra damos wnti t9oul 7sin l sherni bl 7wel torbt fy khyoutk bara ejri fy auto rootk shouf omk 7atemha wel bled mshny fahemha 3arka 3alli besh yo7komha yal miboun ya weld l 9a7ba wenty lawj shkoun yorshomha nes n7ashemha bheym nbashemha tansa mnin l source fl ghram maghtoussa 5shamha bhim w ne9sk dhil maksh 9abil w habil ghrab nwari fik w met3adi 3abr sabil kima bill fl green mill jeyk mn domar n3alm fik ta5tar moush meli madouhoulk ta5tar ma3andish man5abi w man3ishish kl hippy ana kbiri rabi wnty tla3t kbirk zebi shitani moushou mt5abi 7yela manmaressh kif t7eb ta7shihouli w tefshel fi naje7i matkarezsh tnik ma3ya nhar t3ish habt mn ascenceur n3ish wahdi l nhar l shedda m5abi secteur birani parteur kima eddy meurphi zid 3andi fy lseni kima fy se9in srarfi tab9a l neyek omnitou yshoufny mounek akher tomou7ati ya3jb l la97ab blek ta7ki 3al rojla 7ashek kifi maksh beyn 3esht l shera3 b tmarmidou w 3esht l bar wl punchline 3esht 7zin mkarz fine wnty hak tshouf t3ish lesa9 khatr khari 3la rou7k ml khouf ta2lif 7ourouf w n7otlk fibelk awl ma takrahny tal9a rou7k meta7shelk lin nmout nselk w 7keyti mkhaledha bini w bin rabi shriki feha rou7 fy blaset ha nzid nbaset ha lennes l karkara w lo3bt l letiba maw ta3ref lazemha 7zara matoufa la3amara madem sadi9oun madem ma ta3refsh asli ken lkorh lemimoun froukh t5oun w nez9 3aysh funny ken li fou9i ysema7 mafamesh l moush bel3ani t3ish adhika nitk fy 7aja mahish mte3k blesh flousk shritk 9asitk 3ala9t dhra3k 3alitk shouf ertifa3k khalitk beya3 zenbe3k dhalitk nal9ak ta7an t7eb tboul 3la na3ne3k t7eb lmousewet nseb wlad w bnet nes bnet w nes 3allet w nes d3a l shar 5dhet matghadhini l houtafat ostoura ml afique king w maw fibelk meli wsolt sbaght 3lik bahdheya mayjik mademou 9ad bhemtkom shneya mahamtkom 3ara9il ma lametkom tafasil ma khaletkom tefhmou b tandhim w li nkhalih dhkey narja3lou nal9ah bhim t3adi hyetk tahshii fih tlawj 3ali mahshi fih nik100 mn omou l rap 9odem eli na7kifih tfadhl akhra fih ama enty khfif w kan nti7 lel sorce w nchedk enty w sahbetk bl kif mataya7tesh l serwel ama serweli taya7 ray fy 9alb kawel n3adheb fy sharaya7 zay nal3b ma tkateltsh enty 9albk sheya7 lamou b3adh hom ma reb7oush 7ataki dollari taya7 nes tfok feya 7ata meni nfok ro7i ghir e7sbny mnayk ml ak7el kanadhf ro7i n3ish m3akommoush tomou7i a7lemi ba3ida mshargi nestana fy fas9a w tal9a bin l 3in jdida 3andou mdida lklem yet9lb 5esrou 100 mn rajl kesbou 7amalet la7tab el b3id 9rob weli krahni wala y7eb weliken y7ebni maw zed akther 7ab na3ref fesh n9oul w yedo moush l ma tjamed manishi rassoul w majitsh fl dhanb nlamd feyt l ma9boul w net7awl l 3azra2il majitsh mn esra2il w my real name mouhamed'"
            ]
          },
          "metadata": {
            "tags": []
          },
          "execution_count": 21
        }
      ]
    },
    {
      "cell_type": "markdown",
      "metadata": {
        "id": "l8yKQ0jkEQDH"
      },
      "source": [
        "# **2.3 Check Text Content for corpus**\n"
      ]
    },
    {
      "cell_type": "code",
      "metadata": {
        "colab": {
          "base_uri": "https://localhost:8080/"
        },
        "id": "wYV9fQe8EmvC",
        "outputId": "59dcfaed-0111-4c7c-bd95-82044b0033ba"
      },
      "source": [
        "df[\"text\"].head(10)\n"
      ],
      "execution_count": 22,
      "outputs": [
        {
          "output_type": "execute_result",
          "data": {
            "text/plain": [
              "0                    yar777em weldin weldikk bravooooo\n",
              "1                                 Bravo amine...j'aime\n",
              "2                          صراحة bravo أحمد الرحموني .\n",
              "3         Souut w ziiin lee wlh bch tda5llouna f 7iiit\n",
              "4                                           ANAA N7bha\n",
              "5                                      Bravooooo walid\n",
              "6                                    محترم و نموة علها\n",
              "7             ربي يشفيلك بوك،وان شاء الله غصرة وتتعدى،\n",
              "8    Bravoooooooooooooooo w5ali nabara 3la jnab rak...\n",
              "9                                                Bravo\n",
              "Name: text, dtype: object"
            ]
          },
          "metadata": {
            "tags": []
          },
          "execution_count": 22
        }
      ]
    },
    {
      "cell_type": "markdown",
      "metadata": {
        "id": "KUYD3vzeEwXG"
      },
      "source": [
        "\n",
        "It's clear that the rest of the texts are hided because of the test length, I will put the column in a list to check the first 5 texts"
      ]
    },
    {
      "cell_type": "code",
      "metadata": {
        "colab": {
          "base_uri": "https://localhost:8080/"
        },
        "id": "TAer7HIDEx1w",
        "outputId": "3c4259e7-194b-4adb-b708-0810b94616f4"
      },
      "source": [
        "#To check the text content we can use a list\n",
        "df[\"text\"].tolist()[:10]"
      ],
      "execution_count": 23,
      "outputs": [
        {
          "output_type": "execute_result",
          "data": {
            "text/plain": [
              "['yar777em weldin weldikk bravooooo',\n",
              " \"Bravo amine...j'aime\",\n",
              " 'صراحة bravo أحمد الرحموني .',\n",
              " 'Souut w ziiin lee wlh bch tda5llouna f 7iiit',\n",
              " 'ANAA N7bha',\n",
              " 'Bravooooo walid',\n",
              " 'محترم و نموة علها',\n",
              " 'ربي يشفيلك بوك،وان شاء الله غصرة وتتعدى،',\n",
              " 'Bravoooooooooooooooo w5ali nabara 3la jnab rak wa7dik m3alim',\n",
              " 'Bravo']"
            ]
          },
          "metadata": {
            "tags": []
          },
          "execution_count": 23
        }
      ]
    },
    {
      "cell_type": "markdown",
      "metadata": {
        "id": "CqDhWxUjE-Jc"
      },
      "source": [
        "**Let's make it more perfect**\n"
      ]
    },
    {
      "cell_type": "code",
      "metadata": {
        "colab": {
          "base_uri": "https://localhost:8080/"
        },
        "id": "_F7dnL0dE_oj",
        "outputId": "84692f5c-7c86-496c-b90c-c669e4143602"
      },
      "source": [
        "t = df[\"text\"].to_list()\n",
        "for i in range(10):\n",
        "    print('Tweet Number '+str(i+1)+': '+t[i])"
      ],
      "execution_count": 24,
      "outputs": [
        {
          "output_type": "stream",
          "text": [
            "Tweet Number 1: yar777em weldin weldikk bravooooo\n",
            "Tweet Number 2: Bravo amine...j'aime\n",
            "Tweet Number 3: صراحة bravo أحمد الرحموني .\n",
            "Tweet Number 4: Souut w ziiin lee wlh bch tda5llouna f 7iiit\n",
            "Tweet Number 5: ANAA N7bha\n",
            "Tweet Number 6: Bravooooo walid\n",
            "Tweet Number 7: محترم و نموة علها\n",
            "Tweet Number 8: ربي يشفيلك بوك،وان شاء الله غصرة وتتعدى،\n",
            "Tweet Number 9: Bravoooooooooooooooo w5ali nabara 3la jnab rak wa7dik m3alim\n",
            "Tweet Number 10: Bravo\n"
          ],
          "name": "stdout"
        }
      ]
    },
    {
      "cell_type": "markdown",
      "metadata": {
        "id": "mVieTEdRN9UC"
      },
      "source": [
        "**frequent positives words**"
      ]
    },
    {
      "cell_type": "code",
      "metadata": {
        "colab": {
          "base_uri": "https://localhost:8080/"
        },
        "id": "R6PV9u3PMkMv",
        "outputId": "c5dc0422-af48-4894-8aa7-90238d85efd9"
      },
      "source": [
        "#most 50 frequent positives words\n",
        "words = df[df.label==1].text.apply(lambda x: [word.lower() for word in x.split()])\n",
        "positive_words = Counter()\n",
        "\n",
        "for msg in words:\n",
        "    positive_words.update(msg)\n",
        "    \n",
        "positive_words.most_common(50)\n"
      ],
      "execution_count": 25,
      "outputs": [
        {
          "output_type": "execute_result",
          "data": {
            "text/plain": [
              "[('w', 10438),\n",
              " ('و', 9836),\n",
              " ('rabi', 6740),\n",
              " ('ya', 6689),\n",
              " ('et', 6587),\n",
              " ('de', 6385),\n",
              " ('ربي', 6165),\n",
              " ('في', 5850),\n",
              " ('الله', 5603),\n",
              " ('bravo', 4984),\n",
              " ('من', 4469),\n",
              " ('fi', 4356),\n",
              " ('la', 4218),\n",
              " ('slim', 4215),\n",
              " ('je', 4156),\n",
              " ('le', 4119),\n",
              " ('très', 3758),\n",
              " ('el', 3690),\n",
              " ('les', 3626),\n",
              " ('jumia', 3286),\n",
              " ('application', 3263),\n",
              " ('pour', 3146),\n",
              " ('bonne', 3023),\n",
              " ('à', 2863),\n",
              " ('a', 2715),\n",
              " ('si', 2714),\n",
              " ('merci', 2713),\n",
              " ('[ربي', 2713),\n",
              " ('est', 2595),\n",
              " ('cest', 2524),\n",
              " ('على', 2478),\n",
              " ('m3ak', 2437),\n",
              " ('جدا', 2435),\n",
              " ('en', 2430),\n",
              " ('bien', 2402),\n",
              " ('ca', 2321),\n",
              " ('bon', 2289),\n",
              " ('des', 2266),\n",
              " ('vous', 2237),\n",
              " ('pas', 2194),\n",
              " ('يا', 2163),\n",
              " ('kol', 2144),\n",
              " ('il', 2053),\n",
              " ('كل', 2031),\n",
              " ('allah', 2014),\n",
              " ('تونس', 1933),\n",
              " ('slouma', 1930),\n",
              " ('un', 1911),\n",
              " ('que', 1898),\n",
              " ('une', 1883)]"
            ]
          },
          "metadata": {
            "tags": []
          },
          "execution_count": 25
        }
      ]
    },
    {
      "cell_type": "code",
      "metadata": {
        "colab": {
          "base_uri": "https://localhost:8080/",
          "height": 371
        },
        "id": "XmUmZ58ZM-YH",
        "outputId": "2c747d8a-2aa6-4f7c-fcb2-cfc84b7fb202"
      },
      "source": [
        "# word cloud for words related to positive (most 100 frequent)\n",
        "text=\" \".join(post for post in df[df['label']==1].text)\n",
        "wordcloud = WordCloud(max_font_size=90, max_words=100, background_color=\"white\", colormap=\"inferno\").generate(text)\n",
        "plt.figure(figsize=(10,10))\n",
        "plt.imshow(wordcloud, interpolation=\"bilinear\")\n",
        "plt.title('Frequntly occuring words related to positive \\n\\n',fontsize=18)\n",
        "plt.axis(\"off\")\n",
        "plt.show()"
      ],
      "execution_count": 26,
      "outputs": [
        {
          "output_type": "display_data",
          "data": {
            "image/png": "[encoded data removed]",
            "text/plain": [
              "<Figure size 720x720 with 1 Axes>"
            ]
          },
          "metadata": {
            "tags": []
          }
        }
      ]
    },
    {
      "cell_type": "markdown",
      "metadata": {
        "id": "hdIeQ5zYN5O_"
      },
      "source": [
        "**frequent negatives words**"
      ]
    },
    {
      "cell_type": "code",
      "metadata": {
        "colab": {
          "base_uri": "https://localhost:8080/"
        },
        "id": "JmM1v6CQNfLq",
        "outputId": "07490e95-5782-43b7-b135-7cc59b7bee80"
      },
      "source": [
        "#most 50 frequent negatives words\n",
        "words = df[df.label==0].text.apply(lambda x: [word.lower() for word in x.split()])\n",
        "positive_words = Counter()\n",
        "\n",
        "for msg in words:\n",
        "    positive_words.update(msg)\n",
        "    \n",
        "positive_words.most_common(50)\n"
      ],
      "execution_count": 27,
      "outputs": [
        {
          "output_type": "execute_result",
          "data": {
            "text/plain": [
              "[('w', 11512),\n",
              " ('و', 8652),\n",
              " ('de', 5732),\n",
              " ('fi', 5537),\n",
              " ('el', 4707),\n",
              " ('في', 4614),\n",
              " ('ya', 4276),\n",
              " ('la', 4144),\n",
              " ('pas', 3814),\n",
              " ('من', 3509),\n",
              " ('le', 3427),\n",
              " ('et', 3309),\n",
              " ('je', 3051),\n",
              " ('slim', 2563),\n",
              " ('les', 2523),\n",
              " ('a', 2353),\n",
              " ('ne', 2235),\n",
              " ('ma', 2226),\n",
              " ('il', 2114),\n",
              " ('l', 2112),\n",
              " ('des', 2008),\n",
              " ('bech', 2003),\n",
              " ('ken', 1986),\n",
              " ('à', 1959),\n",
              " ('que', 1922),\n",
              " ('على', 1836),\n",
              " ('vous', 1792),\n",
              " ('ما', 1774),\n",
              " ('3la', 1733),\n",
              " ('un', 1645),\n",
              " ('لا', 1644),\n",
              " ('est', 1593),\n",
              " ('ou', 1570),\n",
              " ('pour', 1532),\n",
              " ('en', 1502),\n",
              " ('si', 1496),\n",
              " ('une', 1491),\n",
              " ('men', 1407),\n",
              " ('الي', 1386),\n",
              " ('application', 1319),\n",
              " ('kol', 1287),\n",
              " ('plus', 1275),\n",
              " ('eli', 1264),\n",
              " ('mais', 1234),\n",
              " ('rabi', 1192),\n",
              " ('يا', 1187),\n",
              " ('jai', 1185),\n",
              " ('الله', 1139),\n",
              " ('ki', 1137),\n",
              " ('cest', 1127)]"
            ]
          },
          "metadata": {
            "tags": []
          },
          "execution_count": 27
        }
      ]
    },
    {
      "cell_type": "code",
      "metadata": {
        "colab": {
          "base_uri": "https://localhost:8080/",
          "height": 371
        },
        "id": "YKzrE4jhNrGG",
        "outputId": "b9af75e2-a800-4375-f3d8-e16429c856aa"
      },
      "source": [
        "# word cloud for words related to negatives (most 100 frequent)\n",
        "text=\" \".join(post for post in df[df['label']==0].text)\n",
        "wordcloud = WordCloud(max_font_size=90, max_words=100, background_color=\"white\", colormap=\"inferno\").generate(text)\n",
        "plt.figure(figsize=(10,10))\n",
        "plt.imshow(wordcloud, interpolation=\"bilinear\")\n",
        "plt.title('Frequntly occuring words related to negatives \\n\\n',fontsize=18)\n",
        "plt.axis(\"off\")\n",
        "plt.show()"
      ],
      "execution_count": 28,
      "outputs": [
        {
          "output_type": "display_data",
          "data": {
            "image/png": "[encoded data removed]",
            "text/plain": [
              "<Figure size 720x720 with 1 Axes>"
            ]
          },
          "metadata": {
            "tags": []
          }
        }
      ]
    },
    {
      "cell_type": "markdown",
      "metadata": {
        "id": "GUymVxkwDu_s"
      },
      "source": [
        "#[3]. Preprocessing Text data\n",
        "Now that we have finished deduplication our data requires some preprocessing before we go on further with analysis and making the prediction model.\n",
        "\n",
        "Hence in the Preprocessing phase we do the following in the order below:-\n",
        "\n",
        "* Begin by removing the html tags\n",
        "* Remove any punctuations or limited set of special characters like , or . or # etc.\n",
        "* Check if the word is made up of english letters and is not alpha-numeric\n",
        "* Check to see if the length of the word is greater than 2 (as it was researched that there is no adjective in 2-letters)\n",
        "* Convert the word to lowercase\n",
        "* Remove Stopwords"
      ]
    },
    {
      "cell_type": "code",
      "metadata": {
        "colab": {
          "base_uri": "https://localhost:8080/"
        },
        "id": "PgUSxx3UTknB",
        "outputId": "f77deb07-4360-4c15-9612-ef1dcb2cd7ce"
      },
      "source": [
        "import nltk\n",
        "# Uncomment to download \"stopwords\"\n",
        "nltk.download(\"stopwords\")"
      ],
      "execution_count": 29,
      "outputs": [
        {
          "output_type": "stream",
          "text": [
            "[nltk_data] Downloading package stopwords to /root/nltk_data...\n",
            "[nltk_data]   Package stopwords is already up-to-date!\n"
          ],
          "name": "stdout"
        },
        {
          "output_type": "execute_result",
          "data": {
            "text/plain": [
              "True"
            ]
          },
          "metadata": {
            "tags": []
          },
          "execution_count": 29
        }
      ]
    },
    {
      "cell_type": "code",
      "metadata": {
        "colab": {
          "base_uri": "https://localhost:8080/"
        },
        "id": "24UQXhJ10ODI",
        "outputId": "9414aefa-5a26-4c51-b953-d54c2daa0d8c"
      },
      "source": [
        "%%time\n",
        "# replacing some phrases like je peux pas with je ne peux pas\n",
        "def decontracted(phrase):\n",
        "    # specific\n",
        "    phrase = re.sub(r\"je peux pas\", \"je ne peux pas\", phrase)\n",
        "    phrase = re.sub(r\"j'aime pas\", \"je ne aime pas\", phrase)\n",
        "    return phrase\n",
        "\n",
        "perstopwords= set(['et','el','al','wa', 'si'])\n",
        "\n",
        "def  text_preprocessing(df, text_field, new_text_field_name):\n",
        "    \"\"\"\n",
        "    - Lowercase the sentence\n",
        "    - Change \"'t\" to \"not\"\n",
        "    - Remove \"@name\"\n",
        "    - Isolate and remove punctuations except \"?\"\n",
        "    - Remove other special characters\n",
        "    - Remove stop words except \"not\" and \"can\"\n",
        "    - Remove trailing whitespace\n",
        "    \"\"\"   \n",
        "    df[new_text_field_name] = df[text_field].str.lower()\n",
        "    # Change 't to 'not'\n",
        "    df[new_text_field_name] = df[new_text_field_name].apply(lambda s: re.sub(r\"\\' t\", \" not\", s))\n",
        "    # Change n' to 'ne'\n",
        "    df[new_text_field_name] = df[new_text_field_name].apply(lambda s: re.sub(r\"\\n'\", \" ne\", s)) \n",
        "    # Remove @name\n",
        "    df[new_text_field_name] = df[new_text_field_name].apply(lambda s: re.sub(r'(@.*?)[\\s]', ' ', s))\n",
        "    # decontracted sentences\n",
        "    df[new_text_field_name] = df[new_text_field_name].apply(lambda s: decontracted(s))\n",
        "    # removing extra spaces and numbers\n",
        "    df[new_text_field_name] = df[new_text_field_name].apply(lambda s: re.sub(\"\\S*\\d\\S*\", \"\", s).strip())\n",
        "    # Isolate and remove punctuations except '?'\n",
        "    df[new_text_field_name] = df[new_text_field_name].apply(lambda s: re.sub(r'([\\'\\\"\\.\\(\\)\\!\\?\\\\\\/\\,])', r' \\1 ', s))\n",
        "    df[new_text_field_name] = df[new_text_field_name].apply(lambda s: re.sub(r'[^\\w\\s\\?]', ' ', s))\n",
        "    # Remove some special characters\n",
        "    df[new_text_field_name] = df[new_text_field_name].apply(lambda s: re.sub(r'([\\;\\:\\|•«\\n])', ' ', s))\n",
        "    # Remove stopwords except 'not' and 'can'\n",
        "    df[new_text_field_name] = df[new_text_field_name].apply(lambda s: \" \".join([word for word in s.split() if word not in stopwords.words('english') or word in ['not', 'can']]))\n",
        "    # Remove trailing whitespace\n",
        "    df[new_text_field_name] = df[new_text_field_name].apply(lambda s: re.sub(r'\\s+', ' ', s).strip())\n",
        "    return df\n",
        "data_clean = text_preprocessing(df, 'text', 'text_clean')"
      ],
      "execution_count": 30,
      "outputs": [
        {
          "output_type": "stream",
          "text": [
            "CPU times: user 2min 42s, sys: 17.9 s, total: 3min\n",
            "Wall time: 3min\n"
          ],
          "name": "stdout"
        }
      ]
    },
    {
      "cell_type": "code",
      "metadata": {
        "colab": {
          "base_uri": "https://localhost:8080/",
          "height": 206
        },
        "id": "741l704D9i_o",
        "outputId": "2575da73-eba9-4264-d830-80dcc955557b"
      },
      "source": [
        "data_clean.head()"
      ],
      "execution_count": 31,
      "outputs": [
        {
          "output_type": "execute_result",
          "data": {
            "text/html": [
              "<div>\n",
              "<style scoped>\n",
              "    .dataframe tbody tr th:only-of-type {\n",
              "        vertical-align: middle;\n",
              "    }\n",
              "\n",
              "    .dataframe tbody tr th {\n",
              "        vertical-align: top;\n",
              "    }\n",
              "\n",
              "    .dataframe thead th {\n",
              "        text-align: right;\n",
              "    }\n",
              "</style>\n",
              "<table border=\"1\" class=\"dataframe\">\n",
              "  <thead>\n",
              "    <tr style=\"text-align: right;\">\n",
              "      <th></th>\n",
              "      <th>ID</th>\n",
              "      <th>text</th>\n",
              "      <th>label</th>\n",
              "      <th>message_len</th>\n",
              "      <th>text_clean</th>\n",
              "    </tr>\n",
              "  </thead>\n",
              "  <tbody>\n",
              "    <tr>\n",
              "      <th>0</th>\n",
              "      <td>0</td>\n",
              "      <td>yar777em weldin weldikk bravooooo</td>\n",
              "      <td>1</td>\n",
              "      <td>33</td>\n",
              "      <td>weldin weldikk bravooooo</td>\n",
              "    </tr>\n",
              "    <tr>\n",
              "      <th>1</th>\n",
              "      <td>1</td>\n",
              "      <td>Bravo amine...j'aime</td>\n",
              "      <td>1</td>\n",
              "      <td>20</td>\n",
              "      <td>bravo amine j aime</td>\n",
              "    </tr>\n",
              "    <tr>\n",
              "      <th>2</th>\n",
              "      <td>2</td>\n",
              "      <td>صراحة bravo أحمد الرحموني .</td>\n",
              "      <td>1</td>\n",
              "      <td>27</td>\n",
              "      <td>صراحة bravo أحمد الرحموني</td>\n",
              "    </tr>\n",
              "    <tr>\n",
              "      <th>3</th>\n",
              "      <td>3</td>\n",
              "      <td>Souut w ziiin lee wlh bch tda5llouna f 7iiit</td>\n",
              "      <td>1</td>\n",
              "      <td>44</td>\n",
              "      <td>souut w ziiin lee wlh bch f</td>\n",
              "    </tr>\n",
              "    <tr>\n",
              "      <th>4</th>\n",
              "      <td>4</td>\n",
              "      <td>ANAA N7bha</td>\n",
              "      <td>1</td>\n",
              "      <td>10</td>\n",
              "      <td>anaa</td>\n",
              "    </tr>\n",
              "  </tbody>\n",
              "</table>\n",
              "</div>"
            ],
            "text/plain": [
              "   ID  ...                   text_clean\n",
              "0   0  ...     weldin weldikk bravooooo\n",
              "1   1  ...           bravo amine j aime\n",
              "2   2  ...    صراحة bravo أحمد الرحموني\n",
              "3   3  ...  souut w ziiin lee wlh bch f\n",
              "4   4  ...                         anaa\n",
              "\n",
              "[5 rows x 5 columns]"
            ]
          },
          "metadata": {
            "tags": []
          },
          "execution_count": 31
        }
      ]
    },
    {
      "cell_type": "code",
      "metadata": {
        "colab": {
          "base_uri": "https://localhost:8080/"
        },
        "id": "nKWr3NB99-ju",
        "outputId": "d61f5fb9-5655-4902-c0d0-2f7cb61e9887"
      },
      "source": [
        "data_clean.info()"
      ],
      "execution_count": 32,
      "outputs": [
        {
          "output_type": "stream",
          "text": [
            "<class 'pandas.core.frame.DataFrame'>\n",
            "Int64Index: 199097 entries, 0 to 206116\n",
            "Data columns (total 5 columns):\n",
            " #   Column       Non-Null Count   Dtype \n",
            "---  ------       --------------   ----- \n",
            " 0   ID           199097 non-null  int64 \n",
            " 1   text         199097 non-null  object\n",
            " 2   label        199097 non-null  int64 \n",
            " 3   message_len  199097 non-null  int64 \n",
            " 4   text_clean   199097 non-null  object\n",
            "dtypes: int64(3), object(2)\n",
            "memory usage: 14.1+ MB\n"
          ],
          "name": "stdout"
        }
      ]
    },
    {
      "cell_type": "code",
      "metadata": {
        "colab": {
          "base_uri": "https://localhost:8080/"
        },
        "id": "xXSHuPN8_Dmj",
        "outputId": "17c0cd44-4fb7-4958-c83e-2e5fc08164d8"
      },
      "source": [
        "data_clean.shape"
      ],
      "execution_count": 33,
      "outputs": [
        {
          "output_type": "execute_result",
          "data": {
            "text/plain": [
              "(199097, 5)"
            ]
          },
          "metadata": {
            "tags": []
          },
          "execution_count": 33
        }
      ]
    },
    {
      "cell_type": "code",
      "metadata": {
        "id": "qy6XgLNMWNCe"
      },
      "source": [
        "#save our clean dataframe into csv file\n",
        "data_clean.to_csv ('data_clean.csv')"
      ],
      "execution_count": 34,
      "outputs": []
    },
    {
      "cell_type": "markdown",
      "metadata": {
        "id": "y15xWUN0_ceS"
      },
      "source": [
        "# [4]. Split the data to train and test data\n",
        "\n"
      ]
    },
    {
      "cell_type": "code",
      "metadata": {
        "colab": {
          "base_uri": "https://localhost:8080/"
        },
        "id": "3eJrMYiY_FCK",
        "outputId": "f278b192-5fe8-4eeb-a77c-121ad62f100c"
      },
      "source": [
        "#splitting data to train.cv and test\n",
        "from sklearn.model_selection import train_test_split\n",
        "X = data_clean['text_clean']\n",
        "y = data_clean['label']\n",
        "X_train,X_test,y_train,y_test = train_test_split(X,y,test_size=0.3,stratify=y,random_state=100)\n",
        "print(f'shape of X_train is {X_train.shape}')\n",
        "print(f'shape of X_test is {X_test.shape}')\n",
        "print(f'shape of y_train is {y_train.shape}')\n",
        "print(f'shape of y_test is {y_test.shape}')"
      ],
      "execution_count": 35,
      "outputs": [
        {
          "output_type": "stream",
          "text": [
            "shape of X_train is (139367,)\n",
            "shape of X_test is (59730,)\n",
            "shape of y_train is (139367,)\n",
            "shape of y_test is (59730,)\n"
          ],
          "name": "stdout"
        }
      ]
    },
    {
      "cell_type": "markdown",
      "metadata": {
        "id": "W7jfGj2sBUAM"
      },
      "source": [
        "**140k for train and 60k for test and validation :D**\n"
      ]
    },
    {
      "cell_type": "code",
      "metadata": {
        "id": "9ozDzyqsD6mo"
      },
      "source": [
        "np.save('saved_feats/X_train', X_train)\n",
        "np.save('saved_feats/y_train', y_train)\n",
        "np.save('saved_feats/X_test', X_test)\n",
        "np.save('saved_feats/y_test', y_test)"
      ],
      "execution_count": 37,
      "outputs": []
    },
    {
      "cell_type": "markdown",
      "metadata": {
        "id": "-i8YFSD_BMeO"
      },
      "source": [
        "#[5].Text Vectorization\n",
        "\n",
        "# 5.1 Text Vectorization using Bag of Words\n",
        "\n"
      ]
    },
    {
      "cell_type": "code",
      "metadata": {
        "colab": {
          "base_uri": "https://localhost:8080/"
        },
        "id": "Stf_om_BBhIF",
        "outputId": "fb0da620-b0c2-40da-c972-813c3890a9dc"
      },
      "source": [
        "%%time\n",
        "\n",
        "bow = CountVectorizer()\n",
        "bow.fit(X_train)\n",
        "X_train_bow = bow.transform(X_train)\n",
        "X_test_bow = bow.transform(X_test)\n",
        "bow_features = bow.get_feature_names()\n",
        "\n",
        "print('shape of X_train_bow is {}'.format(X_train_bow.get_shape()))\n",
        "print('shape of X_test_bow is {}'.format(X_test_bow.get_shape()))"
      ],
      "execution_count": 38,
      "outputs": [
        {
          "output_type": "stream",
          "text": [
            "shape of X_train_bow is (139367, 144497)\n",
            "shape of X_test_bow is (59730, 144497)\n",
            "CPU times: user 4.6 s, sys: 47.9 ms, total: 4.65 s\n",
            "Wall time: 4.67 s\n"
          ],
          "name": "stdout"
        }
      ]
    },
    {
      "cell_type": "code",
      "metadata": {
        "id": "QrmgXEGPCIlH"
      },
      "source": [
        "#saving bow vectors\n",
        "import pickle\n",
        "pickle.dump(X_train_bow, open(\"saved_feats/X_train_bow\",\"wb\"))\n",
        "pickle.dump(X_test_bow, open(\"saved_feats/X_test_bow\",\"wb\"))\n",
        "pickle.dump(np.array(bow_features), open(\"saved_feats/bow_features\",\"wb\"))"
      ],
      "execution_count": 39,
      "outputs": []
    },
    {
      "cell_type": "markdown",
      "metadata": {
        "id": "4aRQa9cJEIQA"
      },
      "source": [
        "#5.2 Text Vectorization using TF-IDF "
      ]
    },
    {
      "cell_type": "code",
      "metadata": {
        "colab": {
          "base_uri": "https://localhost:8080/"
        },
        "id": "czu7sGXgCeCx",
        "outputId": "c41d3a30-358d-4aaf-edc5-29bcd5ba9f24"
      },
      "source": [
        "%%time\n",
        "#applying bow on x_train and x_test\n",
        "vectorizer = TfidfVectorizer()\n",
        "vectorizer.fit(X_train)\n",
        "tfidf_features = vectorizer.get_feature_names()\n",
        "# we use the fitted CountVectorizer to convert the text to vector\n",
        "X_train_tfidf = vectorizer.transform(X_train)\n",
        "X_test_tfidf = vectorizer.transform(X_test)"
      ],
      "execution_count": 40,
      "outputs": [
        {
          "output_type": "stream",
          "text": [
            "CPU times: user 4.97 s, sys: 51.6 ms, total: 5.02 s\n",
            "Wall time: 5.04 s\n"
          ],
          "name": "stdout"
        }
      ]
    },
    {
      "cell_type": "code",
      "metadata": {
        "id": "BZK2OXgLEayx"
      },
      "source": [
        "#saving tfidf vectors\n",
        "pickle.dump(X_train_tfidf, open(\"saved_feats/X_train_tfidf\",\"wb\"))\n",
        "pickle.dump(X_test_tfidf, open(\"saved_feats/X_test_tfidf\",\"wb\"))\n",
        "pickle.dump(np.array(tfidf_features), open(\"saved_feats/tfidf_features\",\"wb\"))"
      ],
      "execution_count": 41,
      "outputs": []
    },
    {
      "cell_type": "markdown",
      "metadata": {
        "id": "PXlDq0HtEkrN"
      },
      "source": [
        "# 5.3 Text Vectorization using Word2Vec"
      ]
    },
    {
      "cell_type": "code",
      "metadata": {
        "colab": {
          "base_uri": "https://localhost:8080/"
        },
        "id": "fsY73xeWEf1u",
        "outputId": "eddeec0a-b7c7-49de-d873-b74c23fb3889"
      },
      "source": [
        "%%time\n",
        "preprocessed_reviews = X_train.values\n",
        "train_sentence = [rev.split() for rev in preprocessed_reviews]\n",
        "# min_count = 5 considers only words that occured atleast 5 times\n",
        "# size = length of vector\n",
        "w2v_model_train = Word2Vec(train_sentence,min_count=5,size=50, workers=4)\n",
        "w2v_words = list(w2v_model_train.wv.vocab)"
      ],
      "execution_count": 42,
      "outputs": [
        {
          "output_type": "stream",
          "text": [
            "CPU times: user 25 s, sys: 281 ms, total: 25.2 s\n",
            "Wall time: 16.8 s\n"
          ],
          "name": "stdout"
        }
      ]
    },
    {
      "cell_type": "code",
      "metadata": {
        "id": "-TTtlCE6FDbx"
      },
      "source": [
        "pickle.dump(np.array(w2v_words),open(\"saved_feats/w2v_words\",\"wb\"))"
      ],
      "execution_count": 43,
      "outputs": []
    },
    {
      "cell_type": "markdown",
      "metadata": {
        "id": "Hve7ZypVFJft"
      },
      "source": [
        "# 5.4 Text Vectorization using Average Word2vec"
      ]
    },
    {
      "cell_type": "code",
      "metadata": {
        "colab": {
          "base_uri": "https://localhost:8080/"
        },
        "id": "QYq9eqjiFHYQ",
        "outputId": "2af7c44b-d598-4ff9-cdd9-22c2e9564ea3"
      },
      "source": [
        "%%time\n",
        "train_reviews = X_train.values\n",
        "train_sentence = [rev.split() for rev in train_reviews]\n",
        "\n",
        "sent_vectors_train = []\n",
        "for sent in tqdm(train_sentence):\n",
        "    sent_vec = np.zeros(50)\n",
        "    cnt_words = 0\n",
        "    for word in sent:\n",
        "        if word in w2v_words:\n",
        "            vector = w2v_model_train.wv[word]\n",
        "            sent_vec += vector\n",
        "            cnt_words += 1\n",
        "    if cnt_words != 0:\n",
        "        sent_vec /= cnt_words\n",
        "    sent_vectors_train.append(sent_vec)\n",
        "\n",
        "print(len(sent_vectors_train))\n",
        "print(len(sent_vectors_train[0]))\n",
        "\n",
        "########################################################\n",
        "test_reviews = X_test.values\n",
        "test_sentence = [rev.split() for rev in test_reviews]\n",
        "\n",
        "sent_vectors_test = []\n",
        "for sent in tqdm(test_sentence):\n",
        "    count = 0\n",
        "    sent_vec = np.zeros(50)\n",
        "    for word in sent:\n",
        "        if word in w2v_words:\n",
        "            vector = w2v_model_train.wv[word]\n",
        "            sent_vec += vector\n",
        "            count += 1\n",
        "            \n",
        "    if count != 0:\n",
        "        sent_vec /= count\n",
        "    sent_vectors_test.append(sent_vec)\n",
        "\n",
        "print(len(sent_vectors_test))\n",
        "print(len(sent_vectors_test[0]))"
      ],
      "execution_count": 44,
      "outputs": [
        {
          "output_type": "stream",
          "text": [
            "100%|██████████| 139367/139367 [05:15<00:00, 442.39it/s]\n",
            "  0%|          | 0/59730 [00:00<?, ?it/s]"
          ],
          "name": "stderr"
        },
        {
          "output_type": "stream",
          "text": [
            "139367\n",
            "50\n"
          ],
          "name": "stdout"
        },
        {
          "output_type": "stream",
          "text": [
            "100%|██████████| 59730/59730 [02:16<00:00, 437.35it/s]"
          ],
          "name": "stderr"
        },
        {
          "output_type": "stream",
          "text": [
            "59730\n",
            "50\n",
            "CPU times: user 7min 30s, sys: 9.77 s, total: 7min 39s\n",
            "Wall time: 7min 32s\n"
          ],
          "name": "stdout"
        },
        {
          "output_type": "stream",
          "text": [
            "\n"
          ],
          "name": "stderr"
        }
      ]
    },
    {
      "cell_type": "code",
      "metadata": {
        "id": "_ulOOj2RFXC0"
      },
      "source": [
        "X_train_avgw2v = np.array(sent_vectors_train)\n",
        "X_test_avgw2v = np.array(sent_vectors_test)\n",
        "\n",
        "pickle.dump(np.array(X_train_avgw2v), open(\"saved_feats/X_train_avgw2v\",\"wb\"))\n",
        "pickle.dump(np.array(X_test_avgw2v), open(\"saved_feats/X_test_avgw2v\",\"wb\"))"
      ],
      "execution_count": 45,
      "outputs": []
    },
    {
      "cell_type": "markdown",
      "metadata": {
        "id": "fHLO1X-aGHI7"
      },
      "source": [
        "# 5.4 Text Vectorization using Tfidf Word2Vec"
      ]
    },
    {
      "cell_type": "code",
      "metadata": {
        "colab": {
          "base_uri": "https://localhost:8080/"
        },
        "id": "fGMAf-ojF0YB",
        "outputId": "59a87e43-4f2b-4433-b9f2-43e6ca3a2a45"
      },
      "source": [
        "%%time\n",
        "w2v_words = pickle.load(open(\"saved_feats/w2v_words\",\"rb\")).tolist()\n",
        "tfidf = TfidfVectorizer()\n",
        "tfidf.fit(X_train)\n",
        "dictionary = dict(zip(tfidf.get_feature_names(), list(tfidf.idf_)))\n",
        "tfidf_feats = tfidf.get_feature_names()\n",
        "\n",
        "#saving\n",
        "pickle.dump(np.array(tfidf_feats), open(\"saved_feats/X_train_tfw2v\",\"wb\"))"
      ],
      "execution_count": 46,
      "outputs": [
        {
          "output_type": "stream",
          "text": [
            "CPU times: user 3.41 s, sys: 844 ms, total: 4.26 s\n",
            "Wall time: 4.52 s\n"
          ],
          "name": "stdout"
        }
      ]
    },
    {
      "cell_type": "code",
      "metadata": {
        "id": "EhAphp0WYjsF",
        "outputId": "2c2076cc-9982-42f8-d16e-7de535c5754c",
        "colab": {
          "base_uri": "https://localhost:8080/"
        }
      },
      "source": [
        "%%time\n",
        "train_reviews = X_train.values\n",
        "train_sentence = [rev.split() for rev in train_reviews]\n",
        "sent_vectors_train = []\n",
        "for sent in tqdm(train_sentence):\n",
        "    sent_vec = np.zeros(50)\n",
        "    weight_sum = 0\n",
        "    for word in sent:\n",
        "        if word in tfidf_feats and word in w2v_words:\n",
        "            vec = w2v_model_train.wv[word]\n",
        "            # tf * idf\n",
        "            tfidf_value = (sent.count(word)/len(sent)) * dictionary[word] \n",
        "            vec = vec * tfidf_value\n",
        "            sent_vec += vec\n",
        "            weight_sum += tfidf_value\n",
        "    if weight_sum != 0:\n",
        "        sent_vec /= weight_sum\n",
        "    sent_vectors_train.append(sent_vec)\n",
        "print(len(sent_vectors_train))\n",
        "print(sent_vectors_train[0])\n",
        "\n",
        "X_train_tfw2v = sent_vectors_train\n",
        "pickle.dump(np.array(X_train_tfw2v), open(\"saved_feats/X_train_tfw2v\",\"wb\"))"
      ],
      "execution_count": 47,
      "outputs": [
        {
          "output_type": "stream",
          "text": [
            "100%|██████████| 139367/139367 [2:11:05<00:00, 17.72it/s]\n"
          ],
          "name": "stderr"
        },
        {
          "output_type": "stream",
          "text": [
            "139367\n",
            "[-1.34891455 -0.56303944 -0.51066301  0.89996312  1.34982633  0.97607324\n",
            "  0.80014245 -0.42963558 -2.33140338 -0.19019399 -0.24339184  0.20400641\n",
            "  2.62947221 -0.22290862  0.08819142 -0.77020423 -1.05744472 -2.43090935\n",
            "  1.10378831 -1.27240045 -0.15047679  0.45002849 -0.64127093  0.41491459\n",
            " -0.74816535  0.97802358  0.20367413  0.81096737 -1.21772527  0.38133403\n",
            "  1.40920999  0.36415477 -1.67204272  0.39856308 -1.57524387  0.41490848\n",
            "  0.78514736 -1.21568107 -0.83718457  0.2384681  -2.66853613 -0.27857429\n",
            "  0.11328408  0.32810586  0.35395891 -0.01794103  1.19764119  0.16321532\n",
            " -0.45884235 -1.52909058]\n",
            "CPU times: user 2h 9min 56s, sys: 46 s, total: 2h 10min 42s\n",
            "Wall time: 2h 11min 6s\n"
          ],
          "name": "stdout"
        }
      ]
    },
    {
      "cell_type": "code",
      "metadata": {
        "colab": {
          "base_uri": "https://localhost:8080/"
        },
        "id": "KdxtMRXYGjxt",
        "outputId": "90c06bb6-3b46-4aef-d8c5-b5ea3e0bb532"
      },
      "source": [
        "%%time \n",
        "test_reviews = X_test.values\n",
        "test_sentence = [rev.split() for rev in test_reviews]\n",
        "sent_vectors_test = []\n",
        "for sent in tqdm(test_sentence):\n",
        "    sent_vec = np.zeros(50)\n",
        "    weight_sum = 0\n",
        "    for word in sent:\n",
        "        if word in tfidf_feats and word in w2v_words:\n",
        "            vec = w2v_model_train.wv[word]\n",
        "            # tf * idf\n",
        "            tfidf_value = (sent.count(word)/len(sent)) * dictionary[word] \n",
        "            vec = vec * tfidf_value\n",
        "            sent_vec += vec\n",
        "            weight_sum += tfidf_value\n",
        "    if weight_sum != 0:\n",
        "        sent_vec /= weight_sum\n",
        "    sent_vectors_test.append(sent_vec)\n",
        "print(len(sent_vectors_test))\n",
        "print(sent_vectors_test[0])"
      ],
      "execution_count": 48,
      "outputs": [
        {
          "output_type": "stream",
          "text": [
            "100%|██████████| 59730/59730 [57:19<00:00, 17.36it/s]"
          ],
          "name": "stderr"
        },
        {
          "output_type": "stream",
          "text": [
            "59730\n",
            "[-1.66908795 -0.10035234 -0.8624258   0.34141208  0.60082334  0.03149977\n",
            "  0.4508842  -0.48011515 -1.64054142  0.76280134 -0.82370268  0.33382418\n",
            "  2.55343009  0.46339624 -0.45234053 -0.28847632 -0.7016781  -1.25202828\n",
            "  0.99974505 -0.94749079 -0.26771444 -0.0922268  -0.70822337 -0.10739045\n",
            " -1.60028595  0.13862792  0.55055688  0.44241494 -0.30939804  0.33780337\n",
            "  0.81380709  1.15474618 -1.74304816  0.69370537 -0.61066375  0.04567846\n",
            "  0.76167975 -0.55989057 -0.35103018  0.28884256 -1.29808819  0.38103336\n",
            "  0.14313635  0.61518709 -0.0475784  -0.78294526  1.4964455   0.03399268\n",
            " -0.15317341 -0.5781442 ]\n",
            "CPU times: user 56min 58s, sys: 17.7 s, total: 57min 16s\n",
            "Wall time: 57min 20s\n"
          ],
          "name": "stdout"
        },
        {
          "output_type": "stream",
          "text": [
            "\n"
          ],
          "name": "stderr"
        }
      ]
    },
    {
      "cell_type": "code",
      "metadata": {
        "id": "uPBvADSMGlsV"
      },
      "source": [
        "X_test_tfw2v = sent_vectors_test\n",
        "pickle.dump(np.array(X_test_tfw2v), open(\"saved_feats/X_test_tfw2v\",\"wb\"))"
      ],
      "execution_count": 49,
      "outputs": []
    },
    {
      "cell_type": "markdown",
      "metadata": {
        "id": "dsLbtf6fGy1q"
      },
      "source": [
        "#[6]. Loading saved vectors\n"
      ]
    },
    {
      "cell_type": "code",
      "metadata": {
        "colab": {
          "base_uri": "https://localhost:8080/"
        },
        "id": "U3PiGc2hGpZX",
        "outputId": "7bdbfcbd-58a2-4143-820d-fcb6628d75ac"
      },
      "source": [
        "X_train_bow = pickle.load(open(\"saved_feats/X_train_bow\",\"rb\"))\n",
        "X_test_bow = pickle.load(open(\"saved_feats/X_test_bow\",\"rb\"))\n",
        "bow_features = pickle.load(open(\"saved_feats/bow_features\",\"rb\")).tolist()\n",
        "print('shape of X_train_bow is {}'.format(X_train_bow.shape))\n",
        "print('shape of X_test_bow is {}'.format(X_test_bow.shape))\n",
        "\n",
        "\n",
        "#loading tfidf vectors\n",
        "X_train_tfidf = pickle.load(open(\"saved_feats/X_train_tfidf\",\"rb\"))\n",
        "X_test_tfidf = pickle.load(open(\"saved_feats/X_test_tfidf\",\"rb\"))\n",
        "tfidf_features = pickle.load(open(\"saved_feats/tfidf_features\",\"rb\")).tolist()\n",
        "print('shape of X_train_tfidf is {}'.format(X_train_tfidf.shape))\n",
        "print('shape of X_test_tfidf is {}'.format(X_test_tfidf.shape))\n",
        "\n",
        "\n",
        "w2v_words = pickle.load(open(\"saved_feats/w2v_words\",\"rb\")).tolist()\n",
        "#avgw2v\n",
        "X_train_avgw2v = pickle.load(open(\"saved_feats/X_train_avgw2v\",\"rb\"))\n",
        "X_test_avgw2v = pickle.load(open(\"saved_feats/X_test_avgw2v\",\"rb\"))\n",
        "print('shape of X_train_avgw2v is {}'.format(X_train_avgw2v.shape))\n",
        "print('shape of X_test_avgw2v is {}'.format(X_test_avgw2v.shape))\n",
        "\n",
        "\n",
        "#tfidf-w2v\n",
        "X_train_tfw2v = pickle.load(open(\"saved_feats/X_train_tfw2v\",\"rb\"))\n",
        "X_test_tfw2v = pickle.load(open(\"saved_feats/X_test_tfw2v\",\"rb\"))\n",
        "print('shape of X_train_tfw2v is {}'.format(X_train_tfw2v.shape))\n",
        "print('shape of X_test_tfw2v is {}'.format(X_test_tfw2v.shape))\n",
        "\n",
        "\n",
        "y_train = np.load('saved_feats/y_train.npy',allow_pickle=True)\n",
        "y_test = np.load('saved_feats/y_test.npy',allow_pickle=True)\n",
        "print(f'shape of y_train is {y_train.shape}')\n",
        "print(f'shape of y_test is {y_test.shape}')"
      ],
      "execution_count": 50,
      "outputs": [
        {
          "output_type": "stream",
          "text": [
            "shape of X_train_bow is (139367, 144497)\n",
            "shape of X_test_bow is (59730, 144497)\n",
            "shape of X_train_tfidf is (139367, 144497)\n",
            "shape of X_test_tfidf is (59730, 144497)\n",
            "shape of X_train_avgw2v is (139367, 50)\n",
            "shape of X_test_avgw2v is (59730, 50)\n",
            "shape of X_train_tfw2v is (139367, 50)\n",
            "shape of X_test_tfw2v is (59730, 50)\n",
            "shape of y_train is (139367,)\n",
            "shape of y_test is (59730,)\n"
          ],
          "name": "stdout"
        }
      ]
    }
  ]
}