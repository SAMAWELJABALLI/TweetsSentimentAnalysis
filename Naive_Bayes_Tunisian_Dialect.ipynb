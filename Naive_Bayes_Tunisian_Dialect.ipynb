{
  "nbformat": 4,
  "nbformat_minor": 0,
  "metadata": {
    "colab": {
      "name": "Naive_Bayes_Tunisian _Dialect.ipynb",
      "provenance": [],
      "collapsed_sections": [],
      "toc_visible": true,
      "mount_file_id": "https://github.com/SAMAWELJABALLI/TweetsSentimentAnalysis/blob/main/Naive_Bayes_Tunisian_Dialect.ipynb",
      "authorship_tag": "ABX9TyOzcjnai6jG0devRGLDzuZ8",
      "include_colab_link": true
    },
    "kernelspec": {
      "name": "python3",
      "display_name": "Python 3"
    },
    "language_info": {
      "name": "python"
    }
  },
  "cells": [
    {
      "cell_type": "markdown",
      "metadata": {
        "id": "view-in-github",
        "colab_type": "text"
      },
      "source": [
        "<a href=\"https://colab.research.google.com/github/SAMAWELJABALLI/TweetsSentimentAnalysis/blob/main/Naive_Bayes_Tunisian_Dialect.ipynb\" target=\"_parent\"><img src=\"https://colab.research.google.com/assets/colab-badge.svg\" alt=\"Open In Colab\"/></a>"
      ]
    },
    {
      "cell_type": "markdown",
      "metadata": {
        "id": "SiN7QEhwXpU1"
      },
      "source": [
        "## **THE NAIVE BAYES MODEL ON TUNISIAN DIALECT**"
      ]
    },
    {
      "cell_type": "code",
      "metadata": {
        "id": "XQ77qFlgesh9"
      },
      "source": [
        "%matplotlib inline\n",
        "import warnings\n",
        "warnings.filterwarnings(\"ignore\")\n",
        "\n",
        "\n",
        "import sqlite3\n",
        "import pandas as pd\n",
        "import numpy as np\n",
        "import nltk\n",
        "import string\n",
        "import matplotlib.pyplot as plt\n",
        "import seaborn as sns\n",
        "from sklearn.feature_extraction.text import TfidfTransformer\n",
        "from sklearn.feature_extraction.text import TfidfVectorizer\n",
        "\n",
        "from sklearn.feature_extraction.text import CountVectorizer\n",
        "from sklearn.metrics import confusion_matrix\n",
        "from sklearn import metrics\n",
        "from sklearn.metrics import roc_curve, auc\n",
        "from nltk.stem.porter import PorterStemmer\n",
        "from sklearn.metrics import roc_auc_score\n",
        "from bs4 import BeautifulSoup\n",
        "import re\n",
        "import string\n",
        "from nltk.corpus import stopwords\n",
        "from nltk.stem import PorterStemmer\n",
        "from nltk.stem.wordnet import WordNetLemmatizer\n",
        "from sklearn.manifold import TSNE\n",
        "from gensim.models import Word2Vec\n",
        "from gensim.models import KeyedVectors\n",
        "from sklearn.naive_bayes import MultinomialNB\n",
        "from sklearn.metrics import roc_auc_score\n",
        "import pickle\n",
        "import seaborn as sns\n",
        "from tqdm import tqdm\n",
        "import os\n",
        "\n"
      ],
      "execution_count": 1,
      "outputs": []
    },
    {
      "cell_type": "code",
      "metadata": {
        "colab": {
          "base_uri": "https://localhost:8080/",
          "height": 694
        },
        "id": "eu4khP8ufRP0",
        "outputId": "82b5716d-8c6b-4d99-d580-5ef091793efd"
      },
      "source": [
        "# Load data and set labels from corpus 1 \n",
        "df = pd.read_csv('/content/data_clean.csv', lineterminator='\\n')\n",
        "print(f'Shape of data is {df.shape}')\n",
        "# Display 20 random samples\n",
        "df.drop(columns=[\"text\", \"message_len\"],inplace=True)\n",
        "df.sample(20)\n"
      ],
      "execution_count": 4,
      "outputs": [
        {
          "output_type": "stream",
          "text": [
            "Shape of data is (152704, 6)\n"
          ],
          "name": "stdout"
        },
        {
          "output_type": "execute_result",
          "data": {
            "text/html": [
              "<div>\n",
              "<style scoped>\n",
              "    .dataframe tbody tr th:only-of-type {\n",
              "        vertical-align: middle;\n",
              "    }\n",
              "\n",
              "    .dataframe tbody tr th {\n",
              "        vertical-align: top;\n",
              "    }\n",
              "\n",
              "    .dataframe thead th {\n",
              "        text-align: right;\n",
              "    }\n",
              "</style>\n",
              "<table border=\"1\" class=\"dataframe\">\n",
              "  <thead>\n",
              "    <tr style=\"text-align: right;\">\n",
              "      <th></th>\n",
              "      <th>Unnamed: 0</th>\n",
              "      <th>ID</th>\n",
              "      <th>label</th>\n",
              "      <th>text_clean</th>\n",
              "    </tr>\n",
              "  </thead>\n",
              "  <tbody>\n",
              "    <tr>\n",
              "      <th>142236</th>\n",
              "      <td>147163</td>\n",
              "      <td>11046</td>\n",
              "      <td>1.0</td>\n",
              "      <td>chedi el hammami alexis bon attaquant un arrie...</td>\n",
              "    </tr>\n",
              "    <tr>\n",
              "      <th>69430</th>\n",
              "      <td>71023</td>\n",
              "      <td>21132</td>\n",
              "      <td>1.0</td>\n",
              "      <td>cooool goood</td>\n",
              "    </tr>\n",
              "    <tr>\n",
              "      <th>15522</th>\n",
              "      <td>15522</td>\n",
              "      <td>15522</td>\n",
              "      <td>1.0</td>\n",
              "      <td>ghawthou alina marik</td>\n",
              "    </tr>\n",
              "    <tr>\n",
              "      <th>23832</th>\n",
              "      <td>23832</td>\n",
              "      <td>23832</td>\n",
              "      <td>1.0</td>\n",
              "      <td>حضر التجول لازم مننو</td>\n",
              "    </tr>\n",
              "    <tr>\n",
              "      <th>125335</th>\n",
              "      <td>129889</td>\n",
              "      <td>20590</td>\n",
              "      <td>1.0</td>\n",
              "      <td>ربي يعينكم</td>\n",
              "    </tr>\n",
              "    <tr>\n",
              "      <th>83638</th>\n",
              "      <td>86384</td>\n",
              "      <td>36493</td>\n",
              "      <td>1.0</td>\n",
              "      <td>zahya</td>\n",
              "    </tr>\n",
              "    <tr>\n",
              "      <th>151073</th>\n",
              "      <td>156312</td>\n",
              "      <td>20195</td>\n",
              "      <td>1.0</td>\n",
              "      <td>normal kan nichriw délice lol</td>\n",
              "    </tr>\n",
              "    <tr>\n",
              "      <th>30244</th>\n",
              "      <td>30244</td>\n",
              "      <td>30244</td>\n",
              "      <td>1.0</td>\n",
              "      <td>اشبينا انغلوض تو نحنا عشنا باش اولادنا ترجع تق...</td>\n",
              "    </tr>\n",
              "    <tr>\n",
              "      <th>96928</th>\n",
              "      <td>100772</td>\n",
              "      <td>50881</td>\n",
              "      <td>1.0</td>\n",
              "      <td>السلام وعليكم السلام ورحمة الله</td>\n",
              "    </tr>\n",
              "    <tr>\n",
              "      <th>3720</th>\n",
              "      <td>3720</td>\n",
              "      <td>3720</td>\n",
              "      <td>1.0</td>\n",
              "      <td>bravo walid andek ekhak tkoum nakesna ken hal</td>\n",
              "    </tr>\n",
              "    <tr>\n",
              "      <th>108222</th>\n",
              "      <td>112776</td>\n",
              "      <td>3477</td>\n",
              "      <td>1.0</td>\n",
              "      <td>إنشاء الله</td>\n",
              "    </tr>\n",
              "    <tr>\n",
              "      <th>111586</th>\n",
              "      <td>116140</td>\n",
              "      <td>6841</td>\n",
              "      <td>1.0</td>\n",
              "      <td>علي كورونا وعلي كورونا شدو دياركم راكم نكتونا</td>\n",
              "    </tr>\n",
              "    <tr>\n",
              "      <th>49033</th>\n",
              "      <td>49033</td>\n",
              "      <td>49033</td>\n",
              "      <td>0.0</td>\n",
              "      <td>ما ادخلولنا حد يهديكم يزيوا</td>\n",
              "    </tr>\n",
              "    <tr>\n",
              "      <th>65907</th>\n",
              "      <td>67230</td>\n",
              "      <td>17339</td>\n",
              "      <td>0.0</td>\n",
              "      <td>لا علاقة بالبيع و الشراء</td>\n",
              "    </tr>\n",
              "    <tr>\n",
              "      <th>128611</th>\n",
              "      <td>133165</td>\n",
              "      <td>23866</td>\n",
              "      <td>0.0</td>\n",
              "      <td>سيدي الوزير علاش الإجراءات يتم التركيز الشمال ...</td>\n",
              "    </tr>\n",
              "    <tr>\n",
              "      <th>38520</th>\n",
              "      <td>38520</td>\n",
              "      <td>38520</td>\n",
              "      <td>0.0</td>\n",
              "      <td>مغرور و ما يعجبنيش تفدليكو و الدنيا ادواق</td>\n",
              "    </tr>\n",
              "    <tr>\n",
              "      <th>94332</th>\n",
              "      <td>97964</td>\n",
              "      <td>48073</td>\n",
              "      <td>1.0</td>\n",
              "      <td>bonjour je suis très satisfaite des services r...</td>\n",
              "    </tr>\n",
              "    <tr>\n",
              "      <th>130866</th>\n",
              "      <td>135420</td>\n",
              "      <td>26121</td>\n",
              "      <td>0.0</td>\n",
              "      <td>يسلم قرايت بنتي</td>\n",
              "    </tr>\n",
              "    <tr>\n",
              "      <th>62592</th>\n",
              "      <td>63595</td>\n",
              "      <td>13704</td>\n",
              "      <td>1.0</td>\n",
              "      <td>تطبيق في المستوى</td>\n",
              "    </tr>\n",
              "    <tr>\n",
              "      <th>36545</th>\n",
              "      <td>36545</td>\n",
              "      <td>36545</td>\n",
              "      <td>1.0</td>\n",
              "      <td>el bavette yelbessha lemridh wel les gain c es...</td>\n",
              "    </tr>\n",
              "  </tbody>\n",
              "</table>\n",
              "</div>"
            ],
            "text/plain": [
              "        Unnamed: 0  ...                                         text_clean\n",
              "142236      147163  ...  chedi el hammami alexis bon attaquant un arrie...\n",
              "69430        71023  ...                                       cooool goood\n",
              "15522        15522  ...                               ghawthou alina marik\n",
              "23832        23832  ...                               حضر التجول لازم مننو\n",
              "125335      129889  ...                                         ربي يعينكم\n",
              "83638        86384  ...                                              zahya\n",
              "151073      156312  ...                      normal kan nichriw délice lol\n",
              "30244        30244  ...  اشبينا انغلوض تو نحنا عشنا باش اولادنا ترجع تق...\n",
              "96928       100772  ...                    السلام وعليكم السلام ورحمة الله\n",
              "3720          3720  ...      bravo walid andek ekhak tkoum nakesna ken hal\n",
              "108222      112776  ...                                         إنشاء الله\n",
              "111586      116140  ...      علي كورونا وعلي كورونا شدو دياركم راكم نكتونا\n",
              "49033        49033  ...                        ما ادخلولنا حد يهديكم يزيوا\n",
              "65907        67230  ...                           لا علاقة بالبيع و الشراء\n",
              "128611      133165  ...  سيدي الوزير علاش الإجراءات يتم التركيز الشمال ...\n",
              "38520        38520  ...          مغرور و ما يعجبنيش تفدليكو و الدنيا ادواق\n",
              "94332        97964  ...  bonjour je suis très satisfaite des services r...\n",
              "130866      135420  ...                                    يسلم قرايت بنتي\n",
              "62592        63595  ...                                   تطبيق في المستوى\n",
              "36545        36545  ...  el bavette yelbessha lemridh wel les gain c es...\n",
              "\n",
              "[20 rows x 4 columns]"
            ]
          },
          "metadata": {
            "tags": []
          },
          "execution_count": 4
        }
      ]
    },
    {
      "cell_type": "markdown",
      "metadata": {
        "id": "AQOHlapfhXmM"
      },
      "source": [
        "# Loading saved vectors \n"
      ]
    },
    {
      "cell_type": "code",
      "metadata": {
        "colab": {
          "base_uri": "https://localhost:8080/"
        },
        "id": "r6pWRR3OfaVx",
        "outputId": "73107f2e-da0e-4b6e-d068-88ad0219a440"
      },
      "source": [
        "# loading bow vectors\n",
        "X_train_bow = pickle.load(open(\"/content/drive/MyDrive/saved_feats/X_train_bow\",\"rb\"))\n",
        "X_test_bow = pickle.load(open(\"/content/drive/MyDrive/saved_feats/X_test_bow\",\"rb\"))\n",
        "bow_features = pickle.load(open(\"/content/drive/MyDrive/saved_feats/bow_features\",\"rb\")).tolist()\n",
        "print('shape of X_train_bow is {}'.format(X_train_bow.shape))\n",
        "print('shape of X_test_bow is {}'.format(X_test_bow.shape))\n",
        "\n",
        "\n",
        "#loading tfidf vectors\n",
        "X_train_tfidf = pickle.load(open(\"/content/drive/MyDrive/saved_feats/X_train_tfidf\",\"rb\"))\n",
        "X_test_tfidf = pickle.load(open(\"/content/drive/MyDrive/saved_feats/X_test_tfidf\",\"rb\"))\n",
        "tfidf_features = pickle.load(open(\"/content/drive/MyDrive/saved_feats/tfidf_features\",\"rb\")).tolist()\n",
        "print('shape of X_train_tfidf is {}'.format(X_train_tfidf.shape))\n",
        "print('shape of X_test_tfidf is {}'.format(X_test_tfidf.shape))\n",
        "\n",
        "\n",
        "w2v_words = pickle.load(open(\"/content/drive/MyDrive/saved_feats/w2v_words\",\"rb\")).tolist()\n",
        "#avgw2v\n",
        "X_train_avgw2v = pickle.load(open(\"/content/drive/MyDrive/saved_feats/X_train_avgw2v\",\"rb\"))\n",
        "X_test_avgw2v = pickle.load(open(\"/content/drive/MyDrive/saved_feats/X_test_avgw2v\",\"rb\"))\n",
        "print('shape of X_train_avgw2v is {}'.format(X_train_avgw2v.shape))\n",
        "print('shape of X_test_avgw2v is {}'.format(X_test_avgw2v.shape))\n",
        "\n",
        "'''#tfidf-w2v\n",
        "X_train_tfw2v = pickle.load(open(\"/content/drive/MyDrive/saved_feats/X_train_tfw2v\",\"rb\"))\n",
        "X_test_tfw2v = pickle.load(open(\"/content/drive/MyDrive/saved_feats/X_test_tfw2v\",\"rb\"))\n",
        "print('shape of X_train_tfw2v is {}'.format(X_train_tfw2v.shape))\n",
        "print('shape of X_test_tfw2v is {}'.format(X_test_tfw2v.shape))\n",
        "\n",
        "'''\n",
        "y_train = np.load('/content/drive/MyDrive/saved_feats/y_train.npy',allow_pickle=True)\n",
        "y_test = np.load('/content/drive/MyDrive/saved_feats/y_test.npy',allow_pickle=True)\n",
        "print(f'shape of y_train is {y_train.shape}')\n",
        "print(f'shape of y_test is {y_test.shape}')"
      ],
      "execution_count": 7,
      "outputs": [
        {
          "output_type": "stream",
          "text": [
            "shape of X_train_bow is (139367, 144497)\n",
            "shape of X_test_bow is (59730, 144497)\n",
            "shape of X_train_tfidf is (139367, 144497)\n",
            "shape of X_test_tfidf is (59730, 144497)\n",
            "shape of X_train_avgw2v is (139367, 50)\n",
            "shape of X_test_avgw2v is (59730, 50)\n",
            "shape of y_train is (139367,)\n",
            "shape of y_test is (59730,)\n"
          ],
          "name": "stdout"
        }
      ]
    },
    {
      "cell_type": "markdown",
      "metadata": {
        "id": "cSHnbSJynsKr"
      },
      "source": [
        "# helper function to plot confusion matrix\n"
      ]
    },
    {
      "cell_type": "code",
      "metadata": {
        "id": "IRn52q4inqRF"
      },
      "source": [
        "# helper function to plot confusion matrix\n",
        "def plot_confusion_matrixes(model,x_train,y_train,x_test,y_test):\n",
        "    cm_train = confusion_matrix(y_train,model.predict(x_train))\n",
        "    cm_test =  confusion_matrix(y_test,model.predict(x_test))\n",
        "    class_label = [\"negative\", \"positive\"]\n",
        "    df_train = pd.DataFrame(cm_train, index = class_label, columns = class_label)\n",
        "    df_test = pd.DataFrame(cm_test, index = class_label, columns = class_label)\n",
        "    f, axes = plt.subplots(1, 2,figsize=(12,4))\n",
        "\n",
        "    for i in range(2):\n",
        "      df = df_train if i==0 else df_test\n",
        "      sns.heatmap(df, annot = True, fmt = \"d\",ax=axes[i])\n",
        "      axes[i].set_title(f\"Confusion Matrix - {'Train' if i==0 else 'Test'}\")\n",
        "      axes[i].set_xlabel(\"Predicted Label\")\n",
        "      axes[i].set_ylabel(\"True Label\")\n",
        "    plt.show()"
      ],
      "execution_count": 8,
      "outputs": []
    },
    {
      "cell_type": "markdown",
      "metadata": {
        "id": "ft_M44U8oSYr"
      },
      "source": [
        "# **Naive Bayes**\n",
        "\n",
        "# **Naive Bayes On BagOfWords Features**\n"
      ]
    },
    {
      "cell_type": "code",
      "metadata": {
        "id": "hXMNuGC2oR28",
        "colab": {
          "base_uri": "https://localhost:8080/",
          "height": 295
        },
        "outputId": "6953e520-bd9f-4bd0-cff7-52b75a6212cb"
      },
      "source": [
        "train_auc = []\n",
        "cv_auc = []\n",
        "alpha = [0.0001,0.001,0.01,0.1,1,10,100,1000,10000]\n",
        "for param in alpha:\n",
        "    naive = MultinomialNB(alpha=param)\n",
        "    naive.fit(X_train_bow,y_train)\n",
        "    # roc_auc_score(y_true, y_score) the 2nd parameter should be probability estimates of the positive class\n",
        "    y_train_pred =  naive.predict_proba(X_train_bow)[:,1]\n",
        "    y_test_pred =  naive.predict_proba(X_test_bow)[:,1]\n",
        "    train_auc.append(roc_auc_score(y_train,y_train_pred))\n",
        "    cv_auc.append(roc_auc_score(y_test, y_test_pred))\n",
        "#plotting\n",
        "plt.grid(True)\n",
        "plt.plot(np.log(alpha), train_auc, label='Train AUC')\n",
        "plt.plot(np.log(alpha), cv_auc, label='CV AUC')\n",
        "plt.scatter(np.log(alpha), train_auc)\n",
        "plt.scatter(np.log(alpha), cv_auc)\n",
        "plt.legend()\n",
        "plt.xlabel(\"alpha: hyperparameter\")\n",
        "plt.ylabel(\"AUC\")\n",
        "plt.title(\"ERROR PLOTS\")\n",
        "plt.show()"
      ],
      "execution_count": 10,
      "outputs": [
        {
          "output_type": "display_data",
          "data": {
            "image/png": "[encoded data removed]",
            "text/plain": [
              "<Figure size 432x288 with 1 Axes>"
            ]
          },
          "metadata": {
            "tags": [],
            "needs_background": "light"
          }
        }
      ]
    },
    {
      "cell_type": "code",
      "metadata": {
        "id": "-GJ_ttKHovFT",
        "colab": {
          "base_uri": "https://localhost:8080/",
          "height": 1000
        },
        "outputId": "3cdaad46-9d1a-4ea8-fa39-7685a4b0f46c"
      },
      "source": [
        "from sklearn.metrics import roc_curve, auc, classification_report, accuracy_score\n",
        "optimal_alpha = 0.1\n",
        "naive_opt = MultinomialNB(alpha=optimal_alpha)\n",
        "naive_opt = naive_opt.fit(X_train_bow,y_train)\n",
        "train_fpr, train_tpr, thresholds = roc_curve(y_train, naive_opt.predict_proba(X_train_bow)[:,1])\n",
        "test_fpr, test_tpr, thresholds = roc_curve(y_test, naive_opt.predict_proba(X_test_bow)[:,1])\n",
        "\n",
        "plt.grid(True)\n",
        "plt.plot(train_fpr, train_tpr, label=\"train AUC =\"+str(auc(train_fpr, train_tpr)))\n",
        "plt.plot(test_fpr, test_tpr, label=\"test AUC =\"+str(auc(test_fpr, test_tpr)))\n",
        "plt.legend()\n",
        "plt.xlabel(\"fpr\")\n",
        "plt.ylabel(\"tpr\")\n",
        "plt.title(\"ROC CURVE FOR OPTIMAL K\")\n",
        "plt.show()\n",
        "\n",
        "#Area under ROC curve\n",
        "print('Area under train roc {}'.format(auc(train_fpr, train_tpr)))\n",
        "print('Area under test roc {}'.format(auc(test_fpr, test_tpr))) \n",
        "plot_confusion_matrixes(naive_opt,X_train_bow,y_train,X_test_bow,y_test)\n",
        "\n",
        "#classification report on train data\n",
        "print('\\n-----classification report on train data on BagOfwords Features-----\\n')\n",
        "print(classification_report(y_train, naive_opt.predict(X_train_bow)))\n",
        "\n",
        "#classification report on validation data\n",
        "print('\\n-----classification report on validation data on BagOfwords Features-----\\n')\n",
        "print(classification_report(y_test, naive_opt.predict(X_test_bow)))\n"
      ],
      "execution_count": 34,
      "outputs": [
        {
          "output_type": "display_data",
          "data": {
            "image/png": "[encoded data removed]",
            "text/plain": [
              "<Figure size 432x288 with 1 Axes>"
            ]
          },
          "metadata": {
            "tags": [],
            "needs_background": "light"
          }
        },
        {
          "output_type": "stream",
          "text": [
            "Area under train roc 0.9774466824302217\n",
            "Area under test roc 0.9104516992132788\n"
          ],
          "name": "stdout"
        },
        {
          "output_type": "display_data",
          "data": {
            "image/png": "[encoded data removed]",
            "text/plain": [
              "<Figure size 864x288 with 4 Axes>"
            ]
          },
          "metadata": {
            "tags": [],
            "needs_background": "light"
          }
        },
        {
          "output_type": "stream",
          "text": [
            "\n",
            "-----classification report on train data on BagOfwords Features-----\n",
            "\n",
            "              precision    recall  f1-score   support\n",
            "\n",
            "           0       0.91      0.88      0.90     43593\n",
            "           1       0.95      0.96      0.95     95774\n",
            "\n",
            "    accuracy                           0.94    139367\n",
            "   macro avg       0.93      0.92      0.92    139367\n",
            "weighted avg       0.93      0.94      0.93    139367\n",
            "\n",
            "\n",
            "-----classification report on validation data on BagOfwords Features-----\n",
            "\n",
            "              precision    recall  f1-score   support\n",
            "\n",
            "           0       0.77      0.75      0.76     18683\n",
            "           1       0.89      0.90      0.89     41047\n",
            "\n",
            "    accuracy                           0.85     59730\n",
            "   macro avg       0.83      0.82      0.83     59730\n",
            "weighted avg       0.85      0.85      0.85     59730\n",
            "\n"
          ],
          "name": "stdout"
        }
      ]
    },
    {
      "cell_type": "markdown",
      "metadata": {
        "id": "nbiRuzxmo1I5"
      },
      "source": [
        "# **Feature importance**\n"
      ]
    },
    {
      "cell_type": "code",
      "metadata": {
        "id": "yBB0YP9Oo2rB",
        "colab": {
          "base_uri": "https://localhost:8080/"
        },
        "outputId": "f004f087-76c9-46a6-9278-4a843f2386aa"
      },
      "source": [
        "data_l = naive_opt.coef_.reshape(-1,1)\n",
        "features = bow_features\n",
        "datafr_l = pd.DataFrame(data_l,columns=['coef'],index=features)\n",
        "#Top 10 negative features\n",
        "negative = datafr_l.sort_values(by='coef').head(10)\n",
        "#Top 10 positive features\n",
        "positive = datafr_l.sort_values(by='coef',ascending=False).head(10)\n",
        "print('Top 10 negative features are: \\n {}'.format(negative))\n",
        "print('--'*50)\n",
        "print('Top 10 positive features are: \\n {}'.format(positive))"
      ],
      "execution_count": 24,
      "outputs": [
        {
          "output_type": "stream",
          "text": [
            "Top 10 negative features are: \n",
            "                  coef\n",
            "koleha     -15.632302\n",
            "الوبا      -15.632302\n",
            "masét      -15.632302\n",
            "الوايتينج  -15.632302\n",
            "mata       -15.632302\n",
            "mataaarfch -15.632302\n",
            "mataadich  -15.632302\n",
            "mataamelch -15.632302\n",
            "الواي      -15.632302\n",
            "mataaresh  -15.632302\n",
            "----------------------------------------------------------------------------------------------------\n",
            "Top 10 positive features are: \n",
            "            coef\n",
            "ربي   -4.566742\n",
            "rabi  -4.803346\n",
            "الله  -4.858966\n",
            "ya    -4.866959\n",
            "et    -4.883998\n",
            "de    -4.909013\n",
            "في    -4.990670\n",
            "bravo -5.076724\n",
            "من    -5.255659\n",
            "je    -5.309085\n"
          ],
          "name": "stdout"
        }
      ]
    },
    {
      "cell_type": "markdown",
      "metadata": {
        "id": "GmQ3EOZ7o9bJ"
      },
      "source": [
        "# **Naive Bayes On TFIDF Features**\n"
      ]
    },
    {
      "cell_type": "code",
      "metadata": {
        "id": "JUUAA_z5o_yM",
        "colab": {
          "base_uri": "https://localhost:8080/",
          "height": 295
        },
        "outputId": "f7b94fe8-fa01-4719-b529-89c6a30ab01a"
      },
      "source": [
        "train_auc = []\n",
        "cv_auc = []\n",
        "alpha = [0.0001,0.001,0.01,0.1,1,10,100,1000,10000]\n",
        "for param in alpha:\n",
        "    naive = MultinomialNB(alpha=param)\n",
        "    naive.fit(X_train_bow,y_train)\n",
        "    # roc_auc_score(y_true, y_score) the 2nd parameter should be probability estimates of the positive class\n",
        "    y_train_pred =  naive.predict_proba(X_train_tfidf)[:,1]\n",
        "    y_test_pred =  naive.predict_proba(X_test_tfidf)[:,1]\n",
        "    train_auc.append(roc_auc_score(y_train,y_train_pred))\n",
        "    cv_auc.append(roc_auc_score(y_test, y_test_pred))\n",
        "#plotting\n",
        "plt.grid(True)\n",
        "plt.plot(np.log(alpha), train_auc, label='Train AUC')\n",
        "plt.plot(np.log(alpha), cv_auc, label='CV AUC')\n",
        "plt.scatter(np.log(alpha), train_auc)\n",
        "plt.scatter(np.log(alpha), cv_auc)\n",
        "plt.legend()\n",
        "plt.xlabel(\"alpha: hyperparameter\")\n",
        "plt.ylabel(\"AUC\")\n",
        "plt.title(\"ERROR PLOTS\")\n",
        "plt.show()"
      ],
      "execution_count": 25,
      "outputs": [
        {
          "output_type": "display_data",
          "data": {
            "image/png": "[encoded data removed]",
            "text/plain": [
              "<Figure size 432x288 with 1 Axes>"
            ]
          },
          "metadata": {
            "tags": [],
            "needs_background": "light"
          }
        }
      ]
    },
    {
      "cell_type": "code",
      "metadata": {
        "id": "LgNL5GcVpHL3",
        "colab": {
          "base_uri": "https://localhost:8080/",
          "height": 1000
        },
        "outputId": "b3e31695-aa61-4b35-b84e-d6a0f982cc39"
      },
      "source": [
        "from sklearn.metrics import roc_curve, auc, classification_report, accuracy_score\n",
        "optimal_alpha = 0.1\n",
        "naive_opt = MultinomialNB(alpha=optimal_alpha)\n",
        "naive_opt = naive_opt.fit(X_train_tfidf,y_train)\n",
        "train_fpr, train_tpr, thresholds = roc_curve(y_train, naive_opt.predict_proba(X_train_tfidf)[:,1])\n",
        "test_fpr, test_tpr, thresholds = roc_curve(y_test, naive_opt.predict_proba(X_test_tfidf)[:,1])\n",
        "\n",
        "plt.grid(True)\n",
        "plt.plot(train_fpr, train_tpr, label=\"train AUC =\"+str(auc(train_fpr, train_tpr)))\n",
        "plt.plot(test_fpr, test_tpr, label=\"test AUC =\"+str(auc(test_fpr, test_tpr)))\n",
        "plt.legend()\n",
        "plt.xlabel(\"fpr\")\n",
        "plt.ylabel(\"tpr\")\n",
        "plt.title(\"ROC CURVE FOR OPTIMAL K\")\n",
        "plt.show()\n",
        "\n",
        "#Area under ROC curve\n",
        "print('Area under train roc {}'.format(auc(train_fpr, train_tpr)))\n",
        "print('Area under test roc {}'.format(auc(test_fpr, test_tpr)))\n",
        "\n",
        "plot_confusion_matrixes(naive_opt,X_train_tfidf,y_train,X_test_tfidf,y_test)\n",
        "\n",
        "#classification report on train data\n",
        "print('\\n-----classification report on train data on TFIDF Features-----\\n')\n",
        "print(classification_report(y_train, naive_opt.predict(X_train_tfidf)))\n",
        "\n",
        "#classification report on validation data\n",
        "print('\\n-----classification report on validation data on TFIDF Features-----\\n')\n",
        "print(classification_report(y_test, naive_opt.predict(X_test_tfidf)))\n"
      ],
      "execution_count": 35,
      "outputs": [
        {
          "output_type": "display_data",
          "data": {
            "image/png": "[encoded data removed]",
            "text/plain": [
              "<Figure size 432x288 with 1 Axes>"
            ]
          },
          "metadata": {
            "tags": [],
            "needs_background": "light"
          }
        },
        {
          "output_type": "stream",
          "text": [
            "Area under train roc 0.9827170273520545\n",
            "Area under test roc 0.9226525781863021\n"
          ],
          "name": "stdout"
        },
        {
          "output_type": "display_data",
          "data": {
            "image/png": "[encoded data removed]",
            "text/plain": [
              "<Figure size 864x288 with 4 Axes>"
            ]
          },
          "metadata": {
            "tags": [],
            "needs_background": "light"
          }
        },
        {
          "output_type": "stream",
          "text": [
            "\n",
            "-----classification report on train data on TFIDF Features-----\n",
            "\n",
            "              precision    recall  f1-score   support\n",
            "\n",
            "           0       0.94      0.88      0.91     43593\n",
            "           1       0.95      0.97      0.96     95774\n",
            "\n",
            "    accuracy                           0.94    139367\n",
            "   macro avg       0.94      0.93      0.93    139367\n",
            "weighted avg       0.94      0.94      0.94    139367\n",
            "\n",
            "\n",
            "-----classification report on validation data on TFIDF Features-----\n",
            "\n",
            "              precision    recall  f1-score   support\n",
            "\n",
            "           0       0.81      0.70      0.75     18683\n",
            "           1       0.87      0.93      0.90     41047\n",
            "\n",
            "    accuracy                           0.86     59730\n",
            "   macro avg       0.84      0.81      0.83     59730\n",
            "weighted avg       0.85      0.86      0.85     59730\n",
            "\n"
          ],
          "name": "stdout"
        }
      ]
    },
    {
      "cell_type": "markdown",
      "metadata": {
        "id": "S4YOm7aWpNuw"
      },
      "source": [
        "# **Feature importance**\n"
      ]
    },
    {
      "cell_type": "code",
      "metadata": {
        "id": "AU04txo2pNNU",
        "colab": {
          "base_uri": "https://localhost:8080/"
        },
        "outputId": "bb04631a-28ba-4b29-ec86-eebc5d6d1a07"
      },
      "source": [
        "data_l = naive_opt.coef_.reshape(-1,1)\n",
        "features = tfidf_features\n",
        "datafr_l = pd.DataFrame(data_l,columns=['coef'],index=features)\n",
        "#Top 10 negative features\n",
        "negative = datafr_l.sort_values(by='coef').head(10)\n",
        "#Top 10 positive features\n",
        "positive = datafr_l.sort_values(by='coef',ascending=False).head(10)\n",
        "print('Top 10 negative features are: \\n {}'.format(negative))\n",
        "print('--'*50)\n",
        "print('Top 10 positive features are: \\n {}'.format(positive))"
      ],
      "execution_count": 36,
      "outputs": [
        {
          "output_type": "stream",
          "text": [
            "Top 10 negative features are: \n",
            "                   coef\n",
            "قاطع_أوريدو -14.582535\n",
            "lestebdedd  -14.582535\n",
            "لتوة        -14.582535\n",
            "lesvde      -14.582535\n",
            "thimna      -14.582535\n",
            "leswisra    -14.582535\n",
            "lesyadek    -14.582535\n",
            "lesyadha    -14.582535\n",
            "lesyedhom   -14.582535\n",
            "lesyesa     -14.582535\n",
            "----------------------------------------------------------------------------------------------------\n",
            "Top 10 positive features are: \n",
            "                  coef\n",
            "ربي         -4.799088\n",
            "rabi        -4.904950\n",
            "bravo       -4.919595\n",
            "ya          -5.178744\n",
            "الله        -5.279204\n",
            "et          -5.543052\n",
            "nan         -5.593614\n",
            "très        -5.621999\n",
            "application -5.628708\n",
            "slim        -5.646318\n"
          ],
          "name": "stdout"
        }
      ]
    },
    {
      "cell_type": "markdown",
      "metadata": {
        "id": "3YC7NORspfYj"
      },
      "source": [
        "# **Observations and Conclusions**\n",
        "\n",
        "* We tried out multinomial naive bayes here with bow and tfidf features we tried earlier.\n",
        "* Even after hyperparamter tuning both models are slightly overfitting.\n",
        "* Tfidf features model performed slightly better.\n",
        "* We also able to find out most important features contributing to each model\n",
        "* Naive bayes can be considered as a baseline model for our problem\n",
        "\n"
      ]
    },
    {
      "cell_type": "code",
      "metadata": {
        "id": "QR6sddhQpox-",
        "colab": {
          "base_uri": "https://localhost:8080/"
        },
        "outputId": "7199a157-0acc-49d9-c170-05fc0dfe831b"
      },
      "source": [
        "from prettytable import PrettyTable\n",
        "    \n",
        "z = PrettyTable()\n",
        "z.field_names = [\"Vector\",\"Algorithm\",\"Hyperparameter-alpha\", \"Train AUC\", \"Test AUC\",\"Train accuracy\", \"Test accuracy\"]\n",
        "z.add_row([\"bow\",\"naive-bayes\",0.1,0.9774466824302217, 0.9104516992132788,0.94,0.85])\n",
        "z.add_row([\"tfidf\",\"naive-bayes\",0.1,0.9827170273520545,0.9226525781863021,0.94,0.86])\n",
        "print(z)"
      ],
      "execution_count": 40,
      "outputs": [
        {
          "output_type": "stream",
          "text": [
            "+--------+-------------+----------------------+--------------------+--------------------+----------------+---------------+\n",
            "| Vector |  Algorithm  | Hyperparameter-alpha |     Train AUC      |      Test AUC      | Train accuracy | Test accuracy |\n",
            "+--------+-------------+----------------------+--------------------+--------------------+----------------+---------------+\n",
            "|  bow   | naive-bayes |         0.1          | 0.9774466824302217 | 0.9104516992132788 |      0.94      |      0.85     |\n",
            "| tfidf  | naive-bayes |         0.1          | 0.9827170273520545 | 0.9226525781863021 |      0.94      |      0.86     |\n",
            "+--------+-------------+----------------------+--------------------+--------------------+----------------+---------------+\n"
          ],
          "name": "stdout"
        }
      ]
    },
    {
      "cell_type": "code",
      "metadata": {
        "id": "lOB8K7aCXk7U"
      },
      "source": [
        ""
      ],
      "execution_count": 40,
      "outputs": []
    }
  ]
}