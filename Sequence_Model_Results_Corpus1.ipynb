{
  "nbformat": 4,
  "nbformat_minor": 0,
  "metadata": {
    "colab": {
      "name": "template_validation_model.ipynb",
      "provenance": [],
      "collapsed_sections": [],
      "authorship_tag": "ABX9TyP0V+UGItFaK1hPtKuHsxWt",
      "include_colab_link": true
    },
    "kernelspec": {
      "name": "python3",
      "display_name": "Python 3"
    },
    "language_info": {
      "name": "python"
    }
  },
  "cells": [
    {
      "cell_type": "markdown",
      "metadata": {
        "id": "view-in-github",
        "colab_type": "text"
      },
      "source": [
        "<a href=\"https://colab.research.google.com/github/SAMAWELJABALLI/TweetsSentimentAnalysis/blob/main/Sequence_Model_Results_Corpus1.ipynb\" target=\"_parent\"><img src=\"https://colab.research.google.com/assets/colab-badge.svg\" alt=\"Open In Colab\"/></a>"
      ]
    },
    {
      "cell_type": "code",
      "metadata": {
        "colab": {
          "base_uri": "https://localhost:8080/",
          "height": 666
        },
        "id": "JZ42DvI51km1",
        "outputId": "c748daec-1df7-4e56-a9a6-f8d9c3d511d4"
      },
      "source": [
        "# This Python 3 environment comes with many helpful analytics libraries installed\n",
        "# It is defined by the kaggle/python docker image: https://github.com/kaggle/docker-python\n",
        "# For example, here's several helpful packages to load in \n",
        "\n",
        "import numpy as np # linear algebra\n",
        "import pandas as pd # data processing, CSV file I/O (e.g. pd.read_csv)\n",
        "from sklearn.utils import resample\n",
        "    \n",
        "from sklearn.feature_extraction.text import CountVectorizer\n",
        "from keras.preprocessing.text import Tokenizer\n",
        "from keras.preprocessing.sequence import pad_sequences\n",
        "from keras.models import Sequential\n",
        "from keras.layers import Dense, Embedding, LSTM, SpatialDropout1D\n",
        "from sklearn.model_selection import train_test_split\n",
        "from keras.utils.np_utils import to_categorical\n",
        "import re\n",
        "from keras.callbacks import ModelCheckpoint\n",
        "import tensorflow as tf\n",
        "from keras.models import load_model\n",
        "\n",
        "from keras.preprocessing.text import Tokenizer\n",
        "from keras.preprocessing.sequence import pad_sequences\n",
        "from keras.layers import Dense , Input , LSTM , Embedding, Dropout , Activation, GRU, Flatten\n",
        "from keras.layers import Bidirectional, GlobalMaxPool1D\n",
        "from keras.models import Model, Sequential\n",
        "from keras.layers import Convolution1D\n",
        "from keras import initializers, regularizers, constraints, optimizers, layers\n",
        "# Input data files are available in the \"../input/\" directory.\n",
        "# For example, running this (by clicking run or pressing Shift+Enter) will list the files in the input directory\n",
        "# Load data and set labels from corpus 1 \n",
        "data = pd.read_csv('/content/cleaned_data.csv')\n",
        "print(f'Shape of data is {data.shape}')\n",
        "# Display 20 random samples\n",
        "data.sample(20)"
      ],
      "execution_count": null,
      "outputs": [
        {
          "output_type": "stream",
          "text": [
            "Shape of data is (199097, 3)\n"
          ],
          "name": "stdout"
        },
        {
          "output_type": "execute_result",
          "data": {
            "text/html": [
              "<div>\n",
              "<style scoped>\n",
              "    .dataframe tbody tr th:only-of-type {\n",
              "        vertical-align: middle;\n",
              "    }\n",
              "\n",
              "    .dataframe tbody tr th {\n",
              "        vertical-align: top;\n",
              "    }\n",
              "\n",
              "    .dataframe thead th {\n",
              "        text-align: right;\n",
              "    }\n",
              "</style>\n",
              "<table border=\"1\" class=\"dataframe\">\n",
              "  <thead>\n",
              "    <tr style=\"text-align: right;\">\n",
              "      <th></th>\n",
              "      <th>ID</th>\n",
              "      <th>label</th>\n",
              "      <th>text_clean</th>\n",
              "    </tr>\n",
              "  </thead>\n",
              "  <tbody>\n",
              "    <tr>\n",
              "      <th>7363</th>\n",
              "      <td>7363</td>\n",
              "      <td>1</td>\n",
              "      <td>['No content']</td>\n",
              "    </tr>\n",
              "    <tr>\n",
              "      <th>72943</th>\n",
              "      <td>24911</td>\n",
              "      <td>1</td>\n",
              "      <td>['تطبيق متميز احسن الموقع']</td>\n",
              "    </tr>\n",
              "    <tr>\n",
              "      <th>4408</th>\n",
              "      <td>4408</td>\n",
              "      <td>1</td>\n",
              "      <td>['معلم عجبني تصرفو كيف قام عطا كلمتين خرج']</td>\n",
              "    </tr>\n",
              "    <tr>\n",
              "      <th>6723</th>\n",
              "      <td>6723</td>\n",
              "      <td>1</td>\n",
              "      <td>['beravo aymona rabi wlh tebrkala rabi']</td>\n",
              "    </tr>\n",
              "    <tr>\n",
              "      <th>160579</th>\n",
              "      <td>30055</td>\n",
              "      <td>0</td>\n",
              "      <td>['riehi degage montasar lazem']</td>\n",
              "    </tr>\n",
              "    <tr>\n",
              "      <th>171306</th>\n",
              "      <td>41160</td>\n",
              "      <td>0</td>\n",
              "      <td>['si slim mais groupèt lclub houmà akther bèch...</td>\n",
              "    </tr>\n",
              "    <tr>\n",
              "      <th>149792</th>\n",
              "      <td>18878</td>\n",
              "      <td>0</td>\n",
              "      <td>['dr moncef mahouwech cpr enti']</td>\n",
              "    </tr>\n",
              "    <tr>\n",
              "      <th>170736</th>\n",
              "      <td>40569</td>\n",
              "      <td>1</td>\n",
              "      <td>['rabi ester']</td>\n",
              "    </tr>\n",
              "    <tr>\n",
              "      <th>8023</th>\n",
              "      <td>8023</td>\n",
              "      <td>1</td>\n",
              "      <td>['واصل عاءشة احترام المشاهدين']</td>\n",
              "    </tr>\n",
              "    <tr>\n",
              "      <th>84168</th>\n",
              "      <td>37078</td>\n",
              "      <td>1</td>\n",
              "      <td>['mais ne sais pas pourquoi nai plus le mode p...</td>\n",
              "    </tr>\n",
              "    <tr>\n",
              "      <th>84894</th>\n",
              "      <td>37860</td>\n",
              "      <td>1</td>\n",
              "      <td>['شكرا لحسن المعاملة خدمة العملاء جوميا']</td>\n",
              "    </tr>\n",
              "    <tr>\n",
              "      <th>135539</th>\n",
              "      <td>4114</td>\n",
              "      <td>0</td>\n",
              "      <td>['sobahalah mayorgdouch lol']</td>\n",
              "    </tr>\n",
              "    <tr>\n",
              "      <th>127531</th>\n",
              "      <td>22786</td>\n",
              "      <td>1</td>\n",
              "      <td>['alahoma asrif']</td>\n",
              "    </tr>\n",
              "    <tr>\n",
              "      <th>188525</th>\n",
              "      <td>59005</td>\n",
              "      <td>1</td>\n",
              "      <td>['hamra bidha jusqu la fin monde bel']</td>\n",
              "    </tr>\n",
              "    <tr>\n",
              "      <th>163723</th>\n",
              "      <td>33303</td>\n",
              "      <td>1</td>\n",
              "      <td>['ana slouma boutoula tabda omourna mahich l s...</td>\n",
              "    </tr>\n",
              "    <tr>\n",
              "      <th>17948</th>\n",
              "      <td>17948</td>\n",
              "      <td>1</td>\n",
              "      <td>['couvre feu']</td>\n",
              "    </tr>\n",
              "    <tr>\n",
              "      <th>127263</th>\n",
              "      <td>22518</td>\n",
              "      <td>1</td>\n",
              "      <td>['اله يرحمه']</td>\n",
              "    </tr>\n",
              "    <tr>\n",
              "      <th>15302</th>\n",
              "      <td>15302</td>\n",
              "      <td>1</td>\n",
              "      <td>['therdet']</td>\n",
              "    </tr>\n",
              "    <tr>\n",
              "      <th>37719</th>\n",
              "      <td>37719</td>\n",
              "      <td>0</td>\n",
              "      <td>['العربي الماسط مرجتونا بيه']</td>\n",
              "    </tr>\n",
              "    <tr>\n",
              "      <th>90726</th>\n",
              "      <td>44173</td>\n",
              "      <td>1</td>\n",
              "      <td>['خدمة متازة وجدية التعامل شكرا جوميا']</td>\n",
              "    </tr>\n",
              "  </tbody>\n",
              "</table>\n",
              "</div>"
            ],
            "text/plain": [
              "           ID  label                                         text_clean\n",
              "7363     7363      1                                     ['No content']\n",
              "72943   24911      1                        ['تطبيق متميز احسن الموقع']\n",
              "4408     4408      1        ['معلم عجبني تصرفو كيف قام عطا كلمتين خرج']\n",
              "6723     6723      1           ['beravo aymona rabi wlh tebrkala rabi']\n",
              "160579  30055      0                    ['riehi degage montasar lazem']\n",
              "171306  41160      0  ['si slim mais groupèt lclub houmà akther bèch...\n",
              "149792  18878      0                   ['dr moncef mahouwech cpr enti']\n",
              "170736  40569      1                                     ['rabi ester']\n",
              "8023     8023      1                    ['واصل عاءشة احترام المشاهدين']\n",
              "84168   37078      1  ['mais ne sais pas pourquoi nai plus le mode p...\n",
              "84894   37860      1          ['شكرا لحسن المعاملة خدمة العملاء جوميا']\n",
              "135539   4114      0                      ['sobahalah mayorgdouch lol']\n",
              "127531  22786      1                                  ['alahoma asrif']\n",
              "188525  59005      1             ['hamra bidha jusqu la fin monde bel']\n",
              "163723  33303      1  ['ana slouma boutoula tabda omourna mahich l s...\n",
              "17948   17948      1                                     ['couvre feu']\n",
              "127263  22518      1                                      ['اله يرحمه']\n",
              "15302   15302      1                                        ['therdet']\n",
              "37719   37719      0                      ['العربي الماسط مرجتونا بيه']\n",
              "90726   44173      1            ['خدمة متازة وجدية التعامل شكرا جوميا']"
            ]
          },
          "metadata": {
            "tags": []
          },
          "execution_count": 68
        }
      ]
    },
    {
      "cell_type": "code",
      "metadata": {
        "colab": {
          "base_uri": "https://localhost:8080/"
        },
        "id": "ZWvwkjiFghEb",
        "outputId": "3ef752ff-60fa-43b0-e81f-acdb02797de4"
      },
      "source": [
        "def get_max_length():\n",
        "    \n",
        "    review_length = []\n",
        "    for review in data['text_clean']:\n",
        "        review_length.append(len(review))\n",
        "\n",
        "    return int(np.ceil(np.mean(review_length)))\n",
        "\n",
        "\n",
        "max_length = get_max_length()\n",
        "print('Maximum review length: ', max_length)\n",
        "\n",
        "labels = np.array(data['label'])\n",
        "y = []\n",
        "for i in range(len(labels)):\n",
        "    if labels[i] == 0:\n",
        "        y.append(0)\n",
        "    if labels[i] == 1:\n",
        "        y.append(1)\n",
        "\n",
        "y = np.array(y)\n",
        "labels = tf.keras.utils.to_categorical(y, 2, dtype=\"int\")\n",
        "X_train, X_test, Y_train, Y_test = train_test_split(data['text_clean'], labels, test_size = 0.2, random_state = 42)\n",
        "\n",
        "print(X_train.shape,Y_train.shape)\n",
        "print(X_test.shape,Y_test.shape)\n",
        "\n",
        "# ENCODE REVIEW\n",
        "token = Tokenizer(lower=False)    # no need lower, because already lowered the data in load_data()\n",
        "token.fit_on_texts(X_train)\n",
        "X_train = token.texts_to_sequences(X_train)\n",
        "X_test = token.texts_to_sequences(X_test)\n",
        "\n",
        "max_length = get_max_length()\n",
        "\n",
        "X_train = pad_sequences(X_train, maxlen=max_length, padding='post', truncating='post')\n",
        "X_test = pad_sequences(X_test, maxlen=max_length, padding='post', truncating='post')\n",
        "\n",
        "total_words = len(token.word_index) + 1   # add 1 because of 0 padding\n",
        "\n",
        "print('Encoded X Train\\n', X_train, '\\n')\n",
        "print('Encoded X Test\\n', X_test, '\\n')\n",
        "print('Maximum review length: ', max_length)\n",
        "print('total words:', total_words)"
      ],
      "execution_count": null,
      "outputs": [
        {
          "output_type": "stream",
          "text": [
            "Maximum review length:  43\n",
            "(159277,) (159277, 2)\n",
            "(39820,) (39820, 2)\n",
            "Encoded X Train\n",
            " [[  1526   3290    455 ...      0      0      0]\n",
            " [ 25275  71246  36798 ...      0      0      0]\n",
            " [ 29383   1636      0 ...      0      0      0]\n",
            " ...\n",
            " [    11 174831      0 ...      0      0      0]\n",
            " [ 22300    272  55593 ...      0      0      0]\n",
            " [  8341    671   1585 ...  30171   3026  22294]] \n",
            "\n",
            "Encoded X Test\n",
            " [[  3483     10 123654 ...      0      0      0]\n",
            " [    11  42738  32470 ...      0      0      0]\n",
            " [    11   3355  49264 ...      0      0      0]\n",
            " ...\n",
            " [  6188   5615      2 ...      0      0      0]\n",
            " [  3593  20154   5025 ...      0      0      0]\n",
            " [   445   5184 143580 ...      0      0      0]] \n",
            "\n",
            "Maximum review length:  43\n",
            "total words: 174834\n"
          ],
          "name": "stdout"
        }
      ]
    },
    {
      "cell_type": "markdown",
      "metadata": {
        "id": "owhWPmU35j8a"
      },
      "source": [
        "# RNN Model"
      ]
    },
    {
      "cell_type": "code",
      "metadata": {
        "id": "dTsEUwX3gO7P"
      },
      "source": [
        "modelRNN = load_model('/content/model_RNN.hdf5')\n",
        "history=np.load('my_historyRNN.npy',allow_pickle='TRUE').item()"
      ],
      "execution_count": null,
      "outputs": []
    },
    {
      "cell_type": "code",
      "metadata": {
        "colab": {
          "base_uri": "https://localhost:8080/"
        },
        "id": "0ekGdnPJhlRZ",
        "outputId": "655b751c-f7a4-40aa-98fc-7e7f8d1dec2f"
      },
      "source": [
        "modelRNN.summary()"
      ],
      "execution_count": null,
      "outputs": [
        {
          "output_type": "stream",
          "text": [
            "Model: \"sequential_16\"\n",
            "_________________________________________________________________\n",
            "Layer (type)                 Output Shape              Param #   \n",
            "=================================================================\n",
            "embedding_16 (Embedding)     (None, 43, 148)           25875432  \n",
            "_________________________________________________________________\n",
            "simple_rnn_4 (SimpleRNN)     (None, 100)               24900     \n",
            "_________________________________________________________________\n",
            "dense_39 (Dense)             (None, 2)                 202       \n",
            "=================================================================\n",
            "Total params: 25,900,534\n",
            "Trainable params: 25,900,534\n",
            "Non-trainable params: 0\n",
            "_________________________________________________________________\n"
          ],
          "name": "stdout"
        }
      ]
    },
    {
      "cell_type": "code",
      "metadata": {
        "colab": {
          "base_uri": "https://localhost:8080/"
        },
        "id": "Cpj46k0p5g4S",
        "outputId": "0c728d32-5154-4c85-bfd4-d2c00e9b5287"
      },
      "source": [
        "# Evaluate the model\n",
        "loss, acc = modelRNN.evaluate(X_test, Y_test, verbose=1)\n",
        "print(\"Untrained model, accuracy: {:5.2f}%\".format(100 * acc))"
      ],
      "execution_count": null,
      "outputs": [
        {
          "output_type": "stream",
          "text": [
            "1245/1245 [==============================] - 13s 9ms/step - loss: 0.3795 - accuracy: 0.8539\n",
            "Untrained model, accuracy: 85.39%\n"
          ],
          "name": "stdout"
        }
      ]
    },
    {
      "cell_type": "code",
      "metadata": {
        "colab": {
          "base_uri": "https://localhost:8080/"
        },
        "id": "v1hgOeku56r0",
        "outputId": "365b9079-b4cc-4f3c-c2dc-f05be139c5a7"
      },
      "source": [
        "#test validation\n",
        "from sklearn.metrics import confusion_matrix,classification_report\n",
        "Y_pred = modelRNN.predict_classes(X_test,batch_size = 128)\n",
        "df_test = pd.DataFrame({'true': Y_test.tolist(), 'pred':Y_pred})\n",
        "df_test['true'] = df_test['true'].apply(lambda x: np.argmax(x))\n",
        "print(\"confusion matrix\",confusion_matrix(df_test.true, df_test.pred))\n",
        "print(classification_report(df_test.true, df_test.pred))"
      ],
      "execution_count": null,
      "outputs": [
        {
          "output_type": "stream",
          "text": [
            "/usr/local/lib/python3.7/dist-packages/keras/engine/sequential.py:450: UserWarning: `model.predict_classes()` is deprecated and will be removed after 2021-01-01. Please use instead:* `np.argmax(model.predict(x), axis=-1)`,   if your model does multi-class classification   (e.g. if it uses a `softmax` last-layer activation).* `(model.predict(x) > 0.5).astype(\"int32\")`,   if your model does binary classification   (e.g. if it uses a `sigmoid` last-layer activation).\n",
            "  warnings.warn('`model.predict_classes()` is deprecated and '\n"
          ],
          "name": "stderr"
        },
        {
          "output_type": "stream",
          "text": [
            "confusion matrix [[ 8483  4042]\n",
            " [ 1776 25519]]\n",
            "              precision    recall  f1-score   support\n",
            "\n",
            "           0       0.83      0.68      0.74     12525\n",
            "           1       0.86      0.93      0.90     27295\n",
            "\n",
            "    accuracy                           0.85     39820\n",
            "   macro avg       0.85      0.81      0.82     39820\n",
            "weighted avg       0.85      0.85      0.85     39820\n",
            "\n"
          ],
          "name": "stdout"
        }
      ]
    },
    {
      "cell_type": "code",
      "metadata": {
        "colab": {
          "base_uri": "https://localhost:8080/",
          "height": 876
        },
        "id": "JsoH0q-FiMUR",
        "outputId": "9dc04398-c4a9-4fa3-c105-4b077c63a637"
      },
      "source": [
        "#This builds a graph with the available metrics of the history for all datasets of the history\n",
        "from matplotlib import pyplot as plt\n",
        "plt.plot(history['accuracy'])\n",
        "plt.plot(history['val_accuracy'])\n",
        "plt.title('model accuracy')\n",
        "plt.ylabel('accuracy')\n",
        "plt.xlabel('epoch')\n",
        "plt.legend(['train', 'val'], loc='upper left')\n",
        "plt.show()\n",
        "plt.plot(history['loss'])\n",
        "plt.plot(history['val_loss'])\n",
        "plt.title('model loss')\n",
        "plt.ylabel('loss')\n",
        "plt.xlabel('epoch')\n",
        "plt.legend(['train', 'val'], loc='upper left')\n",
        "plt.show()\n",
        "pd.DataFrame(history).plot(figsize=(8,5))\n",
        "plt.show()"
      ],
      "execution_count": null,
      "outputs": [
        {
          "output_type": "display_data",
          "data": {
            "image/png": "[encoded data removed]",
            "text/plain": [
              "<Figure size 432x288 with 1 Axes>"
            ]
          },
          "metadata": {
            "tags": [],
            "needs_background": "light"
          }
        },
        {
          "output_type": "display_data",
          "data": {
            "image/png": "[encoded data removed]",
            "text/plain": [
              "<Figure size 432x288 with 1 Axes>"
            ]
          },
          "metadata": {
            "tags": [],
            "needs_background": "light"
          }
        },
        {
          "output_type": "display_data",
          "data": {
            "image/png": "[encoded data removed]",
            "text/plain": [
              "<Figure size 576x360 with 1 Axes>"
            ]
          },
          "metadata": {
            "tags": [],
            "needs_background": "light"
          }
        }
      ]
    },
    {
      "cell_type": "markdown",
      "metadata": {
        "id": "Y_2u-YwGhRoq"
      },
      "source": [
        "# LSTM Model"
      ]
    },
    {
      "cell_type": "code",
      "metadata": {
        "id": "-_qCZJtPha6e"
      },
      "source": [
        "modelLSTM = load_model('/content/model_LSTM.hdf5')\n",
        "history=np.load('my_history_LSTM.npy',allow_pickle='TRUE').item()"
      ],
      "execution_count": null,
      "outputs": []
    },
    {
      "cell_type": "code",
      "metadata": {
        "colab": {
          "base_uri": "https://localhost:8080/"
        },
        "id": "E7Wl0nJ-holg",
        "outputId": "6061d561-4e11-4de1-c794-efeafd747bf2"
      },
      "source": [
        "modelLSTM.summary()"
      ],
      "execution_count": null,
      "outputs": [
        {
          "output_type": "stream",
          "text": [
            "Model: \"sequential_10\"\n",
            "_________________________________________________________________\n",
            "Layer (type)                 Output Shape              Param #   \n",
            "=================================================================\n",
            "embedding_10 (Embedding)     (None, 43, 148)           25875432  \n",
            "_________________________________________________________________\n",
            "lstm_10 (LSTM)               (None, 100)               99600     \n",
            "_________________________________________________________________\n",
            "dense_30 (Dense)             (None, 30)                3030      \n",
            "_________________________________________________________________\n",
            "dropout_20 (Dropout)         (None, 30)                0         \n",
            "_________________________________________________________________\n",
            "dense_31 (Dense)             (None, 15)                465       \n",
            "_________________________________________________________________\n",
            "dropout_21 (Dropout)         (None, 15)                0         \n",
            "_________________________________________________________________\n",
            "dense_32 (Dense)             (None, 2)                 32        \n",
            "=================================================================\n",
            "Total params: 25,978,559\n",
            "Trainable params: 25,978,559\n",
            "Non-trainable params: 0\n",
            "_________________________________________________________________\n"
          ],
          "name": "stdout"
        }
      ]
    },
    {
      "cell_type": "code",
      "metadata": {
        "colab": {
          "base_uri": "https://localhost:8080/"
        },
        "id": "qJ7z5CTYhwK7",
        "outputId": "12b02759-1055-494f-db68-8a52a647ca9c"
      },
      "source": [
        "# Evaluate the model\n",
        "loss, acc = modelLSTM.evaluate(X_test, Y_test, verbose=1)\n",
        "print(\"Untrained model, accuracy: {:5.2f}%\".format(100 * acc))"
      ],
      "execution_count": null,
      "outputs": [
        {
          "output_type": "stream",
          "text": [
            "1245/1245 [==============================] - 21s 16ms/step - loss: 0.3209 - accuracy: 0.8641\n",
            "Untrained model, accuracy: 86.41%\n"
          ],
          "name": "stdout"
        }
      ]
    },
    {
      "cell_type": "code",
      "metadata": {
        "colab": {
          "base_uri": "https://localhost:8080/"
        },
        "id": "WUrKoVb2h06n",
        "outputId": "73be41f1-40ad-4686-86e6-c656279612c3"
      },
      "source": [
        "#test validation\n",
        "from sklearn.metrics import confusion_matrix,classification_report\n",
        "\n",
        "\n",
        "Y_pred = modelLSTM.predict_classes(X_test,batch_size = 128)\n",
        "df_test = pd.DataFrame({'true': Y_test.tolist(), 'pred':Y_pred})\n",
        "df_test['true'] = df_test['true'].apply(lambda x: np.argmax(x))\n",
        "print(\"confusion matrix\",confusion_matrix(df_test.true, df_test.pred))\n",
        "print(classification_report(df_test.true, df_test.pred))"
      ],
      "execution_count": null,
      "outputs": [
        {
          "output_type": "stream",
          "text": [
            "/usr/local/lib/python3.7/dist-packages/keras/engine/sequential.py:450: UserWarning: `model.predict_classes()` is deprecated and will be removed after 2021-01-01. Please use instead:* `np.argmax(model.predict(x), axis=-1)`,   if your model does multi-class classification   (e.g. if it uses a `softmax` last-layer activation).* `(model.predict(x) > 0.5).astype(\"int32\")`,   if your model does binary classification   (e.g. if it uses a `sigmoid` last-layer activation).\n",
            "  warnings.warn('`model.predict_classes()` is deprecated and '\n"
          ],
          "name": "stderr"
        },
        {
          "output_type": "stream",
          "text": [
            "confusion matrix [[ 9022  3503]\n",
            " [ 1907 25388]]\n",
            "              precision    recall  f1-score   support\n",
            "\n",
            "           0       0.83      0.72      0.77     12525\n",
            "           1       0.88      0.93      0.90     27295\n",
            "\n",
            "    accuracy                           0.86     39820\n",
            "   macro avg       0.85      0.83      0.84     39820\n",
            "weighted avg       0.86      0.86      0.86     39820\n",
            "\n"
          ],
          "name": "stdout"
        }
      ]
    },
    {
      "cell_type": "markdown",
      "metadata": {
        "id": "qx2qwQ1AiqzI"
      },
      "source": [
        "# BLSTM Model"
      ]
    },
    {
      "cell_type": "code",
      "metadata": {
        "id": "K0ncCfD2iweh"
      },
      "source": [
        "modelBLSTM = load_model('/content/model_BLSTM.hdf5')\n",
        "history=np.load('/content/my_history_BLSTM.npy',allow_pickle='TRUE').item()"
      ],
      "execution_count": null,
      "outputs": []
    },
    {
      "cell_type": "code",
      "metadata": {
        "colab": {
          "base_uri": "https://localhost:8080/"
        },
        "id": "Tvkc7NHAi995",
        "outputId": "6e6274ff-a1cb-4d35-c363-153b14e89fd3"
      },
      "source": [
        "modelBLSTM.summary()"
      ],
      "execution_count": null,
      "outputs": [
        {
          "output_type": "stream",
          "text": [
            "Model: \"sequential_7\"\n",
            "_________________________________________________________________\n",
            "Layer (type)                 Output Shape              Param #   \n",
            "=================================================================\n",
            "embedding_7 (Embedding)      (None, 43, 148)           25875432  \n",
            "_________________________________________________________________\n",
            "bidirectional_7 (Bidirection (None, 100)               79600     \n",
            "_________________________________________________________________\n",
            "dense_21 (Dense)             (None, 30)                3030      \n",
            "_________________________________________________________________\n",
            "dropout_14 (Dropout)         (None, 30)                0         \n",
            "_________________________________________________________________\n",
            "dense_22 (Dense)             (None, 15)                465       \n",
            "_________________________________________________________________\n",
            "dropout_15 (Dropout)         (None, 15)                0         \n",
            "_________________________________________________________________\n",
            "dense_23 (Dense)             (None, 2)                 32        \n",
            "=================================================================\n",
            "Total params: 25,958,559\n",
            "Trainable params: 25,958,559\n",
            "Non-trainable params: 0\n",
            "_________________________________________________________________\n"
          ],
          "name": "stdout"
        }
      ]
    },
    {
      "cell_type": "code",
      "metadata": {
        "colab": {
          "base_uri": "https://localhost:8080/"
        },
        "id": "RewKgRrPjBV9",
        "outputId": "64ee49a3-9618-4f22-9f0a-ce582e7c32a9"
      },
      "source": [
        "# Evaluate the model\n",
        "loss, acc = modelBLSTM.evaluate(X_test, Y_test, verbose=1)\n",
        "print(\"Untrained model, accuracy: {:5.2f}%\".format(100 * acc))"
      ],
      "execution_count": null,
      "outputs": [
        {
          "output_type": "stream",
          "text": [
            "1245/1245 [==============================] - 17s 14ms/step - loss: 0.3130 - accuracy: 0.8676\n",
            "Untrained model, accuracy: 86.76%\n"
          ],
          "name": "stdout"
        }
      ]
    },
    {
      "cell_type": "code",
      "metadata": {
        "colab": {
          "base_uri": "https://localhost:8080/"
        },
        "id": "Skl5FI_HjGVb",
        "outputId": "7f0db144-16c4-4b6d-fd9c-11ed027032fb"
      },
      "source": [
        "#test validation\n",
        "from sklearn.metrics import confusion_matrix,classification_report\n",
        "\n",
        "\n",
        "Y_pred = modelBLSTM.predict_classes(X_test,batch_size = 128)\n",
        "df_test = pd.DataFrame({'true': Y_test.tolist(), 'pred':Y_pred})\n",
        "df_test['true'] = df_test['true'].apply(lambda x: np.argmax(x))\n",
        "print(\"confusion matrix\",confusion_matrix(df_test.true, df_test.pred))\n",
        "print(classification_report(df_test.true, df_test.pred))"
      ],
      "execution_count": null,
      "outputs": [
        {
          "output_type": "stream",
          "text": [
            "/usr/local/lib/python3.7/dist-packages/keras/engine/sequential.py:450: UserWarning: `model.predict_classes()` is deprecated and will be removed after 2021-01-01. Please use instead:* `np.argmax(model.predict(x), axis=-1)`,   if your model does multi-class classification   (e.g. if it uses a `softmax` last-layer activation).* `(model.predict(x) > 0.5).astype(\"int32\")`,   if your model does binary classification   (e.g. if it uses a `sigmoid` last-layer activation).\n",
            "  warnings.warn('`model.predict_classes()` is deprecated and '\n"
          ],
          "name": "stderr"
        },
        {
          "output_type": "stream",
          "text": [
            "confusion matrix [[ 9190  3335]\n",
            " [ 1939 25356]]\n",
            "              precision    recall  f1-score   support\n",
            "\n",
            "           0       0.83      0.73      0.78     12525\n",
            "           1       0.88      0.93      0.91     27295\n",
            "\n",
            "    accuracy                           0.87     39820\n",
            "   macro avg       0.85      0.83      0.84     39820\n",
            "weighted avg       0.87      0.87      0.87     39820\n",
            "\n"
          ],
          "name": "stdout"
        }
      ]
    },
    {
      "cell_type": "code",
      "metadata": {
        "id": "-X83c9my58da"
      },
      "source": [
        "##predict sentiments from BLSTM model (best model accuracy)\n",
        "\n",
        "text = ['bravo arbeya enti b alef rajel w zied el meki désolé sonbel a8a ragas el fehri eli ken chochou trabelseya ezouz mahomchi rjel w laba tjib laba w tjib esid da3as w etiiiiiiiit tjib etiiiiiiit w']\n",
        "text2 = ['araftha aka tebda fel 5ra lrasek w t9olhom le le jawi behy']\n",
        "\n",
        "def pred(text):\n",
        "  #vectorizing the tweet by the pre-fitted tokenizer instance\n",
        "  twt = token.texts_to_sequences(text)\n",
        "  #padding the tweet to have exactly the same shape as `embedding_2` input\n",
        "  twt = pad_sequences(twt, maxlen=max_length, dtype='int32', value=0)\n",
        "  print(text)\n",
        "  print(twt)\n",
        "  sentiment = modelBLSTM.predict(twt)[0]\n",
        "  if ((sentiment[0])>0.5):\n",
        "    print(\"positive\")\n",
        "  elif ((sentiment[0])<=0.5):\n",
        "    print(\"negative\")\n",
        "\n",
        "pred(text)    "
      ],
      "execution_count": null,
      "outputs": []
    },
    {
      "cell_type": "markdown",
      "metadata": {
        "id": "rFGitsA2nWVE"
      },
      "source": [
        "# Results of all models ;) \n",
        "## best accuracy model is our approach based on BI-LSTM :D "
      ]
    },
    {
      "cell_type": "code",
      "metadata": {
        "id": "uqXW5zre61OD",
        "colab": {
          "base_uri": "https://localhost:8080/"
        },
        "outputId": "6c5bd897-8458-4bef-95f0-29053cd7586d"
      },
      "source": [
        "from prettytable import PrettyTable\n",
        "z = PrettyTable()\n",
        "z.field_names = [\"Vector\",\"Algorithm\",\"Train AUC\", \"Test AUC\",\"Train accuracy\", \"Test accuracy\"]\n",
        "z.add_row([\"bow\",\"decision_tree\", 0.8957002038100872,0.8313505440004316,0.84,0.80])\n",
        "z.add_row([\"tfidf\",\"decision_tree\",0.8985122747881047, 0.8228598236116917,0.84,0.79 ])\n",
        "z.add_row([\"avg-word2vec\",\"decision_tree\",0.826594263284955,0.7952440061500485,0.77,0.74])\n",
        "#z.add_row([\"tfidfw2v\",\"decision_tree\",500,10,0.7986216813232861,0.7865140140091872])\n",
        "z.add_row(['-----','-----','-----','-----','-----','-----'])\n",
        "\n",
        "z.field_names = [\"Vector\",\"Algorithm\",\"Train AUC\", \"Test AUC\",\"Train accuracy\", \"Test accuracy\"]\n",
        "\n",
        "z.add_row([\"bow\",\"logistic regression\",0.9900894149763044, 0.9151443217010508, 0.96,0.86])\n",
        "z.add_row([\"tfidf\",\"logistic regression\",0.9874908408313611,0.9239911351003551,0.96,0.86])    \n",
        "z.add_row([\"avg-word2vec\",\"logistic regression\",0.7779062541621549,0.7779062541621549,0.73,0.73])\n",
        "#z.add_row([\"tfidf-word2vec\",\"logistic regression\",\"l1\",10,0.8857145235571816,0.8847929213341348])\n",
        "z.add_row(['-----','-----','-----','-----','-----','-----'])\n",
        "z.add_row(['-----','-----','-----','-----','-----','-----'])\n",
        "z.add_row([\"bow\",\"naive-bayes\",0.9774466824302217, 0.9104516992132788,0.94,0.85])\n",
        "z.add_row([\"tfidf\",\"naive-bayes\",0.9827170273520545,0.9226525781863021,0.94,0.86])\n",
        "z.add_row(['-----','-----','-----','-----','-----','-----'])\n",
        "z.add_row(['-----','-----','-----','-----','-----','-----'])\n",
        "z.add_row([\"bow\",\"random forest\",0.8442616728885198,0.8266136030388367,0.79,0.77])\n",
        "z.add_row([\"tfidf\",\"random forest\",0.8528878021267111,0.8304146257739111,0.79,0.78])\n",
        "z.add_row([\"avg-word2vec\",\"random forest\",0.991563982751009,0.8723372849163484,0.96,0.81])\n",
        "#z.add_row([\"tfidfw2v\",\"random forest\",120,30,0.9999870561042803,0.8766026923217098])\n",
        "z.add_row(['-----','-----','-----','-----','-----','-----'])\n",
        "z.add_row(['-----','-----','-----','-----','-----','-----'])\n",
        "z.add_row([\"bow\",\"SVM (linear kernel)\",0.9465613096715133,0.9034863515302616,0.85,0.82])\n",
        "z.add_row([\"tfidf\",\"SVM (linear kernel)\",0.9086455785129708,0.883245069042326,0.77,0.77])\n",
        "z.add_row([\"avg-word2vec\",\"SVM (linear kernel)\",0.7640582225935644,0.7674311992205425,0.71,0.72])\n",
        "#z.add_row([\"tfidf-w2v\",\"SVM\",\"linear\",\"l2\",0.001,\"-\",\"-\",0.8840266485280304,0.8828121426206832])\n",
        "z.add_row([\"bow\",\"SVM (RBF kernel)\",0.8074894126573373,0.7688631267392169,0.76,0.74])\n",
        "z.add_row([\"tfidf\",\"SVM (RBF kernel)\",0.7972934517858675,0.7684690854203935,0.77,0.75])\n",
        "z.add_row([\"avg-word2vec\",\"SVM (RBF kernel)\",0.8060391124173463,0.7272053243846486,0.77,0.73])\n",
        "#z.add_row([\"tfidf-w2v\",\"SVM\",\"RBF\",\"-\",\"-\",1000,0.01,0.8979185918936899,0.8832558625135044])\n",
        "z.add_row(['-----','-----','-----','-----','-----','-----'])\n",
        "z.add_row(['-----','-----','-----','-----','-----','-----'])\n",
        "z.add_row([\"bow\",\"xgboost\",0.8875529936403443,0.8541088581344501,0.82,0.79])\n",
        "z.add_row([\"tfidf\",\"xgboost\",0.90591200299262,0.8558300154276457,0.83,0.79])\n",
        "z.add_row([\"avg-word2vec\",\"xgboost\",0.9942503424839467,0.8775042918941355,0.96,0.81])\n",
        "print(z)"
      ],
      "execution_count": null,
      "outputs": [
        {
          "output_type": "stream",
          "text": [
            "+--------------+---------------------+--------------------+--------------------+----------------+---------------+\n",
            "|    Vector    |      Algorithm      |     Train AUC      |      Test AUC      | Train accuracy | Test accuracy |\n",
            "+--------------+---------------------+--------------------+--------------------+----------------+---------------+\n",
            "|     bow      |    decision_tree    | 0.8957002038100872 | 0.8313505440004316 |      0.84      |      0.8      |\n",
            "|    tfidf     |    decision_tree    | 0.8985122747881047 | 0.8228598236116917 |      0.84      |      0.79     |\n",
            "| avg-word2vec |    decision_tree    | 0.826594263284955  | 0.7952440061500485 |      0.77      |      0.74     |\n",
            "|    -----     |        -----        |       -----        |       -----        |     -----      |     -----     |\n",
            "|     bow      | logistic regression | 0.9900894149763044 | 0.9151443217010508 |      0.96      |      0.86     |\n",
            "|    tfidf     | logistic regression | 0.9874908408313611 | 0.9239911351003551 |      0.96      |      0.86     |\n",
            "| avg-word2vec | logistic regression | 0.7779062541621549 | 0.7779062541621549 |      0.73      |      0.73     |\n",
            "|    -----     |        -----        |       -----        |       -----        |     -----      |     -----     |\n",
            "|    -----     |        -----        |       -----        |       -----        |     -----      |     -----     |\n",
            "|     bow      |     naive-bayes     | 0.9774466824302217 | 0.9104516992132788 |      0.94      |      0.85     |\n",
            "|    tfidf     |     naive-bayes     | 0.9827170273520545 | 0.9226525781863021 |      0.94      |      0.86     |\n",
            "|    -----     |        -----        |       -----        |       -----        |     -----      |     -----     |\n",
            "|    -----     |        -----        |       -----        |       -----        |     -----      |     -----     |\n",
            "|     bow      |    random forest    | 0.8442616728885198 | 0.8266136030388367 |      0.79      |      0.77     |\n",
            "|    tfidf     |    random forest    | 0.8528878021267111 | 0.8304146257739111 |      0.79      |      0.78     |\n",
            "| avg-word2vec |    random forest    | 0.991563982751009  | 0.8723372849163484 |      0.96      |      0.81     |\n",
            "|    -----     |        -----        |       -----        |       -----        |     -----      |     -----     |\n",
            "|    -----     |        -----        |       -----        |       -----        |     -----      |     -----     |\n",
            "|     bow      | SVM (linear kernel) | 0.9465613096715133 | 0.9034863515302616 |      0.85      |      0.82     |\n",
            "|    tfidf     | SVM (linear kernel) | 0.9086455785129708 | 0.883245069042326  |      0.77      |      0.77     |\n",
            "| avg-word2vec | SVM (linear kernel) | 0.7640582225935644 | 0.7674311992205425 |      0.71      |      0.72     |\n",
            "|     bow      |   SVM (RBF kernel)  | 0.8074894126573373 | 0.7688631267392169 |      0.76      |      0.74     |\n",
            "|    tfidf     |   SVM (RBF kernel)  | 0.7972934517858675 | 0.7684690854203935 |      0.77      |      0.75     |\n",
            "| avg-word2vec |   SVM (RBF kernel)  | 0.8060391124173463 | 0.7272053243846486 |      0.77      |      0.73     |\n",
            "|    -----     |        -----        |       -----        |       -----        |     -----      |     -----     |\n",
            "|    -----     |        -----        |       -----        |       -----        |     -----      |     -----     |\n",
            "|     bow      |       xgboost       | 0.8875529936403443 | 0.8541088581344501 |      0.82      |      0.79     |\n",
            "|    tfidf     |       xgboost       |  0.90591200299262  | 0.8558300154276457 |      0.83      |      0.79     |\n",
            "| avg-word2vec |       xgboost       | 0.9942503424839467 | 0.8775042918941355 |      0.96      |      0.81     |\n",
            "+--------------+---------------------+--------------------+--------------------+----------------+---------------+\n"
          ],
          "name": "stdout"
        }
      ]
    },
    {
      "cell_type": "code",
      "metadata": {
        "colab": {
          "base_uri": "https://localhost:8080/"
        },
        "id": "XDf-d2WxDy3O",
        "outputId": "ccfc0f8c-cefe-4ba4-d6e7-3963422f273b"
      },
      "source": [
        "from prettytable import PrettyTable\n",
        "z = PrettyTable()\n",
        "z.field_names = [\"Model\",\"Total params\",\"Epochs\",\"Optimizer\",\"Batch_Size\",\"Testloss\",\"Test accuracy\"] \n",
        "z.add_row([\"RNN Simple\",25.900534, 2,\"Adam\", 148, 0.39 ,0.85])\n",
        "z.add_row([\"LSTM\",25.978559, 1,\"Adam\",148,0.32 ,0.86])\n",
        "z.add_row([\"BI-LSTM\",25.958559, 1,\"Adam\", 148, 0.31 ,0.87])\n",
        "print(z)"
      ],
      "execution_count": null,
      "outputs": [
        {
          "output_type": "stream",
          "text": [
            "+------------+--------------+--------+-----------+------------+----------+---------------+\n",
            "|   Model    | Total params | Epochs | Optimizer | Batch_Size | Testloss | Test accuracy |\n",
            "+------------+--------------+--------+-----------+------------+----------+---------------+\n",
            "| RNN Simple |  25.900534   |   2    |    Adam   |    148     |   0.39   |      0.85     |\n",
            "|    LSTM    |  25.978559   |   1    |    Adam   |    148     |   0.32   |      0.86     |\n",
            "|  BI-LSTM   |  25.958559   |   1    |    Adam   |    148     |   0.31   |      0.87     |\n",
            "+------------+--------------+--------+-----------+------------+----------+---------------+\n"
          ],
          "name": "stdout"
        }
      ]
    }
  ]
}