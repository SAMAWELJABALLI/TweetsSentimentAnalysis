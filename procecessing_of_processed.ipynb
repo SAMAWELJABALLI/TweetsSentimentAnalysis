{
  "nbformat": 4,
  "nbformat_minor": 0,
  "metadata": {
    "colab": {
      "name": "procecessing_of_processed.ipynb",
      "provenance": [],
      "authorship_tag": "ABX9TyP58MJEiWbSDRmnhgAOeyHc",
      "include_colab_link": true
    },
    "kernelspec": {
      "name": "python3",
      "display_name": "Python 3"
    },
    "language_info": {
      "name": "python"
    }
  },
  "cells": [
    {
      "cell_type": "markdown",
      "metadata": {
        "id": "view-in-github",
        "colab_type": "text"
      },
      "source": [
        "<a href=\"https://colab.research.google.com/github/SAMAWELJABALLI/TweetsSentimentAnalysis/blob/main/procecessing_of_processed.ipynb\" target=\"_parent\"><img src=\"https://colab.research.google.com/assets/colab-badge.svg\" alt=\"Open In Colab\"/></a>"
      ]
    },
    {
      "cell_type": "code",
      "metadata": {
        "colab": {
          "base_uri": "https://localhost:8080/",
          "height": 666
        },
        "id": "MPj402Wbtw41",
        "outputId": "7663838b-9ff4-4abc-d498-3c084051ccb6"
      },
      "source": [
        "# This Python 3 environment comes with many helpful analytics libraries installed\n",
        "# It is defined by the kaggle/python docker image: https://github.com/kaggle/docker-python\n",
        "# For example, here's several helpful packages to load in \n",
        "\n",
        "import numpy as np # linear algebra\n",
        "import pandas as pd # data processing, CSV file I/O (e.g. pd.read_csv)\n",
        "from sklearn.utils import resample\n",
        "    \n",
        "from sklearn.feature_extraction.text import CountVectorizer\n",
        "from keras.preprocessing.text import Tokenizer\n",
        "from keras.preprocessing.sequence import pad_sequences\n",
        "from keras.models import Sequential\n",
        "from keras.layers import Dense, Embedding, LSTM, SpatialDropout1D\n",
        "from sklearn.model_selection import train_test_split\n",
        "from keras.utils.np_utils import to_categorical\n",
        "import re\n",
        "from keras.callbacks import ModelCheckpoint\n",
        "import tensorflow as tf\n",
        "from keras.models import load_model\n",
        "\n",
        "from keras.preprocessing.text import Tokenizer\n",
        "from keras.preprocessing.sequence import pad_sequences\n",
        "from keras.layers import Dense , Input , LSTM , Embedding, Dropout , Activation, GRU, Flatten\n",
        "from keras.layers import Bidirectional, GlobalMaxPool1D\n",
        "from keras.models import Model, Sequential\n",
        "from keras.layers import Convolution1D\n",
        "from keras import initializers, regularizers, constraints, optimizers, layers\n",
        "# Input data files are available in the \"../input/\" directory.\n",
        "# For example, running this (by clicking run or pressing Shift+Enter) will list the files in the input directory\n",
        "# Load data and set labels from corpus 1 \n",
        "data = pd.read_csv('/content/data_processed.csv')\n",
        "print(f'Shape of data is {data.shape}')\n",
        "# Display 20 random samples\n",
        "data.sample(20)"
      ],
      "execution_count": 1,
      "outputs": [
        {
          "output_type": "stream",
          "text": [
            "Shape of data is (199097, 3)\n"
          ],
          "name": "stdout"
        },
        {
          "output_type": "execute_result",
          "data": {
            "text/html": [
              "<div>\n",
              "<style scoped>\n",
              "    .dataframe tbody tr th:only-of-type {\n",
              "        vertical-align: middle;\n",
              "    }\n",
              "\n",
              "    .dataframe tbody tr th {\n",
              "        vertical-align: top;\n",
              "    }\n",
              "\n",
              "    .dataframe thead th {\n",
              "        text-align: right;\n",
              "    }\n",
              "</style>\n",
              "<table border=\"1\" class=\"dataframe\">\n",
              "  <thead>\n",
              "    <tr style=\"text-align: right;\">\n",
              "      <th></th>\n",
              "      <th>ID</th>\n",
              "      <th>text_clean</th>\n",
              "      <th>label</th>\n",
              "    </tr>\n",
              "  </thead>\n",
              "  <tbody>\n",
              "    <tr>\n",
              "      <th>19313</th>\n",
              "      <td>19313</td>\n",
              "      <td>شد دارك</td>\n",
              "      <td>1</td>\n",
              "    </tr>\n",
              "    <tr>\n",
              "      <th>180830</th>\n",
              "      <td>51038</td>\n",
              "      <td>bravo drmarzouki et je dis bien errajel rajel</td>\n",
              "      <td>1</td>\n",
              "    </tr>\n",
              "    <tr>\n",
              "      <th>90017</th>\n",
              "      <td>43407</td>\n",
              "      <td>jai aimé toutes mes commandes ont été suivies ...</td>\n",
              "      <td>1</td>\n",
              "    </tr>\n",
              "    <tr>\n",
              "      <th>97913</th>\n",
              "      <td>51962</td>\n",
              "      <td>très bien comme application surtout avec le co...</td>\n",
              "      <td>1</td>\n",
              "    </tr>\n",
              "    <tr>\n",
              "      <th>17333</th>\n",
              "      <td>17333</td>\n",
              "      <td>برافو سيدي الوزير</td>\n",
              "      <td>1</td>\n",
              "    </tr>\n",
              "    <tr>\n",
              "      <th>56614</th>\n",
              "      <td>7253</td>\n",
              "      <td>je que là bonne expérience</td>\n",
              "      <td>1</td>\n",
              "    </tr>\n",
              "    <tr>\n",
              "      <th>167559</th>\n",
              "      <td>37274</td>\n",
              "      <td>tahya lclub wtabga sloma</td>\n",
              "      <td>1</td>\n",
              "    </tr>\n",
              "    <tr>\n",
              "      <th>96547</th>\n",
              "      <td>50469</td>\n",
              "      <td>بيتم استبدال المنتجات بمنتجات غير اصليه لا انص...</td>\n",
              "      <td>0</td>\n",
              "    </tr>\n",
              "    <tr>\n",
              "      <th>66405</th>\n",
              "      <td>17881</td>\n",
              "      <td>حلو جدااااااااا</td>\n",
              "      <td>1</td>\n",
              "    </tr>\n",
              "    <tr>\n",
              "      <th>149859</th>\n",
              "      <td>18947</td>\n",
              "      <td>nn miskin houwa chy iiasefff fina walah w en t...</td>\n",
              "      <td>0</td>\n",
              "    </tr>\n",
              "    <tr>\n",
              "      <th>76394</th>\n",
              "      <td>28682</td>\n",
              "      <td>تطبيق المحتالين احذروا اسوء تطبيق رأيته في حيا...</td>\n",
              "      <td>0</td>\n",
              "    </tr>\n",
              "    <tr>\n",
              "      <th>13517</th>\n",
              "      <td>13517</td>\n",
              "      <td>انا كان جيت في الحكومة الايطالية يلي روحو في ا...</td>\n",
              "      <td>1</td>\n",
              "    </tr>\n",
              "    <tr>\n",
              "      <th>159226</th>\n",
              "      <td>28650</td>\n",
              "      <td>klemm behiii barchaaa</td>\n",
              "      <td>1</td>\n",
              "    </tr>\n",
              "    <tr>\n",
              "      <th>76805</th>\n",
              "      <td>29127</td>\n",
              "      <td>NaN</td>\n",
              "      <td>1</td>\n",
              "    </tr>\n",
              "    <tr>\n",
              "      <th>31532</th>\n",
              "      <td>31532</td>\n",
              "      <td>كل التحية والتقدير والاحترام للاطار الطبي وشبه...</td>\n",
              "      <td>1</td>\n",
              "    </tr>\n",
              "    <tr>\n",
              "      <th>387</th>\n",
              "      <td>387</td>\n",
              "      <td>bravo walid</td>\n",
              "      <td>1</td>\n",
              "    </tr>\n",
              "    <tr>\n",
              "      <th>121661</th>\n",
              "      <td>16916</td>\n",
              "      <td>حوار خاص السيد نبيل القروي رئيس حزب قلب تونس</td>\n",
              "      <td>1</td>\n",
              "    </tr>\n",
              "    <tr>\n",
              "      <th>33683</th>\n",
              "      <td>33683</td>\n",
              "      <td>لطف</td>\n",
              "      <td>1</td>\n",
              "    </tr>\n",
              "    <tr>\n",
              "      <th>10614</th>\n",
              "      <td>10614</td>\n",
              "      <td>الله يرحم امميتك وبوك</td>\n",
              "      <td>1</td>\n",
              "    </tr>\n",
              "    <tr>\n",
              "      <th>63177</th>\n",
              "      <td>14342</td>\n",
              "      <td>bravoo oronga</td>\n",
              "      <td>1</td>\n",
              "    </tr>\n",
              "  </tbody>\n",
              "</table>\n",
              "</div>"
            ],
            "text/plain": [
              "           ID                                         text_clean  label\n",
              "19313   19313                                            شد دارك      1\n",
              "180830  51038      bravo drmarzouki et je dis bien errajel rajel      1\n",
              "90017   43407  jai aimé toutes mes commandes ont été suivies ...      1\n",
              "97913   51962  très bien comme application surtout avec le co...      1\n",
              "17333   17333                                  برافو سيدي الوزير      1\n",
              "56614    7253                         je que là bonne expérience      1\n",
              "167559  37274                           tahya lclub wtabga sloma      1\n",
              "96547   50469  بيتم استبدال المنتجات بمنتجات غير اصليه لا انص...      0\n",
              "66405   17881                                    حلو جدااااااااا      1\n",
              "149859  18947  nn miskin houwa chy iiasefff fina walah w en t...      0\n",
              "76394   28682  تطبيق المحتالين احذروا اسوء تطبيق رأيته في حيا...      0\n",
              "13517   13517  انا كان جيت في الحكومة الايطالية يلي روحو في ا...      1\n",
              "159226  28650                              klemm behiii barchaaa      1\n",
              "76805   29127                                                NaN      1\n",
              "31532   31532  كل التحية والتقدير والاحترام للاطار الطبي وشبه...      1\n",
              "387       387                                        bravo walid      1\n",
              "121661  16916       حوار خاص السيد نبيل القروي رئيس حزب قلب تونس      1\n",
              "33683   33683                                                لطف      1\n",
              "10614   10614                              الله يرحم امميتك وبوك      1\n",
              "63177   14342                                      bravoo oronga      1"
            ]
          },
          "metadata": {
            "tags": []
          },
          "execution_count": 1
        }
      ]
    },
    {
      "cell_type": "markdown",
      "metadata": {
        "id": "OhhKuwygAQx_"
      },
      "source": [
        "# Duplicate Sentence\n",
        "\n",
        "Most webscrapped data contains duplicated sentence.This function could retrieve unique ones."
      ]
    },
    {
      "cell_type": "code",
      "metadata": {
        "id": "ljzIVBolASFa"
      },
      "source": [
        "def pick_unique_sentence(text):\n",
        "    line=re.findall(r'(?sm)(^[^\\r\\n]+$)(?!.*^\\1$)', text)\n",
        "    return line\n"
      ],
      "execution_count": 2,
      "outputs": []
    },
    {
      "cell_type": "code",
      "metadata": {
        "colab": {
          "base_uri": "https://localhost:8080/"
        },
        "id": "_-2XyLSJAWhF",
        "outputId": "8b5d7777-78d4-489a-f09e-319e07971167"
      },
      "source": [
        "sentence=\"ya wa7ch dima a3ml talla\\n I thank doctors\\nDoctors are working very hard in this pandemic situation\\nI thank doctors bravo lik y wa7ch \\nya wa7ch dima a3ml talla\\n  \"\n",
        "pick_unique_sentence(sentence)"
      ],
      "execution_count": 3,
      "outputs": [
        {
          "output_type": "execute_result",
          "data": {
            "text/plain": [
              "[' I thank doctors',\n",
              " 'Doctors are working very hard in this pandemic situation',\n",
              " 'I thank doctors bravo lik y wa7ch ',\n",
              " 'ya wa7ch dima a3ml talla',\n",
              " '  ']"
            ]
          },
          "metadata": {
            "tags": []
          },
          "execution_count": 3
        }
      ]
    },
    {
      "cell_type": "code",
      "metadata": {
        "colab": {
          "base_uri": "https://localhost:8080/",
          "height": 648
        },
        "id": "G25OwiiCAe82",
        "outputId": "cf47945c-d367-47be-a8ae-c253de7ff3ef"
      },
      "source": [
        "data[\"text_clean\"].fillna(\"No content\", inplace = True)\n",
        "data['pick_unique']=data['text_clean'].apply(lambda x : pick_unique_sentence(x))\n",
        "data.sample(20)"
      ],
      "execution_count": 4,
      "outputs": [
        {
          "output_type": "execute_result",
          "data": {
            "text/html": [
              "<div>\n",
              "<style scoped>\n",
              "    .dataframe tbody tr th:only-of-type {\n",
              "        vertical-align: middle;\n",
              "    }\n",
              "\n",
              "    .dataframe tbody tr th {\n",
              "        vertical-align: top;\n",
              "    }\n",
              "\n",
              "    .dataframe thead th {\n",
              "        text-align: right;\n",
              "    }\n",
              "</style>\n",
              "<table border=\"1\" class=\"dataframe\">\n",
              "  <thead>\n",
              "    <tr style=\"text-align: right;\">\n",
              "      <th></th>\n",
              "      <th>ID</th>\n",
              "      <th>text_clean</th>\n",
              "      <th>label</th>\n",
              "      <th>pick_unique</th>\n",
              "    </tr>\n",
              "  </thead>\n",
              "  <tbody>\n",
              "    <tr>\n",
              "      <th>40642</th>\n",
              "      <td>40642</td>\n",
              "      <td>يا توفيق رك مصت برش</td>\n",
              "      <td>0</td>\n",
              "      <td>[يا توفيق رك مصت برش]</td>\n",
              "    </tr>\n",
              "    <tr>\n",
              "      <th>51690</th>\n",
              "      <td>1950</td>\n",
              "      <td>le meilleur des site en vente en ligne</td>\n",
              "      <td>1</td>\n",
              "      <td>[le meilleur des site en vente en ligne]</td>\n",
              "    </tr>\n",
              "    <tr>\n",
              "      <th>89644</th>\n",
              "      <td>43014</td>\n",
              "      <td>site arnaqueur de lux ils se foutent de tous l...</td>\n",
              "      <td>0</td>\n",
              "      <td>[site arnaqueur de lux ils se foutent de tous ...</td>\n",
              "    </tr>\n",
              "    <tr>\n",
              "      <th>127673</th>\n",
              "      <td>22928</td>\n",
              "      <td>donnez l exemple et mettez une bavette svp</td>\n",
              "      <td>1</td>\n",
              "      <td>[donnez l exemple et mettez une bavette svp]</td>\n",
              "    </tr>\n",
              "    <tr>\n",
              "      <th>27082</th>\n",
              "      <td>27082</td>\n",
              "      <td>No content</td>\n",
              "      <td>1</td>\n",
              "      <td>[No content]</td>\n",
              "    </tr>\n",
              "    <tr>\n",
              "      <th>13082</th>\n",
              "      <td>13082</td>\n",
              "      <td>ربي يقدر الخير</td>\n",
              "      <td>1</td>\n",
              "      <td>[ربي يقدر الخير]</td>\n",
              "    </tr>\n",
              "    <tr>\n",
              "      <th>28915</th>\n",
              "      <td>28915</td>\n",
              "      <td>No content</td>\n",
              "      <td>1</td>\n",
              "      <td>[No content]</td>\n",
              "    </tr>\n",
              "    <tr>\n",
              "      <th>54005</th>\n",
              "      <td>4454</td>\n",
              "      <td>امىتتبتتى</td>\n",
              "      <td>1</td>\n",
              "      <td>[امىتتبتتى]</td>\n",
              "    </tr>\n",
              "    <tr>\n",
              "      <th>23658</th>\n",
              "      <td>23658</td>\n",
              "      <td>ربنا يرفع عنا وعنكو البلاء</td>\n",
              "      <td>1</td>\n",
              "      <td>[ربنا يرفع عنا وعنكو البلاء]</td>\n",
              "    </tr>\n",
              "    <tr>\n",
              "      <th>50765</th>\n",
              "      <td>953</td>\n",
              "      <td>null null nulllll</td>\n",
              "      <td>0</td>\n",
              "      <td>[null null nulllll]</td>\n",
              "    </tr>\n",
              "    <tr>\n",
              "      <th>176970</th>\n",
              "      <td>47045</td>\n",
              "      <td>inta</td>\n",
              "      <td>1</td>\n",
              "      <td>[inta]</td>\n",
              "    </tr>\n",
              "    <tr>\n",
              "      <th>141426</th>\n",
              "      <td>10205</td>\n",
              "      <td>illi wrak b termtek fi blastek</td>\n",
              "      <td>1</td>\n",
              "      <td>[illi wrak b termtek fi blastek]</td>\n",
              "    </tr>\n",
              "    <tr>\n",
              "      <th>170892</th>\n",
              "      <td>40731</td>\n",
              "      <td>alah w enti ajrek rabi matansech wlidetha</td>\n",
              "      <td>1</td>\n",
              "      <td>[alah w enti ajrek rabi matansech wlidetha]</td>\n",
              "    </tr>\n",
              "    <tr>\n",
              "      <th>189370</th>\n",
              "      <td>59885</td>\n",
              "      <td>hedha samir weld jeyeb el safi said bech yosro...</td>\n",
              "      <td>0</td>\n",
              "      <td>[hedha samir weld jeyeb el safi said bech yosr...</td>\n",
              "    </tr>\n",
              "    <tr>\n",
              "      <th>15277</th>\n",
              "      <td>15277</td>\n",
              "      <td>rabi enchallah</td>\n",
              "      <td>1</td>\n",
              "      <td>[rabi enchallah]</td>\n",
              "    </tr>\n",
              "    <tr>\n",
              "      <th>108605</th>\n",
              "      <td>3860</td>\n",
              "      <td>تونس قادرة تمنع</td>\n",
              "      <td>1</td>\n",
              "      <td>[تونس قادرة تمنع]</td>\n",
              "    </tr>\n",
              "    <tr>\n",
              "      <th>122640</th>\n",
              "      <td>17895</td>\n",
              "      <td>مزال ليبيا ربي يستر ويبعده علينا</td>\n",
              "      <td>1</td>\n",
              "      <td>[مزال ليبيا ربي يستر ويبعده علينا]</td>\n",
              "    </tr>\n",
              "    <tr>\n",
              "      <th>106939</th>\n",
              "      <td>2194</td>\n",
              "      <td>بالتوفيق ان شاء الله</td>\n",
              "      <td>1</td>\n",
              "      <td>[بالتوفيق ان شاء الله]</td>\n",
              "    </tr>\n",
              "    <tr>\n",
              "      <th>182486</th>\n",
              "      <td>52753</td>\n",
              "      <td>oo mike tyson chouttttttttt oo barrrrrr</td>\n",
              "      <td>1</td>\n",
              "      <td>[oo mike tyson chouttttttttt oo barrrrrr]</td>\n",
              "    </tr>\n",
              "    <tr>\n",
              "      <th>67752</th>\n",
              "      <td>19328</td>\n",
              "      <td>جوميا هذا الموقع الذي لا يكل ولا يمل من الإحتي...</td>\n",
              "      <td>0</td>\n",
              "      <td>[جوميا هذا الموقع الذي لا يكل ولا يمل من الإحت...</td>\n",
              "    </tr>\n",
              "  </tbody>\n",
              "</table>\n",
              "</div>"
            ],
            "text/plain": [
              "           ID  ...                                        pick_unique\n",
              "40642   40642  ...                              [يا توفيق رك مصت برش]\n",
              "51690    1950  ...           [le meilleur des site en vente en ligne]\n",
              "89644   43014  ...  [site arnaqueur de lux ils se foutent de tous ...\n",
              "127673  22928  ...       [donnez l exemple et mettez une bavette svp]\n",
              "27082   27082  ...                                       [No content]\n",
              "13082   13082  ...                                   [ربي يقدر الخير]\n",
              "28915   28915  ...                                       [No content]\n",
              "54005    4454  ...                                        [امىتتبتتى]\n",
              "23658   23658  ...                       [ربنا يرفع عنا وعنكو البلاء]\n",
              "50765     953  ...                                [null null nulllll]\n",
              "176970  47045  ...                                             [inta]\n",
              "141426  10205  ...                   [illi wrak b termtek fi blastek]\n",
              "170892  40731  ...        [alah w enti ajrek rabi matansech wlidetha]\n",
              "189370  59885  ...  [hedha samir weld jeyeb el safi said bech yosr...\n",
              "15277   15277  ...                                   [rabi enchallah]\n",
              "108605   3860  ...                                  [تونس قادرة تمنع]\n",
              "122640  17895  ...                 [مزال ليبيا ربي يستر ويبعده علينا]\n",
              "106939   2194  ...                             [بالتوفيق ان شاء الله]\n",
              "182486  52753  ...          [oo mike tyson chouttttttttt oo barrrrrr]\n",
              "67752   19328  ...  [جوميا هذا الموقع الذي لا يكل ولا يمل من الإحت...\n",
              "\n",
              "[20 rows x 4 columns]"
            ]
          },
          "metadata": {
            "tags": []
          },
          "execution_count": 4
        }
      ]
    },
    {
      "cell_type": "markdown",
      "metadata": {
        "id": "WgXxHrAYA90s"
      },
      "source": [
        "# remove repeated lettre"
      ]
    },
    {
      "cell_type": "code",
      "metadata": {
        "id": "33AaVmpVA-9k"
      },
      "source": [
        "def rep(text):\n",
        "    grp = text.group(0)\n",
        "    if len(grp) > 1:\n",
        "        return grp[0:1] # can change the value here on repetition\n",
        "def unique_char(rep,sentence):\n",
        "    convert = re.sub(r'(\\w)\\1+', rep, sentence) \n",
        "    return convert\n"
      ],
      "execution_count": 5,
      "outputs": []
    },
    {
      "cell_type": "code",
      "metadata": {
        "colab": {
          "base_uri": "https://localhost:8080/",
          "height": 35
        },
        "id": "XbbnYXuBBBuM",
        "outputId": "9991a61e-ae85-42a2-abfc-5cacf5a4c731"
      },
      "source": [
        "sentence=\"مااااسط مااااسط bravoooooooooooooo degaage\"\n",
        "unique_char(rep,sentence)"
      ],
      "execution_count": 6,
      "outputs": [
        {
          "output_type": "execute_result",
          "data": {
            "application/vnd.google.colaboratory.intrinsic+json": {
              "type": "string"
            },
            "text/plain": [
              "'ماسط ماسط bravo degage'"
            ]
          },
          "metadata": {
            "tags": []
          },
          "execution_count": 6
        }
      ]
    },
    {
      "cell_type": "code",
      "metadata": {
        "colab": {
          "base_uri": "https://localhost:8080/",
          "height": 648
        },
        "id": "6rMXuK94BFxX",
        "outputId": "b0d93777-e8cb-4709-eb2f-929e434ea83d"
      },
      "source": [
        "data['pick_unique']=data['pick_unique'].apply(str)\n",
        "data['unique_char']=data['pick_unique'].apply(lambda x : unique_char(rep,x))\n",
        "data.head(20)"
      ],
      "execution_count": 7,
      "outputs": [
        {
          "output_type": "execute_result",
          "data": {
            "text/html": [
              "<div>\n",
              "<style scoped>\n",
              "    .dataframe tbody tr th:only-of-type {\n",
              "        vertical-align: middle;\n",
              "    }\n",
              "\n",
              "    .dataframe tbody tr th {\n",
              "        vertical-align: top;\n",
              "    }\n",
              "\n",
              "    .dataframe thead th {\n",
              "        text-align: right;\n",
              "    }\n",
              "</style>\n",
              "<table border=\"1\" class=\"dataframe\">\n",
              "  <thead>\n",
              "    <tr style=\"text-align: right;\">\n",
              "      <th></th>\n",
              "      <th>ID</th>\n",
              "      <th>text_clean</th>\n",
              "      <th>label</th>\n",
              "      <th>pick_unique</th>\n",
              "      <th>unique_char</th>\n",
              "    </tr>\n",
              "  </thead>\n",
              "  <tbody>\n",
              "    <tr>\n",
              "      <th>0</th>\n",
              "      <td>0</td>\n",
              "      <td>weldin weldikk bravooooo</td>\n",
              "      <td>1</td>\n",
              "      <td>['weldin weldikk bravooooo']</td>\n",
              "      <td>['weldin weldik bravo']</td>\n",
              "    </tr>\n",
              "    <tr>\n",
              "      <th>1</th>\n",
              "      <td>1</td>\n",
              "      <td>bravo amine j aime</td>\n",
              "      <td>1</td>\n",
              "      <td>['bravo amine j aime']</td>\n",
              "      <td>['bravo amine j aime']</td>\n",
              "    </tr>\n",
              "    <tr>\n",
              "      <th>2</th>\n",
              "      <td>2</td>\n",
              "      <td>صراحة bravo أحمد الرحموني</td>\n",
              "      <td>1</td>\n",
              "      <td>['صراحة bravo أحمد الرحموني']</td>\n",
              "      <td>['صراحة bravo أحمد الرحموني']</td>\n",
              "    </tr>\n",
              "    <tr>\n",
              "      <th>3</th>\n",
              "      <td>3</td>\n",
              "      <td>souut w ziiin lee wlh bch f</td>\n",
              "      <td>1</td>\n",
              "      <td>['souut w ziiin lee wlh bch f']</td>\n",
              "      <td>['sout w zin le wlh bch f']</td>\n",
              "    </tr>\n",
              "    <tr>\n",
              "      <th>4</th>\n",
              "      <td>4</td>\n",
              "      <td>anaa</td>\n",
              "      <td>1</td>\n",
              "      <td>['anaa']</td>\n",
              "      <td>['ana']</td>\n",
              "    </tr>\n",
              "    <tr>\n",
              "      <th>5</th>\n",
              "      <td>5</td>\n",
              "      <td>bravooooo walid</td>\n",
              "      <td>1</td>\n",
              "      <td>['bravooooo walid']</td>\n",
              "      <td>['bravo walid']</td>\n",
              "    </tr>\n",
              "    <tr>\n",
              "      <th>6</th>\n",
              "      <td>6</td>\n",
              "      <td>محترم و نموة علها</td>\n",
              "      <td>1</td>\n",
              "      <td>['محترم و نموة علها']</td>\n",
              "      <td>['محترم و نموة علها']</td>\n",
              "    </tr>\n",
              "    <tr>\n",
              "      <th>7</th>\n",
              "      <td>7</td>\n",
              "      <td>ربي يشفيلك بوك وان شاء الله غصرة وتتعدى</td>\n",
              "      <td>1</td>\n",
              "      <td>['ربي يشفيلك بوك وان شاء الله غصرة وتتعدى']</td>\n",
              "      <td>['ربي يشفيلك بوك وان شاء اله غصرة وتعدى']</td>\n",
              "    </tr>\n",
              "    <tr>\n",
              "      <th>8</th>\n",
              "      <td>8</td>\n",
              "      <td>bravoooooooooooooooo nabara jnab rak</td>\n",
              "      <td>1</td>\n",
              "      <td>['bravoooooooooooooooo nabara jnab rak']</td>\n",
              "      <td>['bravo nabara jnab rak']</td>\n",
              "    </tr>\n",
              "    <tr>\n",
              "      <th>9</th>\n",
              "      <td>9</td>\n",
              "      <td>bravo</td>\n",
              "      <td>1</td>\n",
              "      <td>['bravo']</td>\n",
              "      <td>['bravo']</td>\n",
              "    </tr>\n",
              "    <tr>\n",
              "      <th>10</th>\n",
              "      <td>10</td>\n",
              "      <td>mahleha martek el acheb mennek</td>\n",
              "      <td>1</td>\n",
              "      <td>['mahleha martek el acheb mennek']</td>\n",
              "      <td>['mahleha martek el acheb menek']</td>\n",
              "    </tr>\n",
              "    <tr>\n",
              "      <th>11</th>\n",
              "      <td>11</td>\n",
              "      <td>hlouwa yasr</td>\n",
              "      <td>1</td>\n",
              "      <td>['hlouwa yasr']</td>\n",
              "      <td>['hlouwa yasr']</td>\n",
              "    </tr>\n",
              "    <tr>\n",
              "      <th>12</th>\n",
              "      <td>12</td>\n",
              "      <td>أمنة فاخر أية من الجمال ولكي كل التحية من ليبيا</td>\n",
              "      <td>1</td>\n",
              "      <td>['أمنة فاخر أية من الجمال ولكي كل التحية من لي...</td>\n",
              "      <td>['أمنة فاخر أية من الجمال ولكي كل التحية من لي...</td>\n",
              "    </tr>\n",
              "    <tr>\n",
              "      <th>13</th>\n",
              "      <td>13</td>\n",
              "      <td>ama barcha el brinss ki meet ama vraiment mizy...</td>\n",
              "      <td>1</td>\n",
              "      <td>['ama barcha el brinss ki meet ama vraiment mi...</td>\n",
              "      <td>['ama barcha el brins ki met ama vraiment mizy...</td>\n",
              "    </tr>\n",
              "    <tr>\n",
              "      <th>14</th>\n",
              "      <td>14</td>\n",
              "      <td>ضامرة و خفيفة و الشلابق خدامة ههههههههههههههه</td>\n",
              "      <td>1</td>\n",
              "      <td>['ضامرة و خفيفة و الشلابق خدامة ههههههههههههههه']</td>\n",
              "      <td>['ضامرة و خفيفة و الشلابق خدامة ه']</td>\n",
              "    </tr>\n",
              "    <tr>\n",
              "      <th>15</th>\n",
              "      <td>15</td>\n",
              "      <td>تونسي يمتلك قدرة صوتية كبيرة اللي قام بيه إبداع</td>\n",
              "      <td>1</td>\n",
              "      <td>['تونسي يمتلك قدرة صوتية كبيرة اللي قام بيه إب...</td>\n",
              "      <td>['تونسي يمتلك قدرة صوتية كبيرة الي قام بيه إبد...</td>\n",
              "    </tr>\n",
              "    <tr>\n",
              "      <th>16</th>\n",
              "      <td>16</td>\n",
              "      <td>maryem bravooo</td>\n",
              "      <td>1</td>\n",
              "      <td>['maryem bravooo']</td>\n",
              "      <td>['maryem bravo']</td>\n",
              "    </tr>\n",
              "    <tr>\n",
              "      <th>17</th>\n",
              "      <td>17</td>\n",
              "      <td>bravo lotfi wassel</td>\n",
              "      <td>1</td>\n",
              "      <td>['bravo lotfi wassel']</td>\n",
              "      <td>['bravo lotfi wasel']</td>\n",
              "    </tr>\n",
              "    <tr>\n",
              "      <th>18</th>\n",
              "      <td>18</td>\n",
              "      <td>براافوا وليد انت تمثل الشعب التونسي واحمد الان...</td>\n",
              "      <td>1</td>\n",
              "      <td>['براافوا وليد انت تمثل الشعب التونسي واحمد ال...</td>\n",
              "      <td>['برافوا وليد انت تمثل الشعب التونسي واحمد الا...</td>\n",
              "    </tr>\n",
              "    <tr>\n",
              "      <th>19</th>\n",
              "      <td>19</td>\n",
              "      <td>جعفور يامهبلهوم مشاء الله نشيخ عليك حتي ونتي ساكت</td>\n",
              "      <td>1</td>\n",
              "      <td>['جعفور يامهبلهوم مشاء الله نشيخ عليك حتي ونتي...</td>\n",
              "      <td>['جعفور يامهبلهوم مشاء اله نشيخ عليك حتي ونتي ...</td>\n",
              "    </tr>\n",
              "  </tbody>\n",
              "</table>\n",
              "</div>"
            ],
            "text/plain": [
              "    ID  ...                                        unique_char\n",
              "0    0  ...                            ['weldin weldik bravo']\n",
              "1    1  ...                             ['bravo amine j aime']\n",
              "2    2  ...                      ['صراحة bravo أحمد الرحموني']\n",
              "3    3  ...                        ['sout w zin le wlh bch f']\n",
              "4    4  ...                                            ['ana']\n",
              "5    5  ...                                    ['bravo walid']\n",
              "6    6  ...                              ['محترم و نموة علها']\n",
              "7    7  ...          ['ربي يشفيلك بوك وان شاء اله غصرة وتعدى']\n",
              "8    8  ...                          ['bravo nabara jnab rak']\n",
              "9    9  ...                                          ['bravo']\n",
              "10  10  ...                  ['mahleha martek el acheb menek']\n",
              "11  11  ...                                    ['hlouwa yasr']\n",
              "12  12  ...  ['أمنة فاخر أية من الجمال ولكي كل التحية من لي...\n",
              "13  13  ...  ['ama barcha el brins ki met ama vraiment mizy...\n",
              "14  14  ...                ['ضامرة و خفيفة و الشلابق خدامة ه']\n",
              "15  15  ...  ['تونسي يمتلك قدرة صوتية كبيرة الي قام بيه إبد...\n",
              "16  16  ...                                   ['maryem bravo']\n",
              "17  17  ...                              ['bravo lotfi wasel']\n",
              "18  18  ...  ['برافوا وليد انت تمثل الشعب التونسي واحمد الا...\n",
              "19  19  ...  ['جعفور يامهبلهوم مشاء اله نشيخ عليك حتي ونتي ...\n",
              "\n",
              "[20 rows x 5 columns]"
            ]
          },
          "metadata": {
            "tags": []
          },
          "execution_count": 7
        }
      ]
    },
    {
      "cell_type": "markdown",
      "metadata": {
        "id": "eHsVCi2czkaU"
      },
      "source": [
        "# 1-grame features extracted from processed_text"
      ]
    },
    {
      "cell_type": "code",
      "metadata": {
        "id": "Atuijeqhubv8"
      },
      "source": [
        "def ngrams_top(corpus,ngram_range,n=None):\n",
        "    \"\"\"\n",
        "    List the top n words in a vocabulary according to occurrence in a text corpus.\n",
        "    \"\"\"\n",
        "    vec = CountVectorizer(ngram_range=ngram_range).fit(corpus.values.astype('U'))\n",
        "    bag_of_words = vec.transform((corpus).values.astype('U'))\n",
        "    sum_words = bag_of_words.sum(axis=0) \n",
        "    words_freq = [(word, sum_words[0, idx]) for word, idx in vec.vocabulary_.items()]\n",
        "    words_freq =sorted(words_freq, key = lambda x: x[1], reverse=True)\n",
        "    total_list=words_freq[:n]\n",
        "    df=pd.DataFrame(total_list,columns=['text','count'])\n",
        "    return df"
      ],
      "execution_count": 8,
      "outputs": []
    },
    {
      "cell_type": "code",
      "metadata": {
        "id": "nRS3Ff4TwT6J"
      },
      "source": [
        "une_gram =ngrams_top(data['unique_char'],(1,1),n=200)\n",
        "une_gram.values.tolist()\n"
      ],
      "execution_count": null,
      "outputs": []
    },
    {
      "cell_type": "code",
      "metadata": {
        "colab": {
          "base_uri": "https://localhost:8080/"
        },
        "id": "br_A6mCWSSWO",
        "outputId": "4422d584-834a-49ca-d65c-1f7d1fa84e8b"
      },
      "source": [
        "noise1gram=set(['wiw','inti','inty','na','je','wé','ena','cete','رجلرجل','eni','ana','انت','ben','عن','al','mes','و','w','mel','wel','jour','come','هو','بعد','inti','الى','se','lkol','fama','bel','فيه','ele','فى','kima','haka','kan','nes','بينا','votre','par','ya','mr','une', 'cest','vous','ont','sont','nous','kif','علي','faire','dans','fel','ala','ana','taw','ye','mon','tout','bravobravo','col','مع','li','ça','de','ya','في','et','fi','el','je','من','les','pour','est','على','il','des','si','vous','en','que','cest','الي','kol','eli','un','يا','une','ما','bech','ou','ken','كل','men','كان','jai','باش','ama','mala','cette','هذا','انا','ان','avec','du','dima','ce','min','ili','ki','enti','fih','tawa','qui','au','ena','fil','suis','wa'])\n",
        "len(noise1gram)"
      ],
      "execution_count": 52,
      "outputs": [
        {
          "output_type": "execute_result",
          "data": {
            "text/plain": [
              "112"
            ]
          },
          "metadata": {
            "tags": []
          },
          "execution_count": 52
        }
      ]
    },
    {
      "cell_type": "markdown",
      "metadata": {
        "id": "zze0KCWlzyiF"
      },
      "source": [
        "# 2-grame features extracted from processed_text\n"
      ]
    },
    {
      "cell_type": "code",
      "metadata": {
        "id": "AEhnsMAaz8V8"
      },
      "source": [
        "deux_gram =ngrams_top(data['unique_char'],(2,2),n=100)\n",
        "deux_gram.values.tolist()\n"
      ],
      "execution_count": null,
      "outputs": []
    },
    {
      "cell_type": "markdown",
      "metadata": {
        "id": "X8D3VgdH0lKf"
      },
      "source": [
        "# 3-grame features extracted from processed_text\n"
      ]
    },
    {
      "cell_type": "code",
      "metadata": {
        "id": "ZfnMle0x0Upi"
      },
      "source": [
        "trois_gram =ngrams_top(data['unique_char'],(3,3),n=100)\n",
        "trois_gram.values.tolist()\n"
      ],
      "execution_count": null,
      "outputs": []
    },
    {
      "cell_type": "markdown",
      "metadata": {
        "id": "ZXTFSUu80tBl"
      },
      "source": [
        "# 4-grame features extracted from processed_text\n"
      ]
    },
    {
      "cell_type": "code",
      "metadata": {
        "id": "uXMHwOWK0rnB"
      },
      "source": [
        "quatre_gram =ngrams_top(data['unique_char'],(4,4),n=100)\n",
        "quatre_gram.values.tolist()\n"
      ],
      "execution_count": null,
      "outputs": []
    },
    {
      "cell_type": "markdown",
      "metadata": {
        "id": "GF8VnJQVDf_7"
      },
      "source": [
        "# length of words\n",
        "No regex but added one liner to identify length of words in a sentence\n"
      ]
    },
    {
      "cell_type": "code",
      "metadata": {
        "colab": {
          "base_uri": "https://localhost:8080/",
          "height": 648
        },
        "id": "xsVgAYh3Dvtd",
        "outputId": "81502c1a-d4f7-44d1-8344-e3178c4a0576"
      },
      "source": [
        "data['text_length']=data['unique_char'].str.split().map(lambda x: len(x))\n",
        "data[['unique_char','text_length']].sample(20)\n"
      ],
      "execution_count": 13,
      "outputs": [
        {
          "output_type": "execute_result",
          "data": {
            "text/html": [
              "<div>\n",
              "<style scoped>\n",
              "    .dataframe tbody tr th:only-of-type {\n",
              "        vertical-align: middle;\n",
              "    }\n",
              "\n",
              "    .dataframe tbody tr th {\n",
              "        vertical-align: top;\n",
              "    }\n",
              "\n",
              "    .dataframe thead th {\n",
              "        text-align: right;\n",
              "    }\n",
              "</style>\n",
              "<table border=\"1\" class=\"dataframe\">\n",
              "  <thead>\n",
              "    <tr style=\"text-align: right;\">\n",
              "      <th></th>\n",
              "      <th>unique_char</th>\n",
              "      <th>text_length</th>\n",
              "    </tr>\n",
              "  </thead>\n",
              "  <tbody>\n",
              "    <tr>\n",
              "      <th>41096</th>\n",
              "      <td>['عاهرة عاهرة عاهرة عاهرة عاهرة عاهرة عاهرة عا...</td>\n",
              "      <td>33</td>\n",
              "    </tr>\n",
              "    <tr>\n",
              "      <th>69437</th>\n",
              "      <td>['çest un trés bon service merci davoir crier']</td>\n",
              "      <td>8</td>\n",
              "    </tr>\n",
              "    <tr>\n",
              "      <th>67406</th>\n",
              "      <td>['لو سمحت انا بدور على موبيل برو هو متوفر عندك...</td>\n",
              "      <td>25</td>\n",
              "    </tr>\n",
              "    <tr>\n",
              "      <th>70884</th>\n",
              "      <td>['est ce que la livraison est gratuite sinon t...</td>\n",
              "      <td>12</td>\n",
              "    </tr>\n",
              "    <tr>\n",
              "      <th>117586</th>\n",
              "      <td>['كارثة واله ومازال الشي مادام العروسات لوجه ا...</td>\n",
              "      <td>8</td>\n",
              "    </tr>\n",
              "    <tr>\n",
              "      <th>117401</th>\n",
              "      <td>['واله لعباد مازالت شايخة والسوق دزني وندزك وا...</td>\n",
              "      <td>10</td>\n",
              "    </tr>\n",
              "    <tr>\n",
              "      <th>178719</th>\n",
              "      <td>['wow crazy wish']</td>\n",
              "      <td>3</td>\n",
              "    </tr>\n",
              "    <tr>\n",
              "      <th>181259</th>\n",
              "      <td>['eneyeka radithom mriglin enti mrigl ye stana...</td>\n",
              "      <td>17</td>\n",
              "    </tr>\n",
              "    <tr>\n",
              "      <th>4742</th>\n",
              "      <td>['وجيهة تعجبني وتشرف التمثيل والمسرح في تونس ر...</td>\n",
              "      <td>9</td>\n",
              "    </tr>\n",
              "    <tr>\n",
              "      <th>74888</th>\n",
              "      <td>['younes hala']</td>\n",
              "      <td>2</td>\n",
              "    </tr>\n",
              "    <tr>\n",
              "      <th>66655</th>\n",
              "      <td>['simple rapide et eficace']</td>\n",
              "      <td>4</td>\n",
              "    </tr>\n",
              "    <tr>\n",
              "      <th>63955</th>\n",
              "      <td>['تجربه رائعه لكن لا استطيع اكمال التسوق ويفصل...</td>\n",
              "      <td>11</td>\n",
              "    </tr>\n",
              "    <tr>\n",
              "      <th>35460</th>\n",
              "      <td>['امين']</td>\n",
              "      <td>1</td>\n",
              "    </tr>\n",
              "    <tr>\n",
              "      <th>177922</th>\n",
              "      <td>['rabi slim w inchala elkol haka kifek']</td>\n",
              "      <td>7</td>\n",
              "    </tr>\n",
              "    <tr>\n",
              "      <th>83287</th>\n",
              "      <td>['très bone aplication mais je nai pas pu régl...</td>\n",
              "      <td>19</td>\n",
              "    </tr>\n",
              "    <tr>\n",
              "      <th>42357</th>\n",
              "      <td>['No content']</td>\n",
              "      <td>2</td>\n",
              "    </tr>\n",
              "    <tr>\n",
              "      <th>130286</th>\n",
              "      <td>['سكر الحدود معلم']</td>\n",
              "      <td>3</td>\n",
              "    </tr>\n",
              "    <tr>\n",
              "      <th>132072</th>\n",
              "      <td>['al tasir wal kilab mala']</td>\n",
              "      <td>5</td>\n",
              "    </tr>\n",
              "    <tr>\n",
              "      <th>18895</th>\n",
              "      <td>['No content']</td>\n",
              "      <td>2</td>\n",
              "    </tr>\n",
              "    <tr>\n",
              "      <th>107177</th>\n",
              "      <td>['centralisation']</td>\n",
              "      <td>1</td>\n",
              "    </tr>\n",
              "  </tbody>\n",
              "</table>\n",
              "</div>"
            ],
            "text/plain": [
              "                                              unique_char  text_length\n",
              "41096   ['عاهرة عاهرة عاهرة عاهرة عاهرة عاهرة عاهرة عا...           33\n",
              "69437     ['çest un trés bon service merci davoir crier']            8\n",
              "67406   ['لو سمحت انا بدور على موبيل برو هو متوفر عندك...           25\n",
              "70884   ['est ce que la livraison est gratuite sinon t...           12\n",
              "117586  ['كارثة واله ومازال الشي مادام العروسات لوجه ا...            8\n",
              "117401  ['واله لعباد مازالت شايخة والسوق دزني وندزك وا...           10\n",
              "178719                                 ['wow crazy wish']            3\n",
              "181259  ['eneyeka radithom mriglin enti mrigl ye stana...           17\n",
              "4742    ['وجيهة تعجبني وتشرف التمثيل والمسرح في تونس ر...            9\n",
              "74888                                     ['younes hala']            2\n",
              "66655                        ['simple rapide et eficace']            4\n",
              "63955   ['تجربه رائعه لكن لا استطيع اكمال التسوق ويفصل...           11\n",
              "35460                                            ['امين']            1\n",
              "177922           ['rabi slim w inchala elkol haka kifek']            7\n",
              "83287   ['très bone aplication mais je nai pas pu régl...           19\n",
              "42357                                      ['No content']            2\n",
              "130286                                ['سكر الحدود معلم']            3\n",
              "132072                        ['al tasir wal kilab mala']            5\n",
              "18895                                      ['No content']            2\n",
              "107177                                 ['centralisation']            1"
            ]
          },
          "metadata": {
            "tags": []
          },
          "execution_count": 13
        }
      ]
    },
    {
      "cell_type": "markdown",
      "metadata": {
        "id": "0ZsTZMSKGBBC"
      },
      "source": [
        "number of words on cleaned corpus"
      ]
    },
    {
      "cell_type": "code",
      "metadata": {
        "colab": {
          "base_uri": "https://localhost:8080/"
        },
        "id": "1cylODFCEeuJ",
        "outputId": "97a4ccce-7c1d-4baf-af10-45d43e4dac7a"
      },
      "source": [
        "data['text_length'].sum()"
      ],
      "execution_count": 14,
      "outputs": [
        {
          "output_type": "execute_result",
          "data": {
            "text/plain": [
              "1583826"
            ]
          },
          "metadata": {
            "tags": []
          },
          "execution_count": 14
        }
      ]
    },
    {
      "cell_type": "markdown",
      "metadata": {
        "id": "90YdEfnlD-fT"
      },
      "source": [
        "# Length of characters\n",
        "No regex but added one liner to identify length of words in a sentence\n",
        "\n"
      ]
    },
    {
      "cell_type": "code",
      "metadata": {
        "colab": {
          "base_uri": "https://localhost:8080/",
          "height": 138
        },
        "id": "MVrvwMrfDeXz",
        "outputId": "50f1ba46-576e-4c0c-f6fd-f8a5baf1f906"
      },
      "source": [
        "data['char_length']=data['unique_char'].str.len()\n",
        "data[['unique_char','char_length']].sample(3)"
      ],
      "execution_count": 15,
      "outputs": [
        {
          "output_type": "execute_result",
          "data": {
            "text/html": [
              "<div>\n",
              "<style scoped>\n",
              "    .dataframe tbody tr th:only-of-type {\n",
              "        vertical-align: middle;\n",
              "    }\n",
              "\n",
              "    .dataframe tbody tr th {\n",
              "        vertical-align: top;\n",
              "    }\n",
              "\n",
              "    .dataframe thead th {\n",
              "        text-align: right;\n",
              "    }\n",
              "</style>\n",
              "<table border=\"1\" class=\"dataframe\">\n",
              "  <thead>\n",
              "    <tr style=\"text-align: right;\">\n",
              "      <th></th>\n",
              "      <th>unique_char</th>\n",
              "      <th>char_length</th>\n",
              "    </tr>\n",
              "  </thead>\n",
              "  <tbody>\n",
              "    <tr>\n",
              "      <th>189698</th>\n",
              "      <td>['alohoma ethrib ethalimin b thalimin w minhom...</td>\n",
              "      <td>68</td>\n",
              "    </tr>\n",
              "    <tr>\n",
              "      <th>80346</th>\n",
              "      <td>['excelent aplication bravo']</td>\n",
              "      <td>29</td>\n",
              "    </tr>\n",
              "    <tr>\n",
              "      <th>143028</th>\n",
              "      <td>['la inahikom']</td>\n",
              "      <td>15</td>\n",
              "    </tr>\n",
              "  </tbody>\n",
              "</table>\n",
              "</div>"
            ],
            "text/plain": [
              "                                              unique_char  char_length\n",
              "189698  ['alohoma ethrib ethalimin b thalimin w minhom...           68\n",
              "80346                       ['excelent aplication bravo']           29\n",
              "143028                                    ['la inahikom']           15"
            ]
          },
          "metadata": {
            "tags": []
          },
          "execution_count": 15
        }
      ]
    },
    {
      "cell_type": "markdown",
      "metadata": {
        "id": "cUS5vV19GVB4"
      },
      "source": [
        "number of characters on cleaned corpus"
      ]
    },
    {
      "cell_type": "code",
      "metadata": {
        "colab": {
          "base_uri": "https://localhost:8080/"
        },
        "id": "S6meQe8iGGOy",
        "outputId": "773d48e2-2db0-4006-b62c-a48fcadb50b2"
      },
      "source": [
        "data['char_length'].sum()"
      ],
      "execution_count": 16,
      "outputs": [
        {
          "output_type": "execute_result",
          "data": {
            "text/plain": [
              "9333187"
            ]
          },
          "metadata": {
            "tags": []
          },
          "execution_count": 16
        }
      ]
    },
    {
      "cell_type": "code",
      "metadata": {
        "id": "jVR0bwKdJQYw"
      },
      "source": [
        "data.drop(['text_clean', 'text_length','char_length'], axis=1, inplace=True)"
      ],
      "execution_count": 17,
      "outputs": []
    },
    {
      "cell_type": "code",
      "metadata": {
        "colab": {
          "base_uri": "https://localhost:8080/",
          "height": 198
        },
        "id": "HBOwBbJIIITI",
        "outputId": "d693b094-5225-4efd-8115-688f5a4c7112"
      },
      "source": [
        "data['text_cleaned'] = data['unique_char'].apply(lambda s: \" \".join([word for word in s.split() if word not in noise1gram]))\n",
        "data.head(5)"
      ],
      "execution_count": 47,
      "outputs": [
        {
          "output_type": "execute_result",
          "data": {
            "text/html": [
              "<div>\n",
              "<style scoped>\n",
              "    .dataframe tbody tr th:only-of-type {\n",
              "        vertical-align: middle;\n",
              "    }\n",
              "\n",
              "    .dataframe tbody tr th {\n",
              "        vertical-align: top;\n",
              "    }\n",
              "\n",
              "    .dataframe thead th {\n",
              "        text-align: right;\n",
              "    }\n",
              "</style>\n",
              "<table border=\"1\" class=\"dataframe\">\n",
              "  <thead>\n",
              "    <tr style=\"text-align: right;\">\n",
              "      <th></th>\n",
              "      <th>ID</th>\n",
              "      <th>label</th>\n",
              "      <th>pick_unique</th>\n",
              "      <th>unique_char</th>\n",
              "      <th>text_cleaned</th>\n",
              "    </tr>\n",
              "  </thead>\n",
              "  <tbody>\n",
              "    <tr>\n",
              "      <th>0</th>\n",
              "      <td>0</td>\n",
              "      <td>1</td>\n",
              "      <td>['weldin weldikk bravooooo']</td>\n",
              "      <td>['weldin weldik bravo']</td>\n",
              "      <td>['weldin weldik bravo']</td>\n",
              "    </tr>\n",
              "    <tr>\n",
              "      <th>1</th>\n",
              "      <td>1</td>\n",
              "      <td>1</td>\n",
              "      <td>['bravo amine j aime']</td>\n",
              "      <td>['bravo amine j aime']</td>\n",
              "      <td>['bravo amine j aime']</td>\n",
              "    </tr>\n",
              "    <tr>\n",
              "      <th>2</th>\n",
              "      <td>2</td>\n",
              "      <td>1</td>\n",
              "      <td>['صراحة bravo أحمد الرحموني']</td>\n",
              "      <td>['صراحة bravo أحمد الرحموني']</td>\n",
              "      <td>['صراحة bravo أحمد الرحموني']</td>\n",
              "    </tr>\n",
              "    <tr>\n",
              "      <th>3</th>\n",
              "      <td>3</td>\n",
              "      <td>1</td>\n",
              "      <td>['souut w ziiin lee wlh bch f']</td>\n",
              "      <td>['sout w zin le wlh bch f']</td>\n",
              "      <td>['sout zin le wlh bch f']</td>\n",
              "    </tr>\n",
              "    <tr>\n",
              "      <th>4</th>\n",
              "      <td>4</td>\n",
              "      <td>1</td>\n",
              "      <td>['anaa']</td>\n",
              "      <td>['ana']</td>\n",
              "      <td>['ana']</td>\n",
              "    </tr>\n",
              "  </tbody>\n",
              "</table>\n",
              "</div>"
            ],
            "text/plain": [
              "   ID  label  ...                    unique_char                   text_cleaned\n",
              "0   0      1  ...        ['weldin weldik bravo']        ['weldin weldik bravo']\n",
              "1   1      1  ...         ['bravo amine j aime']         ['bravo amine j aime']\n",
              "2   2      1  ...  ['صراحة bravo أحمد الرحموني']  ['صراحة bravo أحمد الرحموني']\n",
              "3   3      1  ...    ['sout w zin le wlh bch f']      ['sout zin le wlh bch f']\n",
              "4   4      1  ...                        ['ana']                        ['ana']\n",
              "\n",
              "[5 rows x 5 columns]"
            ]
          },
          "metadata": {
            "tags": []
          },
          "execution_count": 47
        }
      ]
    },
    {
      "cell_type": "markdown",
      "metadata": {
        "id": "aEuKAkzRjeAV"
      },
      "source": [
        "# 2,3,4-grmaes after removing inutile words from 1-grmaes"
      ]
    },
    {
      "cell_type": "code",
      "metadata": {
        "id": "VSmFCUq1Xt8L"
      },
      "source": [
        "deux_gram =ngrams_top(data['text_cleaned'],(2,2),n=200)\n",
        "deux_gram.values.tolist()"
      ],
      "execution_count": null,
      "outputs": []
    },
    {
      "cell_type": "code",
      "metadata": {
        "id": "yI7GJ_Cljj9E"
      },
      "source": [
        "trois_gram =ngrams_top(data['text_cleaned'],(3,3),n=200)\n",
        "trois_gram.values.tolist()"
      ],
      "execution_count": null,
      "outputs": []
    },
    {
      "cell_type": "code",
      "metadata": {
        "id": "nvdF79rPmFcv"
      },
      "source": [
        "quatre_gram =ngrams_top(data['text_cleaned'],(4,4),n=200)\n",
        "quatre_gram.values.tolist()"
      ],
      "execution_count": null,
      "outputs": []
    },
    {
      "cell_type": "code",
      "metadata": {
        "id": "uhwLojXqnoRb"
      },
      "source": [
        "n_gram =ngrams_top(data['text_cleaned'],(8,8),n=200)\n",
        "n_gram.values.tolist()"
      ],
      "execution_count": null,
      "outputs": []
    },
    {
      "cell_type": "code",
      "metadata": {
        "colab": {
          "base_uri": "https://localhost:8080/"
        },
        "id": "rge8zudwoU1S",
        "outputId": "4b826408-23b9-4c47-aec0-9235d7ab0d45"
      },
      "source": [
        "data['text_length']=data['text_cleaned'].str.split().map(lambda x: len(x))\n",
        "data[['text_cleaned','text_length']].sample(20)\n",
        "data['text_length'].sum()"
      ],
      "execution_count": 54,
      "outputs": [
        {
          "output_type": "execute_result",
          "data": {
            "text/plain": [
              "1320253"
            ]
          },
          "metadata": {
            "tags": []
          },
          "execution_count": 54
        }
      ]
    },
    {
      "cell_type": "code",
      "metadata": {
        "colab": {
          "base_uri": "https://localhost:8080/"
        },
        "id": "7k4VqxVbpiIT",
        "outputId": "7139c04f-b87a-42ce-dc1f-6d82f966a324"
      },
      "source": [
        "1583826-1320253"
      ],
      "execution_count": 55,
      "outputs": [
        {
          "output_type": "execute_result",
          "data": {
            "text/plain": [
              "263573"
            ]
          },
          "metadata": {
            "tags": []
          },
          "execution_count": 55
        }
      ]
    },
    {
      "cell_type": "markdown",
      "metadata": {
        "id": "pJT5iYegpoAl"
      },
      "source": [
        "c'est deja pas mal de libérer 263573 mots"
      ]
    },
    {
      "cell_type": "code",
      "metadata": {
        "id": "EcWvXNxevdDT"
      },
      "source": [
        "def unifier(phrase):\n",
        "    # specific\n",
        "    phrase = re.sub(r\"trés\", \"tres\", phrase)\n",
        "    phrase = re.sub(r\"très\", \"tres\", phrase)\n",
        "    phrase = re.sub(r\"apli\",\"application\",phrase)\n",
        "    phrase = re.sub(r\"lapli\",\"application\",phrase)\n",
        "    phrase = re.sub(r\"l'aplication\",\"application\",phrase)\n",
        "    phrase = re.sub(r\"l'application\",\"application\",phrase)\n",
        "    phrase = re.sub(r\"aplication\",\"application\",phrase)\n",
        "    \n",
        "    return phrase\n",
        "\n",
        "data['text_cleaned']=data['text_cleaned'].apply(lambda s: unifier(s))"
      ],
      "execution_count": 73,
      "outputs": []
    },
    {
      "cell_type": "code",
      "metadata": {
        "colab": {
          "base_uri": "https://localhost:8080/",
          "height": 407
        },
        "id": "R_7t4s6vzIWq",
        "outputId": "22308f3f-bf78-4bf9-d496-db4f348bfe7e"
      },
      "source": [
        "data"
      ],
      "execution_count": 74,
      "outputs": [
        {
          "output_type": "execute_result",
          "data": {
            "text/html": [
              "<div>\n",
              "<style scoped>\n",
              "    .dataframe tbody tr th:only-of-type {\n",
              "        vertical-align: middle;\n",
              "    }\n",
              "\n",
              "    .dataframe tbody tr th {\n",
              "        vertical-align: top;\n",
              "    }\n",
              "\n",
              "    .dataframe thead th {\n",
              "        text-align: right;\n",
              "    }\n",
              "</style>\n",
              "<table border=\"1\" class=\"dataframe\">\n",
              "  <thead>\n",
              "    <tr style=\"text-align: right;\">\n",
              "      <th></th>\n",
              "      <th>ID</th>\n",
              "      <th>label</th>\n",
              "      <th>pick_unique</th>\n",
              "      <th>unique_char</th>\n",
              "      <th>text_cleaned</th>\n",
              "      <th>text_length</th>\n",
              "    </tr>\n",
              "  </thead>\n",
              "  <tbody>\n",
              "    <tr>\n",
              "      <th>0</th>\n",
              "      <td>0</td>\n",
              "      <td>1</td>\n",
              "      <td>['weldin weldikk bravooooo']</td>\n",
              "      <td>['weldin weldik bravo']</td>\n",
              "      <td>['weldin weldik bravo']</td>\n",
              "      <td>3</td>\n",
              "    </tr>\n",
              "    <tr>\n",
              "      <th>1</th>\n",
              "      <td>1</td>\n",
              "      <td>1</td>\n",
              "      <td>['bravo amine j aime']</td>\n",
              "      <td>['bravo amine j aime']</td>\n",
              "      <td>['bravo amine j aime']</td>\n",
              "      <td>4</td>\n",
              "    </tr>\n",
              "    <tr>\n",
              "      <th>2</th>\n",
              "      <td>2</td>\n",
              "      <td>1</td>\n",
              "      <td>['صراحة bravo أحمد الرحموني']</td>\n",
              "      <td>['صراحة bravo أحمد الرحموني']</td>\n",
              "      <td>['صراحة bravo أحمد الرحموني']</td>\n",
              "      <td>4</td>\n",
              "    </tr>\n",
              "    <tr>\n",
              "      <th>3</th>\n",
              "      <td>3</td>\n",
              "      <td>1</td>\n",
              "      <td>['souut w ziiin lee wlh bch f']</td>\n",
              "      <td>['sout w zin le wlh bch f']</td>\n",
              "      <td>['sout zin le wlh bch f']</td>\n",
              "      <td>6</td>\n",
              "    </tr>\n",
              "    <tr>\n",
              "      <th>4</th>\n",
              "      <td>4</td>\n",
              "      <td>1</td>\n",
              "      <td>['anaa']</td>\n",
              "      <td>['ana']</td>\n",
              "      <td>['ana']</td>\n",
              "      <td>1</td>\n",
              "    </tr>\n",
              "    <tr>\n",
              "      <th>...</th>\n",
              "      <td>...</td>\n",
              "      <td>...</td>\n",
              "      <td>...</td>\n",
              "      <td>...</td>\n",
              "      <td>...</td>\n",
              "      <td>...</td>\n",
              "    </tr>\n",
              "    <tr>\n",
              "      <th>199092</th>\n",
              "      <td>69995</td>\n",
              "      <td>1</td>\n",
              "      <td>['amazing love']</td>\n",
              "      <td>['amazing love']</td>\n",
              "      <td>['amazing love']</td>\n",
              "      <td>2</td>\n",
              "    </tr>\n",
              "    <tr>\n",
              "      <th>199093</th>\n",
              "      <td>69996</td>\n",
              "      <td>1</td>\n",
              "      <td>['ena raniiiiiiiiiii eriahi ca bolomètre kleb ...</td>\n",
              "      <td>['ena rani eriahi ca bolomètre kleb leyeme bin...</td>\n",
              "      <td>['ena rani eriahi ca bolomètre kleb leyeme bin...</td>\n",
              "      <td>15</td>\n",
              "    </tr>\n",
              "    <tr>\n",
              "      <th>199094</th>\n",
              "      <td>69997</td>\n",
              "      <td>0</td>\n",
              "      <td>['hada maycharafech tounis']</td>\n",
              "      <td>['hada maycharafech tounis']</td>\n",
              "      <td>['hada maycharafech tounis']</td>\n",
              "      <td>3</td>\n",
              "    </tr>\n",
              "    <tr>\n",
              "      <th>199095</th>\n",
              "      <td>69998</td>\n",
              "      <td>0</td>\n",
              "      <td>['leken rajlek haw wemcher inteviou']</td>\n",
              "      <td>['leken rajlek haw wemcher inteviou']</td>\n",
              "      <td>['leken rajlek haw wemcher inteviou']</td>\n",
              "      <td>5</td>\n",
              "    </tr>\n",
              "    <tr>\n",
              "      <th>199096</th>\n",
              "      <td>69999</td>\n",
              "      <td>1</td>\n",
              "      <td>['rabi kad kalbk']</td>\n",
              "      <td>['rabi kad kalbk']</td>\n",
              "      <td>['rabi kad kalbk']</td>\n",
              "      <td>3</td>\n",
              "    </tr>\n",
              "  </tbody>\n",
              "</table>\n",
              "<p>199097 rows × 6 columns</p>\n",
              "</div>"
            ],
            "text/plain": [
              "           ID  ...  text_length\n",
              "0           0  ...            3\n",
              "1           1  ...            4\n",
              "2           2  ...            4\n",
              "3           3  ...            6\n",
              "4           4  ...            1\n",
              "...       ...  ...          ...\n",
              "199092  69995  ...            2\n",
              "199093  69996  ...           15\n",
              "199094  69997  ...            3\n",
              "199095  69998  ...            5\n",
              "199096  69999  ...            3\n",
              "\n",
              "[199097 rows x 6 columns]"
            ]
          },
          "metadata": {
            "tags": []
          },
          "execution_count": 74
        }
      ]
    },
    {
      "cell_type": "code",
      "metadata": {
        "id": "loU6bULDzPm8"
      },
      "source": [
        "data.drop(['pick_unique', 'unique_char','text_length'], axis=1, inplace=True)"
      ],
      "execution_count": 75,
      "outputs": []
    },
    {
      "cell_type": "code",
      "metadata": {
        "colab": {
          "base_uri": "https://localhost:8080/",
          "height": 198
        },
        "id": "Kl2DT8aNzb_V",
        "outputId": "b7cdf6d6-6ca5-4407-f306-fa35ea85530e"
      },
      "source": [
        "data.head()"
      ],
      "execution_count": 77,
      "outputs": [
        {
          "output_type": "execute_result",
          "data": {
            "text/html": [
              "<div>\n",
              "<style scoped>\n",
              "    .dataframe tbody tr th:only-of-type {\n",
              "        vertical-align: middle;\n",
              "    }\n",
              "\n",
              "    .dataframe tbody tr th {\n",
              "        vertical-align: top;\n",
              "    }\n",
              "\n",
              "    .dataframe thead th {\n",
              "        text-align: right;\n",
              "    }\n",
              "</style>\n",
              "<table border=\"1\" class=\"dataframe\">\n",
              "  <thead>\n",
              "    <tr style=\"text-align: right;\">\n",
              "      <th></th>\n",
              "      <th>ID</th>\n",
              "      <th>label</th>\n",
              "      <th>text_cleaned</th>\n",
              "    </tr>\n",
              "  </thead>\n",
              "  <tbody>\n",
              "    <tr>\n",
              "      <th>0</th>\n",
              "      <td>0</td>\n",
              "      <td>1</td>\n",
              "      <td>['weldin weldik bravo']</td>\n",
              "    </tr>\n",
              "    <tr>\n",
              "      <th>1</th>\n",
              "      <td>1</td>\n",
              "      <td>1</td>\n",
              "      <td>['bravo amine j aime']</td>\n",
              "    </tr>\n",
              "    <tr>\n",
              "      <th>2</th>\n",
              "      <td>2</td>\n",
              "      <td>1</td>\n",
              "      <td>['صراحة bravo أحمد الرحموني']</td>\n",
              "    </tr>\n",
              "    <tr>\n",
              "      <th>3</th>\n",
              "      <td>3</td>\n",
              "      <td>1</td>\n",
              "      <td>['sout zin le wlh bch f']</td>\n",
              "    </tr>\n",
              "    <tr>\n",
              "      <th>4</th>\n",
              "      <td>4</td>\n",
              "      <td>1</td>\n",
              "      <td>['ana']</td>\n",
              "    </tr>\n",
              "  </tbody>\n",
              "</table>\n",
              "</div>"
            ],
            "text/plain": [
              "   ID  label                   text_cleaned\n",
              "0   0      1        ['weldin weldik bravo']\n",
              "1   1      1         ['bravo amine j aime']\n",
              "2   2      1  ['صراحة bravo أحمد الرحموني']\n",
              "3   3      1      ['sout zin le wlh bch f']\n",
              "4   4      1                        ['ana']"
            ]
          },
          "metadata": {
            "tags": []
          },
          "execution_count": 77
        }
      ]
    },
    {
      "cell_type": "code",
      "metadata": {
        "colab": {
          "base_uri": "https://localhost:8080/",
          "height": 198
        },
        "id": "qokdqoN_zr8r",
        "outputId": "49fb67b4-1552-4716-c092-f8bdd55a4e4c"
      },
      "source": [
        "#save our clean dataframe into csv file\n",
        "#data.to_csv ('cleaned_data.csv')\n",
        "data.rename(index=str, columns={'text_cleaned':'text_clean'},inplace=True)\n",
        "#save our clean dataframe into csv file\n",
        "data.head()"
      ],
      "execution_count": 121,
      "outputs": [
        {
          "output_type": "execute_result",
          "data": {
            "text/html": [
              "<div>\n",
              "<style scoped>\n",
              "    .dataframe tbody tr th:only-of-type {\n",
              "        vertical-align: middle;\n",
              "    }\n",
              "\n",
              "    .dataframe tbody tr th {\n",
              "        vertical-align: top;\n",
              "    }\n",
              "\n",
              "    .dataframe thead th {\n",
              "        text-align: right;\n",
              "    }\n",
              "</style>\n",
              "<table border=\"1\" class=\"dataframe\">\n",
              "  <thead>\n",
              "    <tr style=\"text-align: right;\">\n",
              "      <th></th>\n",
              "      <th>ID</th>\n",
              "      <th>label</th>\n",
              "      <th>text_clean</th>\n",
              "    </tr>\n",
              "  </thead>\n",
              "  <tbody>\n",
              "    <tr>\n",
              "      <th>0</th>\n",
              "      <td>0</td>\n",
              "      <td>1</td>\n",
              "      <td>['weldin weldik bravo']</td>\n",
              "    </tr>\n",
              "    <tr>\n",
              "      <th>1</th>\n",
              "      <td>1</td>\n",
              "      <td>1</td>\n",
              "      <td>['bravo amine j aime']</td>\n",
              "    </tr>\n",
              "    <tr>\n",
              "      <th>2</th>\n",
              "      <td>2</td>\n",
              "      <td>1</td>\n",
              "      <td>['صراحة bravo أحمد الرحموني']</td>\n",
              "    </tr>\n",
              "    <tr>\n",
              "      <th>3</th>\n",
              "      <td>3</td>\n",
              "      <td>1</td>\n",
              "      <td>['sout zin le wlh bch f']</td>\n",
              "    </tr>\n",
              "    <tr>\n",
              "      <th>4</th>\n",
              "      <td>4</td>\n",
              "      <td>1</td>\n",
              "      <td>['ana']</td>\n",
              "    </tr>\n",
              "  </tbody>\n",
              "</table>\n",
              "</div>"
            ],
            "text/plain": [
              "   ID  label                     text_clean\n",
              "0   0      1        ['weldin weldik bravo']\n",
              "1   1      1         ['bravo amine j aime']\n",
              "2   2      1  ['صراحة bravo أحمد الرحموني']\n",
              "3   3      1      ['sout zin le wlh bch f']\n",
              "4   4      1                        ['ana']"
            ]
          },
          "metadata": {
            "tags": []
          },
          "execution_count": 121
        }
      ]
    },
    {
      "cell_type": "code",
      "metadata": {
        "id": "bUuNi5cp6uAv"
      },
      "source": [
        "data.to_csv('cleaned_data.csv',index=False)"
      ],
      "execution_count": 122,
      "outputs": []
    },
    {
      "cell_type": "code",
      "metadata": {
        "colab": {
          "base_uri": "https://localhost:8080/",
          "height": 198
        },
        "id": "snCVc_GH7AV2",
        "outputId": "8aca3a2f-09c4-40fa-dbcd-6eefae34ddf0"
      },
      "source": [
        "data = pd.read_csv('/content/cleaned_data.csv')\n",
        "data.head()"
      ],
      "execution_count": 123,
      "outputs": [
        {
          "output_type": "execute_result",
          "data": {
            "text/html": [
              "<div>\n",
              "<style scoped>\n",
              "    .dataframe tbody tr th:only-of-type {\n",
              "        vertical-align: middle;\n",
              "    }\n",
              "\n",
              "    .dataframe tbody tr th {\n",
              "        vertical-align: top;\n",
              "    }\n",
              "\n",
              "    .dataframe thead th {\n",
              "        text-align: right;\n",
              "    }\n",
              "</style>\n",
              "<table border=\"1\" class=\"dataframe\">\n",
              "  <thead>\n",
              "    <tr style=\"text-align: right;\">\n",
              "      <th></th>\n",
              "      <th>ID</th>\n",
              "      <th>label</th>\n",
              "      <th>text_clean</th>\n",
              "    </tr>\n",
              "  </thead>\n",
              "  <tbody>\n",
              "    <tr>\n",
              "      <th>0</th>\n",
              "      <td>0</td>\n",
              "      <td>1</td>\n",
              "      <td>['weldin weldik bravo']</td>\n",
              "    </tr>\n",
              "    <tr>\n",
              "      <th>1</th>\n",
              "      <td>1</td>\n",
              "      <td>1</td>\n",
              "      <td>['bravo amine j aime']</td>\n",
              "    </tr>\n",
              "    <tr>\n",
              "      <th>2</th>\n",
              "      <td>2</td>\n",
              "      <td>1</td>\n",
              "      <td>['صراحة bravo أحمد الرحموني']</td>\n",
              "    </tr>\n",
              "    <tr>\n",
              "      <th>3</th>\n",
              "      <td>3</td>\n",
              "      <td>1</td>\n",
              "      <td>['sout zin le wlh bch f']</td>\n",
              "    </tr>\n",
              "    <tr>\n",
              "      <th>4</th>\n",
              "      <td>4</td>\n",
              "      <td>1</td>\n",
              "      <td>['ana']</td>\n",
              "    </tr>\n",
              "  </tbody>\n",
              "</table>\n",
              "</div>"
            ],
            "text/plain": [
              "   ID  label                     text_clean\n",
              "0   0      1        ['weldin weldik bravo']\n",
              "1   1      1         ['bravo amine j aime']\n",
              "2   2      1  ['صراحة bravo أحمد الرحموني']\n",
              "3   3      1      ['sout zin le wlh bch f']\n",
              "4   4      1                        ['ana']"
            ]
          },
          "metadata": {
            "tags": []
          },
          "execution_count": 123
        }
      ]
    }
  ]
}