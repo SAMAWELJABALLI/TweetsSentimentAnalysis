{
  "nbformat": 4,
  "nbformat_minor": 0,
  "metadata": {
    "colab": {
      "name": "template_validation_model.ipynb",
      "provenance": [],
      "collapsed_sections": [],
      "authorship_tag": "ABX9TyNBowGgLgwEFqivqr+WMSoE",
      "include_colab_link": true
    },
    "kernelspec": {
      "name": "python3",
      "display_name": "Python 3"
    },
    "language_info": {
      "name": "python"
    }
  },
  "cells": [
    {
      "cell_type": "markdown",
      "metadata": {
        "id": "view-in-github",
        "colab_type": "text"
      },
      "source": [
        "<a href=\"https://colab.research.google.com/github/SAMAWELJABALLI/TweetsSentimentAnalysis/blob/main/template_validation_model.ipynb\" target=\"_parent\"><img src=\"https://colab.research.google.com/assets/colab-badge.svg\" alt=\"Open In Colab\"/></a>"
      ]
    },
    {
      "cell_type": "code",
      "metadata": {
        "colab": {
          "base_uri": "https://localhost:8080/"
        },
        "id": "JZ42DvI51km1",
        "outputId": "d1630c80-8fd9-46ce-bb10-b37914484d63"
      },
      "source": [
        "# This Python 3 environment comes with many helpful analytics libraries installed\n",
        "# It is defined by the kaggle/python docker image: https://github.com/kaggle/docker-python\n",
        "# For example, here's several helpful packages to load in \n",
        "\n",
        "import numpy as np # linear algebra\n",
        "import pandas as pd # data processing, CSV file I/O (e.g. pd.read_csv)\n",
        "from sklearn.utils import resample\n",
        "    \n",
        "from sklearn.feature_extraction.text import CountVectorizer\n",
        "from keras.preprocessing.text import Tokenizer\n",
        "from keras.preprocessing.sequence import pad_sequences\n",
        "from keras.models import Sequential\n",
        "from keras.layers import Dense, Embedding, LSTM, SpatialDropout1D\n",
        "from sklearn.model_selection import train_test_split\n",
        "from keras.utils.np_utils import to_categorical\n",
        "import re\n",
        "from keras.callbacks import ModelCheckpoint\n",
        "import tensorflow as tf\n",
        "from keras.models import load_model\n",
        "\n",
        "from keras.preprocessing.text import Tokenizer\n",
        "from keras.preprocessing.sequence import pad_sequences\n",
        "from keras.layers import Dense , Input , LSTM , Embedding, Dropout , Activation, GRU, Flatten\n",
        "from keras.layers import Bidirectional, GlobalMaxPool1D\n",
        "from keras.models import Model, Sequential\n",
        "from keras.layers import Convolution1D\n",
        "from keras import initializers, regularizers, constraints, optimizers, layers\n",
        "# Input data files are available in the \"../input/\" directory.\n",
        "# For example, running this (by clicking run or pressing Shift+Enter) will list the files in the input directory\n",
        "# Load data and set labels from corpus 1 \n",
        "data = pd.read_csv('/content/data_processed.csv')\n",
        "print(f'Shape of data is {data.shape}')\n",
        "# Display 20 random samples\n",
        "data.sample(20)\n",
        "data[\"text_clean\"].fillna(\"No content\", inplace = True)\n",
        "\n",
        "# Separate majority and minority classes in training data for upsampling \n",
        "data_majority = data[data['label'] == 0]\n",
        "data_minority = data[data['label'] == 1]\n",
        "\n",
        "print(\"majority class before upsample:\",data_majority.shape)\n",
        "print(\"minority class before upsample:\",data_minority.shape)\n",
        "\n",
        "# Upsample minority class\n",
        "data_minority_upsampled = resample(data_minority, \n",
        "                                 replace=True,     # sample with replacement\n",
        "                                 n_samples= data_majority.shape[0],    # to match majority class\n",
        "                                 random_state=123) # reproducible results\n",
        "\n",
        "# Combine majority class with upsampled minority class\n",
        "data_upsampled = pd.concat([data_majority, data_minority_upsampled])\n",
        " \n",
        "# Display new class counts\n",
        "print(\"After upsampling\\n\",data_upsampled.label.value_counts(),sep = \"\")\n",
        "\n",
        "from sklearn.utils import shuffle\n",
        "data_upsampled = shuffle(data_upsampled)\n",
        "\n",
        "from keras.preprocessing.text import Tokenizer\n",
        "data_upsampled = data_upsampled.sample(1000,random_state=100)\n",
        "print (data_upsampled.shape)\n",
        "max_fatures = 2000\n",
        "tokenizer = Tokenizer(num_words=max_fatures, split=' ')\n",
        "tokenizer.fit_on_texts(data_upsampled['text_clean'].values.astype(str))\n",
        "X = tokenizer.texts_to_sequences(data_upsampled['text_clean'].values.astype(str))\n",
        "X = pad_sequences(X)\n",
        "\n",
        "print(X[1])\n",
        "print(X.shape)\n",
        "labels = np.array(data_upsampled['label'])\n",
        "y = []\n",
        "for i in range(len(labels)):\n",
        "    if labels[i] == 0:\n",
        "        y.append(0)\n",
        "    if labels[i] == 1:\n",
        "        y.append(1)\n",
        "\n",
        "y = np.array(y)\n",
        "labels = tf.keras.utils.to_categorical(y, 2, dtype=\"int\")\n",
        "labels.shape\n",
        "X_train, X_test, Y_train, Y_test = train_test_split(X, labels, test_size = 0.30, random_state = 42)\n",
        "\n",
        "print(X_train.shape,Y_train.shape)\n",
        "print(X_test.shape,Y_test.shape)"
      ],
      "execution_count": 1,
      "outputs": [
        {
          "output_type": "stream",
          "text": [
            "Shape of data is (163412, 3)\n",
            "majority class before upsample: (46831, 3)\n",
            "minority class before upsample: (116580, 3)\n",
            "After upsampling\n",
            "1.0    46831\n",
            "0.0    46831\n",
            "Name: label, dtype: int64\n"
          ],
          "name": "stdout"
        }
      ]
    },
    {
      "cell_type": "code",
      "metadata": {
        "colab": {
          "base_uri": "https://localhost:8080/"
        },
        "id": "ZIpdZIF-1s2z",
        "outputId": "5f34d5ed-d5fa-44f8-f3c2-41ab56179a38"
      },
      "source": [
        "# model\n",
        "embed_dim = 128\n",
        "lstm_out = 192\n",
        "EPOCHS = 2\n",
        "checkpoint_filepath = 'model9.hdf5'\n",
        "BATCH_SIZE =64\n",
        "\n",
        "model = Sequential()\n",
        "model.add(Embedding(max_fatures, embed_dim,input_length = 130))\n",
        "model.add(SpatialDropout1D(0.4))\n",
        "model.add(LSTM(lstm_out, dropout=0.2, recurrent_dropout=0.2))\n",
        "model.add(Dense(2,activation='sigmoid'))\n",
        "model.compile(loss = 'BinaryCrossentropy', optimizer='adam',metrics = ['accuracy'])\n",
        "print(model.summary())\n",
        "\n",
        "checkpoint = ModelCheckpoint(filepath=checkpoint_filepath, monitor='val_accuracy', verbose=1,save_best_only=True, mode='max', period=1,save_weights_only=True)\n",
        "history = model.fit(X_train, Y_train, epochs=EPOCHS, validation_data=(X_test, Y_test),callbacks=[checkpoint],batch_size = BATCH_SIZE)\n",
        "np.save('my_history1.npy',history.history)\n",
        "model.save(checkpoint_filepath)\n",
        "\n"
      ],
      "execution_count": 6,
      "outputs": [
        {
          "output_type": "stream",
          "text": [
            "Model: \"sequential_2\"\n",
            "_________________________________________________________________\n",
            "Layer (type)                 Output Shape              Param #   \n",
            "=================================================================\n",
            "embedding_2 (Embedding)      (None, 130, 128)          256000    \n",
            "_________________________________________________________________\n",
            "spatial_dropout1d_2 (Spatial (None, 130, 128)          0         \n",
            "_________________________________________________________________\n",
            "lstm_2 (LSTM)                (None, 192)               246528    \n",
            "_________________________________________________________________\n",
            "dense_2 (Dense)              (None, 2)                 386       \n",
            "=================================================================\n",
            "Total params: 502,914\n",
            "Trainable params: 502,914\n",
            "Non-trainable params: 0\n",
            "_________________________________________________________________\n",
            "None\n",
            "WARNING:tensorflow:`period` argument is deprecated. Please use `save_freq` to specify the frequency in number of batches seen.\n",
            "Epoch 1/2\n",
            "WARNING:tensorflow:Model was constructed with shape (None, 130) for input KerasTensor(type_spec=TensorSpec(shape=(None, 130), dtype=tf.float32, name='embedding_2_input'), name='embedding_2_input', description=\"created by layer 'embedding_2_input'\"), but it was called on an input with incompatible shape (None, 119).\n",
            "WARNING:tensorflow:Model was constructed with shape (None, 130) for input KerasTensor(type_spec=TensorSpec(shape=(None, 130), dtype=tf.float32, name='embedding_2_input'), name='embedding_2_input', description=\"created by layer 'embedding_2_input'\"), but it was called on an input with incompatible shape (None, 119).\n",
            "11/11 [==============================] - ETA: 0s - loss: 0.6913 - accuracy: 0.5251WARNING:tensorflow:Model was constructed with shape (None, 130) for input KerasTensor(type_spec=TensorSpec(shape=(None, 130), dtype=tf.float32, name='embedding_2_input'), name='embedding_2_input', description=\"created by layer 'embedding_2_input'\"), but it was called on an input with incompatible shape (None, 119).\n",
            "11/11 [==============================] - 12s 760ms/step - loss: 0.6914 - accuracy: 0.5250 - val_loss: 0.6842 - val_accuracy: 0.5367\n",
            "\n",
            "Epoch 00001: val_accuracy improved from -inf to 0.53667, saving model to model9.hdf5\n",
            "Epoch 2/2\n",
            "11/11 [==============================] - 7s 677ms/step - loss: 0.6820 - accuracy: 0.5710 - val_loss: 0.6794 - val_accuracy: 0.6233\n",
            "\n",
            "Epoch 00002: val_accuracy improved from 0.53667 to 0.62333, saving model to model9.hdf5\n"
          ],
          "name": "stdout"
        }
      ]
    },
    {
      "cell_type": "code",
      "metadata": {
        "id": "LKA0l9bOEOIH"
      },
      "source": [
        "'''#weights \n",
        "model.load_weights(checkpoint_filepath)\n",
        "model.get_weights()\n",
        "model.save_weights(checkpoint_filepath, overwrite=True, save_format=None, options=None)\n",
        "'''"
      ],
      "execution_count": 5,
      "outputs": []
    },
    {
      "cell_type": "code",
      "metadata": {
        "colab": {
          "base_uri": "https://localhost:8080/",
          "height": 295
        },
        "id": "7qP9qiO744jQ",
        "outputId": "7f3dca5b-046c-41a3-fda5-73b08f3cdba5"
      },
      "source": [
        "from matplotlib import pyplot as plt\n",
        "plt.plot(history.history['accuracy'])\n",
        "plt.plot(history.history['val_accuracy'])\n",
        "plt.title('model accuracy')\n",
        "plt.ylabel('accuracy')\n",
        "plt.xlabel('epoch')\n",
        "plt.legend(['train', 'val'], loc='upper left')\n",
        "plt.show()"
      ],
      "execution_count": 42,
      "outputs": [
        {
          "output_type": "display_data",
          "data": {
            "image/png": "[encoded data removed]",
            "text/plain": [
              "<Figure size 432x288 with 1 Axes>"
            ]
          },
          "metadata": {
            "tags": [],
            "needs_background": "light"
          }
        }
      ]
    },
    {
      "cell_type": "code",
      "metadata": {
        "colab": {
          "base_uri": "https://localhost:8080/",
          "height": 295
        },
        "id": "frsiU88s5QMa",
        "outputId": "62b19383-f48c-4dc3-dee9-3b63b1db0edf"
      },
      "source": [
        "plt.plot(history.history['loss'])\n",
        "plt.plot(history.history['val_loss'])\n",
        "plt.title('model loss')\n",
        "plt.ylabel('loss')\n",
        "plt.xlabel('epoch')\n",
        "plt.legend(['train', 'val'], loc='upper left')\n",
        "plt.show()"
      ],
      "execution_count": 43,
      "outputs": [
        {
          "output_type": "display_data",
          "data": {
            "image/png": "[encoded data removed]",
            "text/plain": [
              "<Figure size 432x288 with 1 Axes>"
            ]
          },
          "metadata": {
            "tags": [],
            "needs_background": "light"
          }
        }
      ]
    },
    {
      "cell_type": "code",
      "metadata": {
        "colab": {
          "base_uri": "https://localhost:8080/",
          "height": 320
        },
        "id": "be93yN-p5bE1",
        "outputId": "7c46e619-6791-4332-df43-8c7c2bef86dd"
      },
      "source": [
        "pd.DataFrame(history.history).plot(figsize=(8,5))\n",
        "plt.show()\n"
      ],
      "execution_count": 21,
      "outputs": [
        {
          "output_type": "display_data",
          "data": {
            "image/png": "[encoded data removed]",
            "text/plain": [
              "<Figure size 576x360 with 1 Axes>"
            ]
          },
          "metadata": {
            "tags": [],
            "needs_background": "light"
          }
        }
      ]
    },
    {
      "cell_type": "markdown",
      "metadata": {
        "id": "owhWPmU35j8a"
      },
      "source": [
        "This builds a graph with the available metrics of the history for all datasets of the history\n",
        "\n"
      ]
    },
    {
      "cell_type": "code",
      "metadata": {
        "colab": {
          "base_uri": "https://localhost:8080/"
        },
        "id": "Cpj46k0p5g4S",
        "outputId": "7019e163-aab1-4ff5-ddbe-bb3aaf700294"
      },
      "source": [
        "# Evaluate the model2\n",
        "loss, acc = model.evaluate(X_test, Y_test, verbose=1)\n",
        "print(\"Untrained model, accuracy: {:5.2f}%\".format(100 * acc))"
      ],
      "execution_count": 22,
      "outputs": [
        {
          "output_type": "stream",
          "text": [
            "10/10 [==============================] - 0s 44ms/step - loss: 0.6767 - accuracy: 0.5933\n",
            "Untrained model, accuracy: 59.33%\n"
          ],
          "name": "stdout"
        }
      ]
    },
    {
      "cell_type": "code",
      "metadata": {
        "colab": {
          "base_uri": "https://localhost:8080/"
        },
        "id": "v1hgOeku56r0",
        "outputId": "8d9ac33f-5b35-40e8-89c4-e8a4844c92a1"
      },
      "source": [
        "#test validation\n",
        "from sklearn.metrics import confusion_matrix,classification_report\n",
        "\n",
        "\n",
        "Y_pred = model.predict_classes(X_test,batch_size = 128)\n",
        "df_test = pd.DataFrame({'true': Y_test.tolist(), 'pred':Y_pred})\n",
        "df_test['true'] = df_test['true'].apply(lambda x: np.argmax(x))\n",
        "print(\"confusion matrix\",confusion_matrix(df_test.true, df_test.pred))\n",
        "print(classification_report(df_test.true, df_test.pred))"
      ],
      "execution_count": 24,
      "outputs": [
        {
          "output_type": "stream",
          "text": [
            "/usr/local/lib/python3.7/dist-packages/keras/engine/sequential.py:450: UserWarning: `model.predict_classes()` is deprecated and will be removed after 2021-01-01. Please use instead:* `np.argmax(model.predict(x), axis=-1)`,   if your model does multi-class classification   (e.g. if it uses a `softmax` last-layer activation).* `(model.predict(x) > 0.5).astype(\"int32\")`,   if your model does binary classification   (e.g. if it uses a `sigmoid` last-layer activation).\n",
            "  warnings.warn('`model.predict_classes()` is deprecated and '\n"
          ],
          "name": "stderr"
        },
        {
          "output_type": "stream",
          "text": [
            "WARNING:tensorflow:Model was constructed with shape (None, 130) for input KerasTensor(type_spec=TensorSpec(shape=(None, 130), dtype=tf.float32, name='embedding_4_input'), name='embedding_4_input', description=\"created by layer 'embedding_4_input'\"), but it was called on an input with incompatible shape (None, 86).\n",
            "confusion matrix [[ 61  89]\n",
            " [ 33 117]]\n",
            "              precision    recall  f1-score   support\n",
            "\n",
            "           0       0.65      0.41      0.50       150\n",
            "           1       0.57      0.78      0.66       150\n",
            "\n",
            "    accuracy                           0.59       300\n",
            "   macro avg       0.61      0.59      0.58       300\n",
            "weighted avg       0.61      0.59      0.58       300\n",
            "\n"
          ],
          "name": "stdout"
        }
      ]
    },
    {
      "cell_type": "code",
      "metadata": {
        "id": "-X83c9my58da"
      },
      "source": [
        "# model1\n",
        "text = ['ربي يشفيلك بوك،وان شاء الله غصرة وتتعدى']\n",
        "def pred(text):\n",
        "  #vectorizing the tweet by the pre-fitted tokenizer instance\n",
        "  twt = tokenizer.texts_to_sequences(text)\n",
        "  #padding the tweet to have exactly the same shape as `embedding_2` input\n",
        "  twt = pad_sequences(twt, maxlen=X.shape[1], dtype='int32', value=0)\n",
        "  print(text)\n",
        "  print(twt)\n",
        "  sentiment = model.predict(twt)[0]\n",
        "  if(np.argmax(sentiment) == 0):\n",
        "      print(\"***negative***\")\n",
        "  elif (np.argmax(sentiment) == 1):\n",
        "      print(\"***positive***\")"
      ],
      "execution_count": 25,
      "outputs": []
    },
    {
      "cell_type": "code",
      "metadata": {
        "colab": {
          "base_uri": "https://localhost:8080/"
        },
        "id": "upnKoFFV6Efq",
        "outputId": "f75a75a0-cc72-4d3d-c049-07131f7b70a3"
      },
      "source": [
        "pred(text)"
      ],
      "execution_count": 26,
      "outputs": [
        {
          "output_type": "stream",
          "text": [
            "['ربي يشفيلك بوك،وان شاء الله غصرة وتتعدى']\n",
            "[[  0   0   0   0   0   0   0   0   0   0   0   0   0   0   0   0   0   0\n",
            "    0   0   0   0   0   0   0   0   0   0   0   0   0   0   0   0   0   0\n",
            "    0   0   0   0   0   0   0   0   0   0   0   0   0   0   0   0   0   0\n",
            "    0   0   0   0   0   0   0   0   0   0   0   0   0   0   0   0   0   0\n",
            "    0   0   0   0   0   0   0   0   0   0   0  10 190  16]]\n",
            "***positive***\n"
          ],
          "name": "stdout"
        }
      ]
    },
    {
      "cell_type": "code",
      "metadata": {
        "id": "h3diJyz76F1I"
      },
      "source": [
        "model2 = load_model('/content/best_model2.hdf5')\n",
        "model1 = load_model('/content/best_model1.hdf5')\n"
      ],
      "execution_count": 31,
      "outputs": []
    },
    {
      "cell_type": "code",
      "metadata": {
        "colab": {
          "base_uri": "https://localhost:8080/"
        },
        "id": "QgTXPcMC6d90",
        "outputId": "31d33ad0-7a90-4a81-98f9-276b1c4d37db"
      },
      "source": [
        "model2.summary()"
      ],
      "execution_count": 33,
      "outputs": [
        {
          "output_type": "stream",
          "text": [
            "Model: \"sequential\"\n",
            "_________________________________________________________________\n",
            "Layer (type)                 Output Shape              Param #   \n",
            "=================================================================\n",
            "embedding (Embedding)        (None, 541, 128)          384000    \n",
            "_________________________________________________________________\n",
            "spatial_dropout1d (SpatialDr (None, 541, 128)          0         \n",
            "_________________________________________________________________\n",
            "lstm (LSTM)                  (None, 196)               254800    \n",
            "_________________________________________________________________\n",
            "dense (Dense)                (None, 2)                 394       \n",
            "=================================================================\n",
            "Total params: 639,194\n",
            "Trainable params: 639,194\n",
            "Non-trainable params: 0\n",
            "_________________________________________________________________\n"
          ],
          "name": "stdout"
        }
      ]
    },
    {
      "cell_type": "code",
      "metadata": {
        "id": "uqXW5zre61OD"
      },
      "source": [
        ""
      ],
      "execution_count": null,
      "outputs": []
    }
  ]
}